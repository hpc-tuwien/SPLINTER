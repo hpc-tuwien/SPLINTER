{
 "cells": [
  {
   "cell_type": "code",
   "source": [
    "import tensorflow as tf\n",
    "from keras import Sequential\n",
    "from tqdm.notebook import tqdm\n",
    "from vit_keras import vit\n",
    "\n",
    "from ViT.utils import split_functional_model"
   ],
   "metadata": {
    "collapsed": false
   },
   "id": "efc695085e37d8c9",
   "execution_count": null,
   "outputs": []
  },
  {
   "cell_type": "code",
   "source": [
    "def save_tflite(model, name):\n",
    "    # Convert the model.\n",
    "    converter = tf.lite.TFLiteConverter.from_keras_model(model)\n",
    "    tflite_model = converter.convert()\n",
    "\n",
    "    # Save the model.\n",
    "    with open(\"models/head/\" + str(name) + '.tflite', 'wb') as f:\n",
    "        f.write(tflite_model)"
   ],
   "metadata": {
    "collapsed": false
   },
   "id": "4d4c79269c8c123",
   "execution_count": null,
   "outputs": []
  },
  {
   "cell_type": "code",
   "source": [
    "def igelu(x):\n",
    "    import math\n",
    "    a = -0.2888\n",
    "    b = -1.769\n",
    "    return 0.5 * x * (1 + (tf.math.tanh(1000 * (x / math.sqrt(2))) * (\n",
    "                a * (tf.math.minimum((x / math.sqrt(2)) * tf.math.tanh(1000 * (x / math.sqrt(2))), -b) + b) ** 2 + 1)))"
   ],
   "metadata": {
    "collapsed": false
   },
   "id": "f1efe7029eb67b00",
   "execution_count": null,
   "outputs": []
  },
  {
   "cell_type": "code",
   "source": [
    "model = vit.vit_b16()"
   ],
   "metadata": {
    "collapsed": false
   },
   "id": "b3caf8959c5854d8",
   "execution_count": null,
   "outputs": []
  },
  {
   "cell_type": "code",
   "source": [
    "def replace_gelu(model):\n",
    "    new_model = Sequential()\n",
    "    for layer in model.layers:\n",
    "        if isinstance(layer, tf.keras.layers.Lambda):\n",
    "            new_layer = tf.keras.layers.Lambda(igelu)\n",
    "        else:\n",
    "            new_layer = layer\n",
    "\n",
    "        new_model.add(new_layer)\n",
    "\n",
    "    return new_model"
   ],
   "metadata": {
    "collapsed": false
   },
   "id": "419c98375ec20805",
   "execution_count": null,
   "outputs": []
  },
  {
   "cell_type": "code",
   "source": [
    "# replace gelu with polynomial approximation of gelu\n",
    "for layer in model.layers:\n",
    "    if \"encoderblock_\" in layer.name:\n",
    "        layer.mlpblock = replace_gelu(layer.mlpblock)"
   ],
   "metadata": {
    "collapsed": false
   },
   "id": "cd3cbf9ea4a6350c",
   "execution_count": null,
   "outputs": []
  },
  {
   "cell_type": "code",
   "source": [
    "# forward pass is needed for weight initialization (also sets batch size to 1)\n",
    "dummy_input = tf.zeros((1,) + model.input_shape[1:])\n",
    "_ = model(dummy_input)"
   ],
   "metadata": {
    "collapsed": false
   },
   "id": "e1b29e821097eb8b",
   "execution_count": null,
   "outputs": []
  },
  {
   "cell_type": "code",
   "source": [
    "print(\"Save full models\")\n",
    "save_tflite(model, \"19\")\n",
    "# model.save(\"models/tail/0\")"
   ],
   "metadata": {
    "collapsed": false
   },
   "id": "1d2ef60bd6ba9c65",
   "execution_count": null,
   "outputs": []
  },
  {
   "cell_type": "code",
   "source": [
    "print(\"Save partial models\")\n",
    "# skip full model with first and last index\n",
    "for i in tqdm(range(1, 19)):\n",
    "    head, tail = split_functional_model(model, i)\n",
    "    save_tflite(head, i)\n",
    "    # tail.save(\"models/tail/\" + str(i))"
   ],
   "metadata": {
    "collapsed": false
   },
   "id": "ac5030d330fb8e0e",
   "execution_count": null,
   "outputs": []
  }
 ],
 "metadata": {
  "kernelspec": {
   "display_name": "Python 3",
   "language": "python",
   "name": "python3"
  },
  "language_info": {
   "codemirror_mode": {
    "name": "ipython",
    "version": 2
   },
   "file_extension": ".py",
   "mimetype": "text/x-python",
   "name": "python",
   "nbconvert_exporter": "python",
   "pygments_lexer": "ipython2",
   "version": "2.7.6"
  }
 },
 "nbformat": 4,
 "nbformat_minor": 5
}
