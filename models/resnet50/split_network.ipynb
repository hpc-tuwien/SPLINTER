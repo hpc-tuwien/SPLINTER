{
 "cells": [
  {
   "cell_type": "code",
   "execution_count": 1,
   "source": [
    "import tensorflow as tf\n",
    "import tensorflow_datasets as tfds\n",
    "from keras.applications import resnet50\n",
    "from keras.src.applications import ResNet50\n",
    "from tqdm.notebook import tqdm\n",
    "\n",
    "from models.resnet50.utils import split_functional_model"
   ],
   "metadata": {
    "collapsed": false,
    "ExecuteTime": {
     "end_time": "2024-01-12T14:07:39.349131400Z",
     "start_time": "2024-01-12T14:07:32.727887800Z"
    }
   },
   "id": "33667b356a0d7da7",
   "outputs": []
  },
  {
   "cell_type": "code",
   "execution_count": 2,
   "source": [
    "def normalize_img(img, lbl):\n",
    "    \"\"\"Normalizes images: `uint8` -> `float32`.\"\"\"\n",
    "    img = tf.image.resize_with_pad(img, 224, 224)\n",
    "    img = resnet50.preprocess_input(img)\n",
    "    return img, lbl"
   ],
   "metadata": {
    "collapsed": false,
    "ExecuteTime": {
     "end_time": "2024-01-12T14:07:39.358072600Z",
     "start_time": "2024-01-12T14:07:39.357518300Z"
    }
   },
   "id": "b35dac030b8962cd",
   "outputs": []
  },
  {
   "cell_type": "code",
   "execution_count": 3,
   "id": "initial_id",
   "metadata": {
    "collapsed": true,
    "ExecuteTime": {
     "end_time": "2024-01-12T14:07:39.664203400Z",
     "start_time": "2024-01-12T14:07:39.358072600Z"
    }
   },
   "source": [
    "# load imagenet2012 dataset\n",
    "validation_ds, metadata = tfds.load(\n",
    "    'imagenet2012',\n",
    "    split='validation',\n",
    "    with_info=True,\n",
    "    as_supervised=True,\n",
    ")\n",
    "validation_ds = validation_ds.map(normalize_img, num_parallel_calls=tf.data.AUTOTUNE)\n",
    "get_label_name = metadata.features['label'].int2str"
   ],
   "outputs": []
  },
  {
   "cell_type": "code",
   "execution_count": 4,
   "source": [
    "def representative_dataset():\n",
    "    # should be 100 to 500 according to documentation\n",
    "    number_of_samples = 100\n",
    "    for data in validation_ds.batch(1).take(number_of_samples):\n",
    "        yield [data[0]]"
   ],
   "metadata": {
    "collapsed": false,
    "ExecuteTime": {
     "end_time": "2024-01-12T14:07:39.671643800Z",
     "start_time": "2024-01-12T14:07:39.671643800Z"
    }
   },
   "id": "fd69230951fa1cd5",
   "outputs": []
  },
  {
   "cell_type": "code",
   "execution_count": 5,
   "source": [
    "def quantize_and_save_model(model, name):\n",
    "    # Convert the model.\n",
    "    converter = tf.lite.TFLiteConverter.from_keras_model(model)\n",
    "    converter.optimizations = [tf.lite.Optimize.DEFAULT]\n",
    "    converter.representative_dataset = representative_dataset\n",
    "    converter.target_spec.supported_ops = [tf.lite.OpsSet.TFLITE_BUILTINS_INT8]\n",
    "    converter.inference_input_type = tf.int8  # or tf.uint8\n",
    "    converter.inference_output_type = tf.int8  # or tf.uint8\n",
    "    tflite_model = converter.convert()\n",
    "\n",
    "    # Save the model.\n",
    "    with open(\"models/head/\" + str(name) + '.tflite', 'wb') as f:\n",
    "        f.write(tflite_model)"
   ],
   "metadata": {
    "collapsed": false,
    "ExecuteTime": {
     "end_time": "2024-01-12T14:07:39.688205300Z",
     "start_time": "2024-01-12T14:07:39.671643800Z"
    }
   },
   "id": "4cf959565a17594b",
   "outputs": []
  },
  {
   "cell_type": "code",
   "execution_count": 6,
   "source": [
    "model = ResNet50(weights='imagenet')"
   ],
   "metadata": {
    "collapsed": false,
    "ExecuteTime": {
     "end_time": "2024-01-12T14:07:42.409510200Z",
     "start_time": "2024-01-12T14:07:39.688205300Z"
    }
   },
   "id": "da8792078e60388a",
   "outputs": []
  },
  {
   "cell_type": "code",
   "execution_count": 7,
   "source": [
    "print(\"Save full models\")\n",
    "#quantize_and_save_model(model, \"40\")\n",
    "model.save(\"models/tail/0.keras\")"
   ],
   "metadata": {
    "collapsed": false,
    "ExecuteTime": {
     "end_time": "2024-01-12T14:07:43.631585500Z",
     "start_time": "2024-01-12T14:07:42.412743800Z"
    }
   },
   "id": "82ece0064a9da20d",
   "outputs": []
  },
  {
   "cell_type": "code",
   "execution_count": 8,
   "source": [
    "print(\"Save partial models\")\n",
    "# skip full model with first and last index\n",
    "for i in tqdm(range(1, 40)):\n",
    "    head, tail = split_functional_model(model, i)\n",
    "    #quantize_and_save_model(head, i)\n",
    "    tail.save(\"models/tail/\" + str(i) + \".keras\")"
   ],
   "metadata": {
    "collapsed": false,
    "ExecuteTime": {
     "end_time": "2024-01-12T14:08:24.458915800Z",
     "start_time": "2024-01-12T14:07:43.631585500Z"
    }
   },
   "id": "b159b3dcb17c335e",
   "outputs": []
  }
 ],
 "metadata": {
  "kernelspec": {
   "display_name": "Python 3",
   "language": "python",
   "name": "python3"
  },
  "language_info": {
   "codemirror_mode": {
    "name": "ipython",
    "version": 2
   },
   "file_extension": ".py",
   "mimetype": "text/x-python",
   "name": "python",
   "nbconvert_exporter": "python",
   "pygments_lexer": "ipython2",
   "version": "2.7.6"
  }
 },
 "nbformat": 4,
 "nbformat_minor": 5
}
