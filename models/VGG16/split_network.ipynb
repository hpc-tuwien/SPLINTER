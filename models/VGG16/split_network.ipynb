{
 "cells": [
  {
   "cell_type": "code",
   "execution_count": 1,
   "id": "initial_id",
   "metadata": {
    "collapsed": true,
    "jupyter": {
     "outputs_hidden": true
    },
    "ExecuteTime": {
     "end_time": "2024-01-12T14:09:04.903496500Z",
     "start_time": "2024-01-12T14:08:57.181800400Z"
    }
   },
   "source": [
    "import tensorflow as tf\n",
    "import tensorflow_datasets as tfds\n",
    "from tqdm.notebook import tqdm\n",
    "\n",
    "from models.VGG16.utils import split_sequential_model"
   ],
   "outputs": []
  },
  {
   "cell_type": "code",
   "execution_count": 2,
   "id": "d9b4d4fb1136aeeb",
   "metadata": {
    "collapsed": false,
    "ExecuteTime": {
     "end_time": "2024-01-12T14:09:04.914516600Z",
     "start_time": "2024-01-12T14:09:04.903496500Z"
    }
   },
   "source": [
    "def normalize_img(img, lbl):\n",
    "    \"\"\"Normalizes images: `uint8` -> `float32`.\"\"\"\n",
    "    img = tf.image.resize_with_pad(img, 224, 224)\n",
    "    img = vgg16.preprocess_input(img)\n",
    "    return img, lbl"
   ],
   "outputs": []
  },
  {
   "cell_type": "code",
   "execution_count": 3,
   "id": "2d31d4a154906c3",
   "metadata": {
    "collapsed": false,
    "ExecuteTime": {
     "end_time": "2024-01-12T14:09:05.231833800Z",
     "start_time": "2024-01-12T14:09:04.914516600Z"
    }
   },
   "source": [
    "# load imagenet2012 dataset\n",
    "validation_ds, metadata = tfds.load(\n",
    "    'imagenet2012',\n",
    "    split='validation',\n",
    "    with_info=True,\n",
    "    as_supervised=True,\n",
    ")\n",
    "validation_ds = validation_ds.map(normalize_img, num_parallel_calls=tf.data.AUTOTUNE)\n",
    "get_label_name = metadata.features['label'].int2str"
   ],
   "outputs": []
  },
  {
   "cell_type": "code",
   "execution_count": 4,
   "source": [
    "def representative_dataset():\n",
    "    # should be 100 to 500 according to documentation\n",
    "    number_of_samples = 100\n",
    "    for data in validation_ds.batch(1).take(number_of_samples):\n",
    "        yield [data[0]]"
   ],
   "metadata": {
    "collapsed": false,
    "ExecuteTime": {
     "end_time": "2024-01-12T14:09:05.238494300Z",
     "start_time": "2024-01-12T14:09:05.231833800Z"
    }
   },
   "id": "7f4e49c2030bc2d0",
   "outputs": []
  },
  {
   "cell_type": "code",
   "execution_count": 5,
   "id": "fba09ef62b845711",
   "metadata": {
    "collapsed": false,
    "ExecuteTime": {
     "end_time": "2024-01-12T14:09:05.247663200Z",
     "start_time": "2024-01-12T14:09:05.247147Z"
    }
   },
   "source": [
    "def quantize_and_save_model(model, name):\n",
    "    # Convert the model.\n",
    "    converter = tf.lite.TFLiteConverter.from_keras_model(model)\n",
    "    converter.optimizations = [tf.lite.Optimize.DEFAULT]\n",
    "    converter.representative_dataset = representative_dataset\n",
    "    converter.target_spec.supported_ops = [tf.lite.OpsSet.TFLITE_BUILTINS_INT8]\n",
    "    converter.inference_input_type = tf.int8  # or tf.uint8\n",
    "    converter.inference_output_type = tf.int8  # or tf.uint8\n",
    "    tflite_model = converter.convert()\n",
    "\n",
    "    # Save the model.\n",
    "    with open(\"models/head/\" + str(name) + '.tflite', 'wb') as f:\n",
    "        f.write(tflite_model)"
   ],
   "outputs": []
  },
  {
   "cell_type": "code",
   "execution_count": 6,
   "id": "dbac4770f3397c48",
   "metadata": {
    "collapsed": false,
    "ExecuteTime": {
     "end_time": "2024-01-12T14:09:08.723364500Z",
     "start_time": "2024-01-12T14:09:05.247663200Z"
    }
   },
   "source": [
    "vgg16_model = VGG16(weights='imagenet')"
   ],
   "outputs": []
  },
  {
   "cell_type": "code",
   "execution_count": 7,
   "source": [
    "print(\"Save full models\")\n",
    "#quantize_and_save_model(vgg16_model, \"22\")\n",
    "vgg16_model.save(\"models/tail/0.keras\")"
   ],
   "metadata": {
    "collapsed": false,
    "ExecuteTime": {
     "end_time": "2024-01-12T14:09:12.725363700Z",
     "start_time": "2024-01-12T14:09:08.723364500Z"
    }
   },
   "id": "ea0b93d52f7ab408",
   "outputs": []
  },
  {
   "cell_type": "code",
   "execution_count": 8,
   "id": "485933ac11173562",
   "metadata": {
    "collapsed": false,
    "ExecuteTime": {
     "end_time": "2024-01-12T14:10:18.769302500Z",
     "start_time": "2024-01-12T14:09:12.725363700Z"
    }
   },
   "source": [
    "print(\"Save partial models.\")\n",
    "# skip full model with first and last index\n",
    "for i in tqdm(range(1, len(vgg16_model.layers) - 1)):\n",
    "    head, tail = split_sequential_model(vgg16_model, i)\n",
    "    #quantize_and_save_model(head, i)\n",
    "    tail.save(\"models/tail/\" + str(i) + \".keras\")"
   ],
   "outputs": []
  }
 ],
 "metadata": {
  "kernelspec": {
   "display_name": "Python 3 (ipykernel)",
   "language": "python",
   "name": "python3"
  },
  "language_info": {
   "codemirror_mode": {
    "name": "ipython",
    "version": 3
   },
   "file_extension": ".py",
   "mimetype": "text/x-python",
   "name": "python",
   "nbconvert_exporter": "python",
   "pygments_lexer": "ipython3",
   "version": "3.11.3"
  }
 },
 "nbformat": 4,
 "nbformat_minor": 5
}
