{
 "cells": [
  {
   "cell_type": "code",
   "execution_count": 1,
   "id": "initial_id",
   "metadata": {
    "ExecuteTime": {
     "end_time": "2023-10-27T15:02:06.371781400Z",
     "start_time": "2023-10-27T15:02:00.678093Z"
    },
    "collapsed": true,
    "jupyter": {
     "outputs_hidden": true
    }
   },
   "outputs": [],
   "source": [
    "from functools import partial\n",
    "\n",
    "import numpy as np\n",
    "import tensorflow as tf\n",
    "import tensorflow_datasets as tfds\n",
    "from keras.applications import vgg16\n",
    "from keras.src.applications import VGG16\n",
    "from tqdm import tqdm\n",
    "\n",
    "from utils import split_sequential_model"
   ]
  },
  {
   "cell_type": "code",
   "execution_count": 2,
   "id": "d9b4d4fb1136aeeb",
   "metadata": {
    "ExecuteTime": {
     "end_time": "2023-10-27T14:38:16.191460100Z",
     "start_time": "2023-10-27T14:38:16.183945700Z"
    },
    "collapsed": false,
    "jupyter": {
     "outputs_hidden": false
    }
   },
   "outputs": [],
   "source": [
    "def normalize_img(img, lbl):\n",
    "    \"\"\"Normalizes images: `uint8` -> `float32`.\"\"\"\n",
    "    img = tf.image.resize_with_pad(img, 224, 224)\n",
    "    img = vgg16.preprocess_input(img)\n",
    "    return img, lbl"
   ]
  },
  {
   "cell_type": "code",
   "execution_count": 3,
   "id": "2d31d4a154906c3",
   "metadata": {
    "ExecuteTime": {
     "end_time": "2023-10-27T14:38:16.453351200Z",
     "start_time": "2023-10-27T14:38:16.189460600Z"
    },
    "collapsed": false,
    "jupyter": {
     "outputs_hidden": false
    }
   },
   "outputs": [],
   "source": [
    "# load caltech101 dataset\n",
    "test_ds, metadata = tfds.load(\n",
    "    'caltech101',\n",
    "    split='test',\n",
    "    with_info=True,\n",
    "    as_supervised=True,\n",
    ")\n",
    "test_ds = test_ds.map(normalize_img, num_parallel_calls=tf.data.AUTOTUNE)\n",
    "get_label_name = metadata.features['label'].int2str"
   ]
  },
  {
   "cell_type": "code",
   "execution_count": 4,
   "id": "7f4e49c2030bc2d0",
   "metadata": {
    "ExecuteTime": {
     "end_time": "2023-10-27T14:38:16.464975900Z",
     "start_time": "2023-10-27T14:38:16.457352500Z"
    },
    "collapsed": false,
    "jupyter": {
     "outputs_hidden": false
    }
   },
   "outputs": [],
   "source": [
    "def representative_dataset(head_network=None):\n",
    "    # should be 100 to 500 according to documentation\n",
    "    number_of_samples = 100\n",
    "    if head_network is None:\n",
    "        for data in test_ds.batch(1).take(number_of_samples):\n",
    "            yield [data[0]]\n",
    "    else:\n",
    "        interpreter = tf.lite.Interpreter(model_content=head_network)\n",
    "        interpreter.allocate_tensors()\n",
    "        input_details = interpreter.get_input_details()[0]\n",
    "        output_details = interpreter.get_output_details()[0]\n",
    "        input_scale, input_zero_point = input_details[\"quantization\"]\n",
    "        output_scale, output_zero_point = output_details[\"quantization\"]\n",
    "        for data in test_ds.batch(1).take(number_of_samples):\n",
    "            test_image = data[0][0] / input_scale + input_zero_point\n",
    "            test_image = np.expand_dims(test_image, axis=0).astype(input_details[\"dtype\"])\n",
    "            interpreter.set_tensor(input_details[\"index\"], test_image)\n",
    "            interpreter.invoke()\n",
    "            yield [((interpreter.get_tensor(output_details['index']) - output_zero_point) * output_scale).astype(\n",
    "                \"float32\")]"
   ]
  },
  {
   "cell_type": "code",
   "execution_count": 5,
   "id": "fba09ef62b845711",
   "metadata": {
    "ExecuteTime": {
     "end_time": "2023-10-27T14:38:16.476852300Z",
     "start_time": "2023-10-27T14:38:16.466846400Z"
    },
    "collapsed": false,
    "jupyter": {
     "outputs_hidden": false
    }
   },
   "outputs": [],
   "source": [
    "def quantize_and_save_model(model, name, head_network=None):\n",
    "    # Convert the model.\n",
    "    converter = tf.lite.TFLiteConverter.from_keras_model(model)\n",
    "    converter.optimizations = [tf.lite.Optimize.DEFAULT]\n",
    "    converter.representative_dataset = partial(representative_dataset, head_network)\n",
    "    converter.target_spec.supported_ops = [tf.lite.OpsSet.TFLITE_BUILTINS_INT8]\n",
    "    converter.inference_input_type = tf.int8  # or tf.uint8\n",
    "    converter.inference_output_type = tf.int8  # or tf.uint8\n",
    "    tflite_model = converter.convert()\n",
    "\n",
    "    # Save the model.\n",
    "    with open(\"models/\" + name + '.tflite', 'wb') as f:\n",
    "        f.write(tflite_model)\n",
    "    return tflite_model"
   ]
  },
  {
   "cell_type": "code",
   "execution_count": 6,
   "id": "dbac4770f3397c48",
   "metadata": {
    "ExecuteTime": {
     "end_time": "2023-10-27T14:38:23.016414700Z",
     "start_time": "2023-10-27T14:38:19.481583600Z"
    },
    "collapsed": false,
    "jupyter": {
     "outputs_hidden": false
    }
   },
   "outputs": [],
   "source": [
    "vgg16_model = VGG16(weights='imagenet')"
   ]
  },
  {
   "cell_type": "code",
   "execution_count": 7,
   "id": "e90f34ac0d33759b",
   "metadata": {
    "ExecuteTime": {
     "end_time": "2023-10-27T13:01:52.188173600Z",
     "start_time": "2023-10-27T12:59:14.630259200Z"
    },
    "collapsed": false,
    "jupyter": {
     "outputs_hidden": false
    }
   },
   "outputs": [
    {
     "name": "stdout",
     "output_type": "stream",
     "text": [
      "INFO:tensorflow:Assets written to: C:\\Users\\danie\\AppData\\Local\\Temp\\tmpheiyddr3\\assets\n"
     ]
    },
    {
     "name": "stderr",
     "output_type": "stream",
     "text": [
      "INFO:tensorflow:Assets written to: C:\\Users\\danie\\AppData\\Local\\Temp\\tmpheiyddr3\\assets\n",
      "C:\\Users\\danie\\tuWien\\10_semester\\tensorflow\\venv\\Lib\\site-packages\\tensorflow\\lite\\python\\convert.py:947: UserWarning: Statistics for quantized inputs were expected, but not specified; continuing anyway.\n",
      "  warnings.warn(\n"
     ]
    }
   ],
   "source": [
    "print(\"Save full model\")\n",
    "quantize_and_save_model(vgg16_model, \"full\")"
   ]
  },
  {
   "cell_type": "code",
   "execution_count": null,
   "id": "485933ac11173562",
   "metadata": {
    "collapsed": false,
    "is_executing": true,
    "jupyter": {
     "outputs_hidden": false
    }
   },
   "outputs": [],
   "source": [
    "print(\"Save partial models\")\n",
    "# skip full model with first and last index\n",
    "for i in tqdm(range(1, len(vgg16_model.layers) - 1)):\n",
    "    head, tail = split_sequential_model(vgg16_model, i)\n",
    "    head_quantized = quantize_and_save_model(head, \"head/\" + str(i))\n",
    "    quantize_and_save_model(tail, \"tail/\" + str(i), head_quantized)"
   ]
  },
  {
   "cell_type": "code",
   "execution_count": null,
   "id": "a23a7f44c96bb0f7",
   "metadata": {
    "collapsed": false,
    "is_executing": true,
    "jupyter": {
     "outputs_hidden": false
    }
   },
   "outputs": [],
   "source": [
    "# prediction on the full 32 bit floating point model\n",
    "it = iter(test_ds)\n",
    "for _ in range(4):\n",
    "    image, label = next(it)\n",
    "preds = vgg16_model.predict(tf.stack([image]))\n",
    "print('32 bit fp prediction:', vgg16.decode_predictions(preds, top=5)[0])"
   ]
  },
  {
   "cell_type": "code",
   "execution_count": null,
   "id": "5daa1d343085bfbb",
   "metadata": {
    "collapsed": false,
    "is_executing": true,
    "jupyter": {
     "outputs_hidden": false
    }
   },
   "outputs": [],
   "source": [
    "# prediction on the TensorFlow Lite 8 bit quantized model\n",
    "interpreter = tf.lite.Interpreter(model_path=\"models/full.tflite\")\n",
    "interpreter.allocate_tensors()\n",
    "# Get input and output tensors.\n",
    "input_details = interpreter.get_input_details()[0]\n",
    "output_details = interpreter.get_output_details()[0]\n",
    "\n",
    "# convert image to 8 bit\n",
    "input_scale, input_zero_point = input_details[\"quantization\"]\n",
    "test_image = image / input_scale + input_zero_point\n",
    "test_image = np.expand_dims(test_image, axis=0).astype(input_details[\"dtype\"])\n",
    "interpreter.set_tensor(input_details[\"index\"], test_image)\n",
    "\n",
    "interpreter.invoke()\n",
    "\n",
    "# The function `get_tensor()` returns a copy of the tensor data.\n",
    "# Use `tensor()` in order to get a pointer to the tensor.\n",
    "output_data = interpreter.get_tensor(output_details['index'])\n",
    "print('8 bit quantized prediction:', vgg16.decode_predictions(output_data, top=5)[0])"
   ]
  },
  {
   "cell_type": "code",
   "execution_count": null,
   "id": "2c0431bbd15008d4",
   "metadata": {
    "collapsed": false,
    "jupyter": {
     "outputs_hidden": false
    }
   },
   "outputs": [],
   "source": [
    "def show_results(split_at):\n",
    "    # prediction on the TensorFlow Lite 8 bit split quantized model\n",
    "    head = tf.lite.Interpreter(model_path=\"models/head/\" + str(split_at) + \".tflite\")\n",
    "    tail = tf.lite.Interpreter(model_path=\"models/tail/\" + str(split_at) + \".tflite\")\n",
    "    head.allocate_tensors()\n",
    "    tail.allocate_tensors()\n",
    "\n",
    "    # Get input and output tensors from head network.\n",
    "    input_details = head.get_input_details()[0]\n",
    "    output_details = head.get_output_details()[0]\n",
    "\n",
    "    #convert image\n",
    "    input_scale, input_zero_point = input_details[\"quantization\"]\n",
    "    output_scale, output_zero_point = output_details[\"quantization\"]\n",
    "    test_image = image / input_scale + input_zero_point\n",
    "    test_image = np.expand_dims(test_image, axis=0).astype(input_details[\"dtype\"])\n",
    "\n",
    "    # invoke head network\n",
    "    head.set_tensor(input_details[\"index\"], test_image)\n",
    "    head.invoke()\n",
    "    intermediate = head.get_tensor(output_details['index'])\n",
    "\n",
    "    # rescale tensor\n",
    "    intermediate_float = ((intermediate - output_zero_point) * output_scale).astype(\"float32\")\n",
    "\n",
    "    # Get input and output tensors from tail network and convert tensor.\n",
    "    input_details = tail.get_input_details()[0]\n",
    "    output_details = tail.get_output_details()[0]\n",
    "    input_scale, input_zero_point = input_details[\"quantization\"]\n",
    "    intermediate_int = (intermediate_float / input_scale + input_zero_point).astype(input_details[\"dtype\"])\n",
    "\n",
    "    # invoke tail network\n",
    "    tail.set_tensor(input_details[\"index\"], intermediate_int)\n",
    "    tail.invoke()\n",
    "    output_data = tail.get_tensor(output_details['index'])\n",
    "    print('8 bit split at ' + str(split_at) + ' prediction:', vgg16.decode_predictions(output_data, top=5)[0])"
   ]
  },
  {
   "cell_type": "code",
   "execution_count": null,
   "id": "3207478141ce42f9",
   "metadata": {
    "collapsed": false,
    "jupyter": {
     "outputs_hidden": false
    }
   },
   "outputs": [],
   "source": [
    "for i in range(1, len(vgg16_model.layers) - 1):\n",
    "    show_results(i)"
   ]
  }
 ],
 "metadata": {
  "kernelspec": {
   "display_name": "Python 3 (ipykernel)",
   "language": "python",
   "name": "python3"
  },
  "language_info": {
   "codemirror_mode": {
    "name": "ipython",
    "version": 3
   },
   "file_extension": ".py",
   "mimetype": "text/x-python",
   "name": "python",
   "nbconvert_exporter": "python",
   "pygments_lexer": "ipython3",
   "version": "3.11.3"
  }
 },
 "nbformat": 4,
 "nbformat_minor": 5
}
