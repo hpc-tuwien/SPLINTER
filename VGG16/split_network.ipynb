{
 "cells": [
  {
   "cell_type": "code",
   "execution_count": 1,
   "id": "initial_id",
   "metadata": {
    "collapsed": true,
    "jupyter": {
     "outputs_hidden": true
    },
    "ExecuteTime": {
     "end_time": "2023-11-10T10:54:18.016513900Z",
     "start_time": "2023-11-10T10:54:13.231014900Z"
    }
   },
   "outputs": [],
   "source": [
    "from functools import partial\n",
    "\n",
    "import numpy as np\n",
    "import tensorflow as tf\n",
    "import tensorflow_datasets as tfds\n",
    "from keras.applications import vgg16\n",
    "from keras.src.applications import VGG16\n",
    "from tqdm import tqdm_notebook as tqdm\n",
    "\n",
    "from utils import split_sequential_model"
   ]
  },
  {
   "cell_type": "code",
   "execution_count": 2,
   "id": "d9b4d4fb1136aeeb",
   "metadata": {
    "collapsed": false,
    "ExecuteTime": {
     "end_time": "2023-11-10T10:54:18.029669600Z",
     "start_time": "2023-11-10T10:54:18.017514500Z"
    }
   },
   "outputs": [],
   "source": [
    "def normalize_img(img, lbl):\n",
    "    \"\"\"Normalizes images: `uint8` -> `float32`.\"\"\"\n",
    "    img = tf.image.resize_with_pad(img, 224, 224)\n",
    "    img = vgg16.preprocess_input(img)\n",
    "    return img, lbl"
   ]
  },
  {
   "cell_type": "code",
   "execution_count": 3,
   "id": "2d31d4a154906c3",
   "metadata": {
    "collapsed": false,
    "ExecuteTime": {
     "end_time": "2023-11-10T10:54:18.341581900Z",
     "start_time": "2023-11-10T10:54:18.025672800Z"
    }
   },
   "outputs": [],
   "source": [
    "# load imagenet2012 dataset\n",
    "validation_ds, metadata = tfds.load(\n",
    "    'imagenet2012',\n",
    "    split='validation',\n",
    "    with_info=True,\n",
    "    as_supervised=True,\n",
    ")\n",
    "validation_ds = validation_ds.map(normalize_img, num_parallel_calls=tf.data.AUTOTUNE)\n",
    "get_label_name = metadata.features['label'].int2str"
   ]
  },
  {
   "cell_type": "code",
   "execution_count": 4,
   "outputs": [],
   "source": [
    "def representative_dataset(head_network=None):\n",
    "    # should be 100 to 500 according to documentation\n",
    "    number_of_samples = 100\n",
    "    if head_network is None:\n",
    "        for data in validation_ds.batch(1).take(number_of_samples):\n",
    "            yield [data[0]]\n",
    "    else:\n",
    "        interpreter = tf.lite.Interpreter(model_content=head_network)\n",
    "        interpreter.allocate_tensors()\n",
    "        input_details = interpreter.get_input_details()[0]\n",
    "        output_details = interpreter.get_output_details()[0]\n",
    "        input_scale, input_zero_point = input_details[\"quantization\"]\n",
    "        output_scale, output_zero_point = output_details[\"quantization\"]\n",
    "        for data in validation_ds.batch(1).take(number_of_samples):\n",
    "            test_image = data[0][0] / input_scale + input_zero_point\n",
    "            test_image = np.expand_dims(test_image, axis=0).astype(input_details[\"dtype\"])\n",
    "            interpreter.set_tensor(input_details[\"index\"], test_image)\n",
    "            interpreter.invoke()\n",
    "            yield [((interpreter.get_tensor(output_details['index']) - output_zero_point) * output_scale).astype(\n",
    "                \"float32\")]"
   ],
   "metadata": {
    "collapsed": false,
    "ExecuteTime": {
     "end_time": "2023-11-07T12:49:47.927460Z",
     "start_time": "2023-11-07T12:49:47.920943500Z"
    }
   },
   "id": "7f4e49c2030bc2d0"
  },
  {
   "cell_type": "code",
   "execution_count": 5,
   "id": "fba09ef62b845711",
   "metadata": {
    "collapsed": false,
    "ExecuteTime": {
     "end_time": "2023-11-07T12:49:47.941761600Z",
     "start_time": "2023-11-07T12:49:47.929754700Z"
    }
   },
   "outputs": [],
   "source": [
    "def quantize_and_save_model(model, name, head_network=None):\n",
    "    # Convert the model.\n",
    "    converter = tf.lite.TFLiteConverter.from_keras_model(model)\n",
    "    converter.optimizations = [tf.lite.Optimize.DEFAULT]\n",
    "    converter.representative_dataset = partial(representative_dataset, head_network)\n",
    "    converter.target_spec.supported_ops = [tf.lite.OpsSet.TFLITE_BUILTINS_INT8]\n",
    "    converter.inference_input_type = tf.int8  # or tf.uint8\n",
    "    converter.inference_output_type = tf.int8  # or tf.uint8\n",
    "    tflite_model = converter.convert()\n",
    "\n",
    "    # Save the model.\n",
    "    with open(\"models/\" + name + '.tflite', 'wb') as f:\n",
    "        f.write(tflite_model)\n",
    "    return tflite_model"
   ]
  },
  {
   "cell_type": "code",
   "execution_count": 4,
   "outputs": [],
   "source": [
    "def save_unquantized_model(model, name):\n",
    "    # Convert the model.\n",
    "    converter = tf.lite.TFLiteConverter.from_keras_model(model)\n",
    "    tflite_model = converter.convert()\n",
    "\n",
    "    # Save the model.\n",
    "    with open(\"models/unquantized/\" + name + '.tflite', 'wb') as f:\n",
    "        f.write(tflite_model)\n",
    "    return tflite_model"
   ],
   "metadata": {
    "collapsed": false,
    "ExecuteTime": {
     "end_time": "2023-11-10T10:55:44.147291100Z",
     "start_time": "2023-11-10T10:55:44.135704200Z"
    }
   },
   "id": "58d2dd82a68187a8"
  },
  {
   "cell_type": "code",
   "execution_count": 5,
   "id": "dbac4770f3397c48",
   "metadata": {
    "collapsed": false,
    "ExecuteTime": {
     "end_time": "2023-11-10T10:56:53.424230200Z",
     "start_time": "2023-11-10T10:56:49.064204900Z"
    }
   },
   "outputs": [],
   "source": [
    "vgg16_model = VGG16(weights='imagenet')"
   ]
  },
  {
   "cell_type": "code",
   "execution_count": null,
   "id": "e90f34ac0d33759b",
   "metadata": {
    "collapsed": false,
    "is_executing": true,
    "ExecuteTime": {
     "start_time": "2023-11-07T12:49:50.462345900Z"
    }
   },
   "outputs": [
    {
     "name": "stdout",
     "output_type": "stream",
     "text": [
      "Save full model\n",
      "INFO:tensorflow:Assets written to: C:\\Users\\danie\\AppData\\Local\\Temp\\tmpr0l4e_pr\\assets\n"
     ]
    },
    {
     "name": "stderr",
     "output_type": "stream",
     "text": [
      "INFO:tensorflow:Assets written to: C:\\Users\\danie\\AppData\\Local\\Temp\\tmpr0l4e_pr\\assets\n",
      "C:\\Users\\danie\\tuWien\\10_semester\\tensorflow\\venv\\Lib\\site-packages\\tensorflow\\lite\\python\\convert.py:947: UserWarning: Statistics for quantized inputs were expected, but not specified; continuing anyway.\n",
      "  warnings.warn(\n"
     ]
    }
   ],
   "source": [
    "print(\"Save full model\")\n",
    "quantize_and_save_model(vgg16_model, \"full\")"
   ]
  },
  {
   "cell_type": "code",
   "execution_count": null,
   "id": "485933ac11173562",
   "metadata": {
    "collapsed": false,
    "is_executing": true
   },
   "outputs": [],
   "source": [
    "print(\"Save partial models\")\n",
    "# skip full model with first and last index\n",
    "for i in tqdm(range(1, len(vgg16_model.layers) - 1)):\n",
    "    head, tail = split_sequential_model(vgg16_model, i)\n",
    "    head_quantized = quantize_and_save_model(head, \"head/\" + str(i))\n",
    "    quantize_and_save_model(tail, \"tail/\" + str(i), head_quantized)"
   ]
  },
  {
   "cell_type": "code",
   "execution_count": 7,
   "outputs": [
    {
     "name": "stdout",
     "output_type": "stream",
     "text": [
      "Save unquantized full model\n",
      "INFO:tensorflow:Assets written to: C:\\Users\\danie\\AppData\\Local\\Temp\\tmph6g3k1vg\\assets\n"
     ]
    },
    {
     "name": "stderr",
     "output_type": "stream",
     "text": [
      "INFO:tensorflow:Assets written to: C:\\Users\\danie\\AppData\\Local\\Temp\\tmph6g3k1vg\\assets\n"
     ]
    }
   ],
   "source": [
    "print(\"Save unquantized full model\")\n",
    "save_unquantized_model(vgg16_model, \"full\")"
   ],
   "metadata": {
    "collapsed": false,
    "ExecuteTime": {
     "end_time": "2023-11-10T10:59:19.556484100Z",
     "start_time": "2023-11-10T10:57:35.830298700Z"
    }
   },
   "id": "4087695851434285"
  },
  {
   "cell_type": "code",
   "execution_count": null,
   "outputs": [],
   "source": [
    "# save unquantized tail models\n",
    "for i in tqdm(range(1, len(vgg16_model.layers) - 1)):\n",
    "    _, tail = split_sequential_model(vgg16_model, i)\n",
    "    save_unquantized_model(tail, \"tail/\" + str(i))"
   ],
   "metadata": {
    "collapsed": false,
    "is_executing": true
   },
   "id": "df01a6f86bfe6d93"
  },
  {
   "cell_type": "code",
   "execution_count": 6,
   "id": "a23a7f44c96bb0f7",
   "metadata": {
    "collapsed": false,
    "ExecuteTime": {
     "end_time": "2023-11-07T14:01:38.737487200Z",
     "start_time": "2023-11-07T14:01:37.310730500Z"
    }
   },
   "outputs": [
    {
     "name": "stdout",
     "output_type": "stream",
     "text": [
      "1/1 [==============================] - 1s 1s/step\n",
      "32 bit fp prediction: [('n02086240', 'Shih-Tzu', 0.3016349), ('n02098413', 'Lhasa', 0.22211233), ('n02096177', 'cairn', 0.1410836), ('n02097658', 'silky_terrier', 0.05564285), ('n02096294', 'Australian_terrier', 0.054890167)]\n"
     ]
    }
   ],
   "source": [
    "# prediction on the full 32 bit floating point model\n",
    "it = iter(validation_ds)\n",
    "for _ in range(8):\n",
    "    image, label = next(it)\n",
    "preds = vgg16_model.predict(tf.stack([image]))\n",
    "print('32 bit fp prediction:', vgg16.decode_predictions(preds, top=5)[0])"
   ]
  },
  {
   "cell_type": "code",
   "execution_count": 7,
   "id": "5daa1d343085bfbb",
   "metadata": {
    "collapsed": false,
    "ExecuteTime": {
     "end_time": "2023-11-07T14:01:42.139660700Z",
     "start_time": "2023-11-07T14:01:41.375891400Z"
    }
   },
   "outputs": [
    {
     "name": "stdout",
     "output_type": "stream",
     "text": [
      "8 bit quantized prediction: [('n02086240', 'Shih-Tzu', -49), ('n02098413', 'Lhasa', -72), ('n02096177', 'cairn', -95), ('n02096294', 'Australian_terrier', -114), ('n02094433', 'Yorkshire_terrier', -114)]\n"
     ]
    }
   ],
   "source": [
    "# prediction on the TensorFlow Lite 8 bit quantized model\n",
    "interpreter = tf.lite.Interpreter(model_path=\"models/full.tflite\")\n",
    "interpreter.allocate_tensors()\n",
    "# Get input and output tensors.\n",
    "input_details = interpreter.get_input_details()[0]\n",
    "output_details = interpreter.get_output_details()[0]\n",
    "\n",
    "# convert image to 8 bit\n",
    "input_scale, input_zero_point = input_details[\"quantization\"]\n",
    "test_image = image / input_scale + input_zero_point\n",
    "test_image = np.expand_dims(test_image, axis=0).astype(input_details[\"dtype\"])\n",
    "interpreter.set_tensor(input_details[\"index\"], test_image)\n",
    "\n",
    "interpreter.invoke()\n",
    "\n",
    "# The function `get_tensor()` returns a copy of the tensor data.\n",
    "# Use `tensor()` in order to get a pointer to the tensor.\n",
    "output_data = interpreter.get_tensor(output_details['index'])\n",
    "print('8 bit quantized prediction:', vgg16.decode_predictions(output_data, top=5)[0])"
   ]
  },
  {
   "cell_type": "code",
   "execution_count": 8,
   "id": "2c0431bbd15008d4",
   "metadata": {
    "collapsed": false,
    "ExecuteTime": {
     "end_time": "2023-11-07T14:01:52.148186700Z",
     "start_time": "2023-11-07T14:01:52.138714100Z"
    }
   },
   "outputs": [],
   "source": [
    "def show_results(split_at):\n",
    "    # prediction on the TensorFlow Lite 8 bit split quantized model\n",
    "    head = tf.lite.Interpreter(model_path=\"models/head/\" + str(split_at) + \".tflite\")\n",
    "    tail = tf.lite.Interpreter(model_path=\"models/tail/\" + str(split_at) + \".tflite\")\n",
    "    head.allocate_tensors()\n",
    "    tail.allocate_tensors()\n",
    "\n",
    "    # Get input and output tensors from head network.\n",
    "    input_details = head.get_input_details()[0]\n",
    "    output_details = head.get_output_details()[0]\n",
    "\n",
    "    #convert image\n",
    "    input_scale, input_zero_point = input_details[\"quantization\"]\n",
    "    output_scale, output_zero_point = output_details[\"quantization\"]\n",
    "    test_image = image / input_scale + input_zero_point\n",
    "    test_image = np.expand_dims(test_image, axis=0).astype(input_details[\"dtype\"])\n",
    "\n",
    "    # invoke head network\n",
    "    head.set_tensor(input_details[\"index\"], test_image)\n",
    "    head.invoke()\n",
    "    intermediate = head.get_tensor(output_details['index'])\n",
    "\n",
    "    # rescale tensor\n",
    "    intermediate_float = ((intermediate - output_zero_point) * output_scale).astype(\"float32\")\n",
    "\n",
    "    # Get input and output tensors from tail network and convert tensor.\n",
    "    input_details = tail.get_input_details()[0]\n",
    "    output_details = tail.get_output_details()[0]\n",
    "    input_scale, input_zero_point = input_details[\"quantization\"]\n",
    "    intermediate_int = (intermediate_float / input_scale + input_zero_point).astype(input_details[\"dtype\"])\n",
    "\n",
    "    # invoke tail network\n",
    "    tail.set_tensor(input_details[\"index\"], intermediate_int)\n",
    "    tail.invoke()\n",
    "    output_data = tail.get_tensor(output_details['index'])\n",
    "    print('8 bit split at ' + str(split_at) + ' prediction:', vgg16.decode_predictions(output_data, top=5)[0])"
   ]
  },
  {
   "cell_type": "code",
   "execution_count": 9,
   "id": "3207478141ce42f9",
   "metadata": {
    "collapsed": false,
    "ExecuteTime": {
     "end_time": "2023-11-07T14:02:10.154978Z",
     "start_time": "2023-11-07T14:01:56.421037500Z"
    }
   },
   "outputs": [
    {
     "name": "stdout",
     "output_type": "stream",
     "text": [
      "8 bit split at 1 prediction: [('n02086240', 'Shih-Tzu', -49), ('n02098413', 'Lhasa', -72), ('n02096177', 'cairn', -94), ('n02096294', 'Australian_terrier', -114), ('n02094433', 'Yorkshire_terrier', -114)]\n",
      "8 bit split at 2 prediction: [('n02086240', 'Shih-Tzu', -23), ('n02098413', 'Lhasa', -75), ('n02096177', 'cairn', -90), ('n02096294', 'Australian_terrier', -118), ('n02094114', 'Norfolk_terrier', -120)]\n",
      "8 bit split at 3 prediction: [('n02086240', 'Shih-Tzu', 0), ('n02098413', 'Lhasa', -82), ('n02096177', 'cairn', -101), ('n02096294', 'Australian_terrier', -120), ('n02097658', 'silky_terrier', -120)]\n",
      "8 bit split at 4 prediction: [('n02086240', 'Shih-Tzu', -50), ('n02098413', 'Lhasa', -63), ('n02096177', 'cairn', -95), ('n02097658', 'silky_terrier', -114), ('n02096294', 'Australian_terrier', -116)]\n",
      "8 bit split at 5 prediction: [('n02086240', 'Shih-Tzu', -38), ('n02098413', 'Lhasa', -64), ('n02096177', 'cairn', -101), ('n02096294', 'Australian_terrier', -116), ('n02097658', 'silky_terrier', -116)]\n",
      "8 bit split at 6 prediction: [('n02086240', 'Shih-Tzu', -35), ('n02098413', 'Lhasa', -62), ('n02096177', 'cairn', -100), ('n02097658', 'silky_terrier', -116), ('n02096294', 'Australian_terrier', -118)]\n",
      "8 bit split at 7 prediction: [('n02086240', 'Shih-Tzu', -40), ('n02098413', 'Lhasa', -65), ('n02096177', 'cairn', -96), ('n02097658', 'silky_terrier', -114), ('n02096294', 'Australian_terrier', -117)]\n",
      "8 bit split at 8 prediction: [('n02086240', 'Shih-Tzu', -54), ('n02098413', 'Lhasa', -65), ('n02096177', 'cairn', -96), ('n02097658', 'silky_terrier', -112), ('n02096294', 'Australian_terrier', -114)]\n",
      "8 bit split at 9 prediction: [('n02086240', 'Shih-Tzu', -49), ('n02098413', 'Lhasa', -72), ('n02096177', 'cairn', -94), ('n02096294', 'Australian_terrier', -114), ('n02097658', 'silky_terrier', -114)]\n",
      "8 bit split at 10 prediction: [('n02086240', 'Shih-Tzu', -49), ('n02098413', 'Lhasa', -72), ('n02096177', 'cairn', -94), ('n02096294', 'Australian_terrier', -114), ('n02097658', 'silky_terrier', -114)]\n",
      "8 bit split at 11 prediction: [('n02086240', 'Shih-Tzu', -59), ('n02098413', 'Lhasa', -70), ('n02096177', 'cairn', -93), ('n02096294', 'Australian_terrier', -113), ('n02097658', 'silky_terrier', -113)]\n",
      "8 bit split at 12 prediction: [('n02086240', 'Shih-Tzu', -60), ('n02098413', 'Lhasa', -70), ('n02096177', 'cairn', -87), ('n02096294', 'Australian_terrier', -113), ('n02097658', 'silky_terrier', -113)]\n",
      "8 bit split at 13 prediction: [('n02086240', 'Shih-Tzu', -50), ('n02098413', 'Lhasa', -72), ('n02096177', 'cairn', -95), ('n02096294', 'Australian_terrier', -114), ('n02094433', 'Yorkshire_terrier', -114)]\n",
      "8 bit split at 14 prediction: [('n02086240', 'Shih-Tzu', -52), ('n02098413', 'Lhasa', -64), ('n02096177', 'cairn', -96), ('n02096294', 'Australian_terrier', -114), ('n02097658', 'silky_terrier', -114)]\n",
      "8 bit split at 15 prediction: [('n02086240', 'Shih-Tzu', -53), ('n02098413', 'Lhasa', -65), ('n02096177', 'cairn', -96), ('n02096294', 'Australian_terrier', -114), ('n02094433', 'Yorkshire_terrier', -114)]\n",
      "8 bit split at 16 prediction: [('n02086240', 'Shih-Tzu', -52), ('n02098413', 'Lhasa', -74), ('n02096177', 'cairn', -95), ('n02097658', 'silky_terrier', -111), ('n02094433', 'Yorkshire_terrier', -114)]\n",
      "8 bit split at 17 prediction: [('n02086240', 'Shih-Tzu', -57), ('n02098413', 'Lhasa', -68), ('n02096177', 'cairn', -91), ('n02097658', 'silky_terrier', -112), ('n02096294', 'Australian_terrier', -114)]\n",
      "8 bit split at 18 prediction: [('n02086240', 'Shih-Tzu', -50), ('n02098413', 'Lhasa', -70), ('n02096177', 'cairn', -95), ('n02097658', 'silky_terrier', -112), ('n02096294', 'Australian_terrier', -114)]\n",
      "8 bit split at 19 prediction: [('n02086240', 'Shih-Tzu', -50), ('n02098413', 'Lhasa', -70), ('n02096177', 'cairn', -95), ('n02097658', 'silky_terrier', -112), ('n02096294', 'Australian_terrier', -114)]\n",
      "8 bit split at 20 prediction: [('n02086240', 'Shih-Tzu', -59), ('n02098413', 'Lhasa', -69), ('n02096177', 'cairn', -92), ('n02096294', 'Australian_terrier', -112), ('n02094433', 'Yorkshire_terrier', -112)]\n",
      "8 bit split at 21 prediction: [('n02086240', 'Shih-Tzu', -49), ('n02098413', 'Lhasa', -69), ('n02096177', 'cairn', -95), ('n02096294', 'Australian_terrier', -114), ('n02097658', 'silky_terrier', -114)]\n"
     ]
    }
   ],
   "source": [
    "for i in range(1, len(vgg16_model.layers) - 1):\n",
    "    show_results(i)"
   ]
  }
 ],
 "metadata": {
  "kernelspec": {
   "display_name": "Python 3 (ipykernel)",
   "language": "python",
   "name": "python3"
  },
  "language_info": {
   "codemirror_mode": {
    "name": "ipython",
    "version": 3
   },
   "file_extension": ".py",
   "mimetype": "text/x-python",
   "name": "python",
   "nbconvert_exporter": "python",
   "pygments_lexer": "ipython3",
   "version": "3.11.3"
  }
 },
 "nbformat": 4,
 "nbformat_minor": 5
}
