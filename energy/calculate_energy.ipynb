{
 "cells": [
  {
   "cell_type": "code",
   "execution_count": 34,
   "id": "initial_id",
   "metadata": {
    "collapsed": true,
    "ExecuteTime": {
     "end_time": "2023-11-22T16:00:01.020316700Z",
     "start_time": "2023-11-22T16:00:01.005616600Z"
    }
   },
   "outputs": [],
   "source": [
    "import pandas as pd\n",
    "import seaborn as sns\n",
    "from matplotlib import pyplot as plt"
   ]
  },
  {
   "cell_type": "code",
   "execution_count": 35,
   "outputs": [],
   "source": [
    "def calculate_energy_consumption(data):\n",
    "    \"\"\"\n",
    "    Calculate used energy in W(att)s(econds)\n",
    "    :param data: dataframe with timestamps in UNIX time format and power values in Watt \n",
    "    :return: Energy\n",
    "    \"\"\"\n",
    "    total_energy = 0.0\n",
    "    total_time = 0.0\n",
    "    for i in range(len(data) - 1):\n",
    "        timestamp1, power1, _ = data.iloc[i]\n",
    "        timestamp2, power2, total_time = data.iloc[i + 1]\n",
    "\n",
    "        # Calculate time difference in seconds\n",
    "        time_difference = timestamp2 - timestamp1\n",
    "\n",
    "        # Calculate energy consumed during this interval\n",
    "        # by using the average power between start and end point\n",
    "        energy_interval = ((power1 + power2) / 2) * time_difference\n",
    "\n",
    "        # Add energy consumed during this interval to the total energy\n",
    "        total_energy += energy_interval\n",
    "\n",
    "    return total_energy, total_time"
   ],
   "metadata": {
    "collapsed": false,
    "ExecuteTime": {
     "end_time": "2023-11-22T16:00:01.020316700Z",
     "start_time": "2023-11-22T16:00:01.010614400Z"
    }
   },
   "id": "2128300e5b934ef5"
  },
  {
   "cell_type": "code",
   "execution_count": 36,
   "outputs": [],
   "source": [
    "# TPU std\n",
    "tpu_std_vgg16 = pd.read_csv('power_measurement_vgg16_100img_tpu_std.csv')\n",
    "tpu_std_energy_vgg16, tpu_std_time_vgg16 = calculate_energy_consumption(tpu_std_vgg16)\n",
    "\n",
    "tpu_std_resnet50 = pd.read_csv('power_measurement_resnet50_100img_tpu_std.csv')\n",
    "tpu_std_energy_resnet50, tpu_std_time_resnet50 = calculate_energy_consumption(tpu_std_resnet50)\n",
    "\n",
    "tpu_std_mobilenetv2 = pd.read_csv('power_measurement_mobilenetv2_100img_tpu_std.csv')\n",
    "tpu_std_energy_mobilenetv2, tpu_std_time_mobilenetv2 = calculate_energy_consumption(tpu_std_mobilenetv2)\n",
    "\n",
    "# TPU max\n",
    "tpu_max_vgg16 = pd.read_csv('power_measurement_vgg16_100img_tpu_max.csv')\n",
    "tpu_max_energy_vgg16, tpu_max_time_vgg16 = calculate_energy_consumption(tpu_max_vgg16)\n",
    "\n",
    "tpu_max_resnet50 = pd.read_csv('power_measurement_resnet50_100img_tpu_max.csv')\n",
    "tpu_max_energy_resnet50, tpu_max_time_resnet50 = calculate_energy_consumption(tpu_max_resnet50)\n",
    "\n",
    "tpu_max_mobilenetv2 = pd.read_csv('power_measurement_mobilenetv2_100img_tpu_max.csv')\n",
    "tpu_max_energy_mobilenetv2, tpu_max_time_mobilenetv2 = calculate_energy_consumption(tpu_max_mobilenetv2)\n",
    "\n",
    "# CPU 1500\n",
    "cpu_std_vgg16 = pd.read_csv('power_measurement_vgg16_100img_cpu.csv')\n",
    "cpu_std_energy_vgg16, cpu_std_time_vgg16 = calculate_energy_consumption(cpu_std_vgg16)\n",
    "\n",
    "cpu_std_resnet50 = pd.read_csv('power_measurement_resnet50_100img_cpu.csv')\n",
    "cpu_std_energy_resnet50, cpu_std_time_resnet50 = calculate_energy_consumption(cpu_std_resnet50)\n",
    "\n",
    "cpu_std_mobilenetv2 = pd.read_csv('power_measurement_mobilenetv2_100img_cpu.csv')\n",
    "cpu_std_energy_mobilenetv2, cpu_std_time_mobilenetv2 = calculate_energy_consumption(cpu_std_mobilenetv2)\n",
    "\n",
    "# CPU 1900\n",
    "cpu_max_vgg16 = pd.read_csv('power_measurement_vgg16_100img_cpu_1900.csv')\n",
    "cpu_max_energy_vgg16, cpu_max_time_vgg16 = calculate_energy_consumption(cpu_max_vgg16)\n",
    "\n",
    "cpu_max_resnet50 = pd.read_csv('power_measurement_resnet50_100img_cpu_1900.csv')\n",
    "cpu_max_energy_resnet50, cpu_max_time_resnet50 = calculate_energy_consumption(cpu_max_resnet50)\n",
    "\n",
    "cpu_max_mobilenetv2 = pd.read_csv('power_measurement_mobilenetv2_100img_cpu_1900.csv')\n",
    "cpu_max_energy_mobilenetv2, cpu_max_time_mobilenetv2 = calculate_energy_consumption(cpu_max_mobilenetv2)"
   ],
   "metadata": {
    "collapsed": false,
    "ExecuteTime": {
     "end_time": "2023-11-22T16:00:01.074290100Z",
     "start_time": "2023-11-22T16:00:01.022323400Z"
    }
   },
   "id": "9989e1e411b6cea1"
  },
  {
   "cell_type": "code",
   "execution_count": 37,
   "outputs": [],
   "source": [
    "data = [['VGG16', 'CPU', 'std', 'time', cpu_std_time_vgg16], ['VGG16', 'CPU', 'std', 'energy', cpu_std_energy_vgg16],\n",
    "        ['VGG16', 'CPU', 'max', 'time', cpu_max_time_vgg16], ['VGG16', 'CPU', 'max', 'energy', cpu_max_energy_vgg16],\n",
    "        ['VGG16', 'TPU', 'std', 'time', tpu_std_time_vgg16], ['VGG16', 'TPU', 'std', 'energy', tpu_std_energy_vgg16],\n",
    "        ['VGG16', 'TPU', 'max', 'time', tpu_max_time_vgg16], ['VGG16', 'TPU', 'max', 'energy', tpu_max_energy_vgg16],\n",
    "\n",
    "        ['ResNet50', 'CPU', 'std', 'time', cpu_std_time_resnet50],\n",
    "        ['ResNet50', 'CPU', 'std', 'energy', cpu_std_energy_resnet50],\n",
    "        ['ResNet50', 'CPU', 'max', 'time', cpu_max_time_resnet50],\n",
    "        ['ResNet50', 'CPU', 'max', 'energy', cpu_max_energy_resnet50],\n",
    "        ['ResNet50', 'TPU', 'std', 'time', tpu_std_time_resnet50],\n",
    "        ['ResNet50', 'TPU', 'std', 'energy', tpu_std_energy_resnet50],\n",
    "        ['ResNet50', 'TPU', 'max', 'time', tpu_max_time_resnet50],\n",
    "        ['ResNet50', 'TPU', 'max', 'energy', tpu_max_energy_resnet50],\n",
    "\n",
    "        ['MobileNetV2', 'CPU', 'std', 'time', cpu_std_time_mobilenetv2],\n",
    "        ['MobileNetV2', 'CPU', 'std', 'energy', cpu_std_energy_mobilenetv2],\n",
    "        ['MobileNetV2', 'CPU', 'max', 'time', cpu_max_time_mobilenetv2],\n",
    "        ['MobileNetV2', 'CPU', 'max', 'energy', cpu_max_energy_mobilenetv2],\n",
    "        ['MobileNetV2', 'TPU', 'std', 'time', tpu_std_time_mobilenetv2],\n",
    "        ['MobileNetV2', 'TPU', 'std', 'energy', tpu_std_energy_mobilenetv2],\n",
    "        ['MobileNetV2', 'TPU', 'max', 'time', tpu_max_time_mobilenetv2],\n",
    "        ['MobileNetV2', 'TPU', 'max', 'energy', tpu_max_energy_mobilenetv2]]\n",
    "\n",
    "# Create the pandas DataFrame \n",
    "df = pd.DataFrame(data, columns=['network', 'pu', 'clock_speed', 'measurement', 'value'])"
   ],
   "metadata": {
    "collapsed": false,
    "ExecuteTime": {
     "end_time": "2023-11-22T16:00:01.082710300Z",
     "start_time": "2023-11-22T16:00:01.073262700Z"
    }
   },
   "id": "4e4bc1f37aef386"
  },
  {
   "cell_type": "code",
   "execution_count": 66,
   "outputs": [],
   "source": [
    "def compare_hardware_settings(df, measurement, pu):\n",
    "    facet = sns.catplot(\n",
    "        df.query(\"pu == '\" + pu + \"' and measurement == '\" + measurement + \"'\"), kind=\"bar\",\n",
    "        x=\"clock_speed\", y=\"value\", col=\"network\"\n",
    "    )\n",
    "    if measurement == \"time\":\n",
    "        facet.set(ylabel=\"s\")\n",
    "    else:\n",
    "        facet.set(ylabel=\"Ws\")\n",
    "    facet.fig.subplots_adjust(top=0.9)\n",
    "    if measurement == \"time\":\n",
    "        facet.fig.suptitle(\"Inference latency over 100 images on \" + pu)\n",
    "    else:\n",
    "        facet.fig.suptitle(\"Energy usage over 100 images on \" + pu)\n",
    "    if measurement == \"time\":\n",
    "        measurement = \"latency\"\n",
    "    plt.savefig(pu.lower() + \"_\" + measurement + \".svg\", format=\"svg\")\n",
    "    plt.savefig(pu.lower() + \"_\" + measurement + \".png\", format=\"png\")\n",
    "    plt.clf()"
   ],
   "metadata": {
    "collapsed": false,
    "ExecuteTime": {
     "end_time": "2023-11-22T16:44:43.434098Z",
     "start_time": "2023-11-22T16:44:43.425544700Z"
    }
   },
   "id": "50b7f6235964546c"
  },
  {
   "cell_type": "code",
   "execution_count": 67,
   "outputs": [
    {
     "data": {
      "text/plain": "<Figure size 1500x500 with 0 Axes>"
     },
     "metadata": {},
     "output_type": "display_data"
    },
    {
     "data": {
      "text/plain": "<Figure size 1500x500 with 0 Axes>"
     },
     "metadata": {},
     "output_type": "display_data"
    },
    {
     "data": {
      "text/plain": "<Figure size 1500x500 with 0 Axes>"
     },
     "metadata": {},
     "output_type": "display_data"
    },
    {
     "data": {
      "text/plain": "<Figure size 1500x500 with 0 Axes>"
     },
     "metadata": {},
     "output_type": "display_data"
    }
   ],
   "source": [
    "compare_hardware_settings(df, \"time\", \"CPU\")\n",
    "compare_hardware_settings(df, \"energy\", \"CPU\")\n",
    "compare_hardware_settings(df, \"time\", \"TPU\")\n",
    "compare_hardware_settings(df, \"energy\", \"TPU\")"
   ],
   "metadata": {
    "collapsed": false,
    "ExecuteTime": {
     "end_time": "2023-11-22T16:44:51.107897Z",
     "start_time": "2023-11-22T16:44:47.790085100Z"
    }
   },
   "id": "374924641c6ec995"
  },
  {
   "cell_type": "code",
   "execution_count": 73,
   "outputs": [],
   "source": [
    "def compare_processing_unit(df, measurement):\n",
    "    facet = sns.catplot(\n",
    "        df.query(\"measurement == '\" + measurement + \"'\"), kind=\"bar\",\n",
    "        x=\"clock_speed\", y=\"value\", col=\"network\", hue=\"pu\"\n",
    "    )\n",
    "    if measurement == \"time\":\n",
    "        facet.set(ylabel=\"s\")\n",
    "    else:\n",
    "        facet.set(ylabel=\"Ws\")\n",
    "    facet.fig.subplots_adjust(top=0.9)\n",
    "    if measurement == \"time\":\n",
    "        facet.fig.suptitle(\"Inference latency over 100 images\")\n",
    "    else:\n",
    "        facet.fig.suptitle(\"Energy usage over 100 images\")\n",
    "    if measurement == \"time\":\n",
    "        measurement = \"latency\"\n",
    "    plt.savefig(measurement + \"_pu_comparison.svg\", format=\"svg\")\n",
    "    plt.savefig(measurement + \"_pu_comparison.png\", format=\"png\")\n",
    "    plt.clf()"
   ],
   "metadata": {
    "collapsed": false,
    "ExecuteTime": {
     "end_time": "2023-11-22T16:46:27.921507100Z",
     "start_time": "2023-11-22T16:46:27.915990Z"
    }
   },
   "id": "a4636fd3c186fd51"
  },
  {
   "cell_type": "code",
   "execution_count": 74,
   "outputs": [
    {
     "data": {
      "text/plain": "<Figure size 1579.5x500 with 0 Axes>"
     },
     "metadata": {},
     "output_type": "display_data"
    },
    {
     "data": {
      "text/plain": "<Figure size 1579.5x500 with 0 Axes>"
     },
     "metadata": {},
     "output_type": "display_data"
    }
   ],
   "source": [
    "compare_processing_unit(df, \"time\")\n",
    "compare_processing_unit(df, \"energy\")"
   ],
   "metadata": {
    "collapsed": false,
    "ExecuteTime": {
     "end_time": "2023-11-22T16:46:33.715502400Z",
     "start_time": "2023-11-22T16:46:31.038491Z"
    }
   },
   "id": "bb792e634d45cdf0"
  },
  {
   "cell_type": "code",
   "execution_count": 71,
   "outputs": [],
   "source": [
    "def compare_networks(df, measurement):\n",
    "    facet = sns.catplot(\n",
    "        df.query(\"measurement == '\" + measurement + \"'\"), kind=\"bar\",\n",
    "        x=\"clock_speed\", y=\"value\", col=\"pu\", hue=\"network\"\n",
    "    )\n",
    "    if measurement == \"time\":\n",
    "        facet.set(ylabel=\"s\")\n",
    "    else:\n",
    "        facet.set(ylabel=\"Ws\")\n",
    "    facet.fig.subplots_adjust(top=0.9)\n",
    "    if measurement == \"time\":\n",
    "        facet.fig.suptitle(\"Inference latency over 100 images\")\n",
    "    else:\n",
    "        facet.fig.suptitle(\"Energy usage over 100 images\")\n",
    "    if measurement == \"time\":\n",
    "        measurement = \"latency\"\n",
    "    plt.savefig(measurement + \"_network_comparison.svg\", format=\"svg\")\n",
    "    plt.savefig(measurement + \"_network_comparison.png\", format=\"png\")\n",
    "    plt.clf()"
   ],
   "metadata": {
    "collapsed": false,
    "ExecuteTime": {
     "end_time": "2023-11-22T16:45:27.609622600Z",
     "start_time": "2023-11-22T16:45:27.603061500Z"
    }
   },
   "id": "96e927db38cf9f73"
  },
  {
   "cell_type": "code",
   "execution_count": 72,
   "outputs": [
    {
     "data": {
      "text/plain": "<Figure size 1129.62x500 with 0 Axes>"
     },
     "metadata": {},
     "output_type": "display_data"
    },
    {
     "data": {
      "text/plain": "<Figure size 1129.62x500 with 0 Axes>"
     },
     "metadata": {},
     "output_type": "display_data"
    }
   ],
   "source": [
    "compare_networks(df, \"time\")\n",
    "compare_networks(df, \"energy\")"
   ],
   "metadata": {
    "collapsed": false,
    "ExecuteTime": {
     "end_time": "2023-11-22T16:45:32.921346100Z",
     "start_time": "2023-11-22T16:45:31.267814600Z"
    }
   },
   "id": "c3c5ff096831fad5"
  },
  {
   "cell_type": "code",
   "execution_count": 75,
   "outputs": [],
   "source": [
    "def inspect_tpu_mnv2(measurement):\n",
    "    fig = sns.barplot(\n",
    "        df.query(\"pu == 'TPU' and network == 'MobileNetV2' and measurement == '\" + measurement + \"'\"), x=\"clock_speed\",\n",
    "        y=\"value\"\n",
    "    )\n",
    "    if measurement == \"time\":\n",
    "        fig.set(ylabel=\"s\")\n",
    "    else:\n",
    "        fig.set(ylabel=\"Ws\")\n",
    "    #fig.subplots_adjust(top=0.9)\n",
    "    if measurement == \"time\":\n",
    "        fig.set(title=\"Inference latency over 100 images on TPU with MobileNetV2\")\n",
    "    else:\n",
    "        fig.set(title=\"Energy usage over 100 images on TPU with MobileNetV2\")"
   ],
   "metadata": {
    "collapsed": false,
    "ExecuteTime": {
     "end_time": "2023-11-22T16:46:50.529136800Z",
     "start_time": "2023-11-22T16:46:50.523621200Z"
    }
   },
   "id": "e8fdd469c8a01a23"
  },
  {
   "cell_type": "code",
   "execution_count": 76,
   "outputs": [
    {
     "data": {
      "text/plain": "<Figure size 640x480 with 1 Axes>",
      "image/png": "[encoded data removed]"
     },
     "metadata": {},
     "output_type": "display_data"
    }
   ],
   "source": [
    "inspect_tpu_mnv2(\"time\")"
   ],
   "metadata": {
    "collapsed": false,
    "ExecuteTime": {
     "end_time": "2023-11-22T16:46:55.461454900Z",
     "start_time": "2023-11-22T16:46:55.294210600Z"
    }
   },
   "id": "8a15a6c1a6810f01"
  },
  {
   "cell_type": "code",
   "execution_count": 77,
   "outputs": [
    {
     "data": {
      "text/plain": "<Figure size 640x480 with 1 Axes>",
      "image/png": "[encoded data removed]"
     },
     "metadata": {},
     "output_type": "display_data"
    }
   ],
   "source": [
    "inspect_tpu_mnv2(\"energy\")"
   ],
   "metadata": {
    "collapsed": false,
    "ExecuteTime": {
     "end_time": "2023-11-22T16:47:09.612154900Z",
     "start_time": "2023-11-22T16:47:09.443616200Z"
    }
   },
   "id": "165c100082bf3600"
  }
 ],
 "metadata": {
  "kernelspec": {
   "display_name": "Python 3",
   "language": "python",
   "name": "python3"
  },
  "language_info": {
   "codemirror_mode": {
    "name": "ipython",
    "version": 2
   },
   "file_extension": ".py",
   "mimetype": "text/x-python",
   "name": "python",
   "nbconvert_exporter": "python",
   "pygments_lexer": "ipython2",
   "version": "2.7.6"
  }
 },
 "nbformat": 4,
 "nbformat_minor": 5
}
