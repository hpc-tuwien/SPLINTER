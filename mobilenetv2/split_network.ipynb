{
 "cells": [
  {
   "cell_type": "code",
   "execution_count": null,
   "outputs": [],
   "source": [
    "from functools import partial\n",
    "\n",
    "import numpy as np\n",
    "import tensorflow as tf\n",
    "import tensorflow_datasets as tfds\n",
    "from keras.applications import mobilenet_v2\n",
    "from keras.src.applications import MobileNetV2\n",
    "from tqdm import tqdm_notebook as tqdm\n",
    "\n",
    "from mobilenetv2.utils import split_functional_model"
   ],
   "metadata": {
    "collapsed": false
   },
   "id": "33667b356a0d7da7"
  },
  {
   "cell_type": "code",
   "execution_count": null,
   "outputs": [],
   "source": [
    "def normalize_img(img, lbl):\n",
    "    \"\"\"Normalizes images: `uint8` -> `float32`.\"\"\"\n",
    "    img = tf.image.resize_with_pad(img, 224, 224)\n",
    "    img = mobilenet_v2.preprocess_input(img)\n",
    "    return img, lbl"
   ],
   "metadata": {
    "collapsed": false
   },
   "id": "b35dac030b8962cd"
  },
  {
   "cell_type": "code",
   "execution_count": null,
   "id": "initial_id",
   "metadata": {
    "collapsed": true
   },
   "outputs": [],
   "source": [
    "# load imagenet2012 dataset\n",
    "validation_ds, metadata = tfds.load(\n",
    "    'imagenet2012',\n",
    "    split='validation',\n",
    "    with_info=True,\n",
    "    as_supervised=True,\n",
    ")\n",
    "validation_ds = validation_ds.map(normalize_img, num_parallel_calls=tf.data.AUTOTUNE)\n",
    "get_label_name = metadata.features['label'].int2str"
   ]
  },
  {
   "cell_type": "code",
   "execution_count": null,
   "outputs": [],
   "source": [
    "def representative_dataset(head_network=None):\n",
    "    # should be 100 to 500 according to documentation\n",
    "    number_of_samples = 100\n",
    "    if head_network is None:\n",
    "        for data in validation_ds.batch(1).take(number_of_samples):\n",
    "            yield [data[0]]\n",
    "    else:\n",
    "        interpreter = tf.lite.Interpreter(model_content=head_network)\n",
    "        interpreter.allocate_tensors()\n",
    "        input_details = interpreter.get_input_details()[0]\n",
    "        output_details = interpreter.get_output_details()[0]\n",
    "        input_scale, input_zero_point = input_details[\"quantization\"]\n",
    "        output_scale, output_zero_point = output_details[\"quantization\"]\n",
    "        for data in validation_ds.batch(1).take(number_of_samples):\n",
    "            test_image = data[0][0] / input_scale + input_zero_point\n",
    "            test_image = np.expand_dims(test_image, axis=0).astype(input_details[\"dtype\"])\n",
    "            interpreter.set_tensor(input_details[\"index\"], test_image)\n",
    "            interpreter.invoke()\n",
    "            yield [((interpreter.get_tensor(output_details['index']) - output_zero_point) * output_scale).astype(\n",
    "                \"float32\")]"
   ],
   "metadata": {
    "collapsed": false
   },
   "id": "fd69230951fa1cd5"
  },
  {
   "cell_type": "code",
   "execution_count": null,
   "outputs": [],
   "source": [
    "def quantize_and_save_model(model, name, head_network=None):\n",
    "    # Convert the model.\n",
    "    converter = tf.lite.TFLiteConverter.from_keras_model(model)\n",
    "    converter.optimizations = [tf.lite.Optimize.DEFAULT]\n",
    "    converter.representative_dataset = partial(representative_dataset, head_network)\n",
    "    converter.target_spec.supported_ops = [tf.lite.OpsSet.TFLITE_BUILTINS_INT8]\n",
    "    converter.inference_input_type = tf.int8  # or tf.uint8\n",
    "    converter.inference_output_type = tf.int8  # or tf.uint8\n",
    "    tflite_model = converter.convert()\n",
    "\n",
    "    # Save the model.\n",
    "    with open(\"models/\" + name + '.tflite', 'wb') as f:\n",
    "        f.write(tflite_model)\n",
    "    return tflite_model"
   ],
   "metadata": {
    "collapsed": false
   },
   "id": "4cf959565a17594b"
  },
  {
   "cell_type": "code",
   "execution_count": null,
   "outputs": [],
   "source": [
    "model = MobileNetV2(weights='imagenet')"
   ],
   "metadata": {
    "collapsed": false
   },
   "id": "da8792078e60388a"
  },
  {
   "cell_type": "code",
   "execution_count": null,
   "outputs": [],
   "source": [
    "print(\"Save full model\")\n",
    "_ =quantize_and_save_model(model, \"full\")"
   ],
   "metadata": {
    "collapsed": false
   },
   "id": "82ece0064a9da20d"
  },
  {
   "cell_type": "code",
   "execution_count": null,
   "outputs": [],
   "source": [
    "print(\"Save partial models\")\n",
    "# skip full model with first and last index\n",
    "for i in tqdm(range(1, 75)):\n",
    "    head, tail = split_functional_model(model, i)\n",
    "    head_quantized = quantize_and_save_model(head, \"head/\" + str(i))\n",
    "    quantize_and_save_model(tail, \"tail/\" + str(i), head_quantized)"
   ],
   "metadata": {
    "collapsed": false
   },
   "id": "b159b3dcb17c335e"
  },
  {
   "cell_type": "code",
   "execution_count": null,
   "outputs": [],
   "source": [
    "# prediction on the full 32 bit floating point model\n",
    "it = iter(validation_ds)\n",
    "for _ in range(8):\n",
    "    image, label = next(it)\n",
    "preds = model.predict(tf.stack([image]))\n",
    "print('32 bit fp prediction:', mobilenet_v2.decode_predictions(preds, top=5)[0])"
   ],
   "metadata": {
    "collapsed": false
   },
   "id": "ad68afaba60e14b9"
  },
  {
   "cell_type": "code",
   "execution_count": null,
   "outputs": [],
   "source": [
    "# prediction on the TensorFlow Lite 8 bit quantized model\n",
    "interpreter = tf.lite.Interpreter(model_path=\"models/full.tflite\")\n",
    "interpreter.allocate_tensors()\n",
    "# Get input and output tensors.\n",
    "input_details = interpreter.get_input_details()[0]\n",
    "output_details = interpreter.get_output_details()[0]\n",
    "\n",
    "# convert image to 8 bit\n",
    "input_scale, input_zero_point = input_details[\"quantization\"]\n",
    "test_image = image / input_scale + input_zero_point\n",
    "test_image = np.expand_dims(test_image, axis=0).astype(input_details[\"dtype\"])\n",
    "interpreter.set_tensor(input_details[\"index\"], test_image)\n",
    "\n",
    "interpreter.invoke()\n",
    "\n",
    "# The function `get_tensor()` returns a copy of the tensor data.\n",
    "# Use `tensor()` in order to get a pointer to the tensor.\n",
    "output_data = interpreter.get_tensor(output_details['index'])\n",
    "print('8 bit quantized prediction:', mobilenet_v2.decode_predictions(output_data, top=5)[0])"
   ],
   "metadata": {
    "collapsed": false
   },
   "id": "19e2acd2e410e96f"
  },
  {
   "cell_type": "code",
   "execution_count": null,
   "outputs": [],
   "source": [
    "def show_results(split_at):\n",
    "    # prediction on the TensorFlow Lite 8 bit split quantized model\n",
    "    head = tf.lite.Interpreter(model_path=\"models/head/\" + str(split_at) + \".tflite\")\n",
    "    tail = tf.lite.Interpreter(model_path=\"models/tail/\" + str(split_at) + \".tflite\")\n",
    "    head.allocate_tensors()\n",
    "    tail.allocate_tensors()\n",
    "\n",
    "    # Get input and output tensors from head network.\n",
    "    input_details = head.get_input_details()[0]\n",
    "    output_details = head.get_output_details()[0]\n",
    "\n",
    "    #convert image\n",
    "    input_scale, input_zero_point = input_details[\"quantization\"]\n",
    "    output_scale, output_zero_point = output_details[\"quantization\"]\n",
    "    test_image = image / input_scale + input_zero_point\n",
    "    test_image = np.expand_dims(test_image, axis=0).astype(input_details[\"dtype\"])\n",
    "\n",
    "    # invoke head network\n",
    "    head.set_tensor(input_details[\"index\"], test_image)\n",
    "    head.invoke()\n",
    "    intermediate = head.get_tensor(output_details['index'])\n",
    "\n",
    "    # rescale tensor\n",
    "    intermediate_float = ((intermediate - output_zero_point) * output_scale).astype(\"float32\")\n",
    "\n",
    "    # Get input and output tensors from tail network and convert tensor.\n",
    "    input_details = tail.get_input_details()[0]\n",
    "    output_details = tail.get_output_details()[0]\n",
    "    input_scale, input_zero_point = input_details[\"quantization\"]\n",
    "    intermediate_int = (intermediate_float / input_scale + input_zero_point).astype(input_details[\"dtype\"])\n",
    "\n",
    "    # invoke tail network\n",
    "    tail.set_tensor(input_details[\"index\"], intermediate_int)\n",
    "    tail.invoke()\n",
    "    output_data = tail.get_tensor(output_details['index'])\n",
    "    print('8 bit split at ' + str(split_at) + ' prediction:', mobilenet_v2.decode_predictions(output_data, top=5)[0])"
   ],
   "metadata": {
    "collapsed": false
   },
   "id": "a18d73e676710939"
  },
  {
   "cell_type": "code",
   "execution_count": null,
   "outputs": [],
   "source": [
    "for i in range(1, 75):\n",
    "    show_results(i)"
   ],
   "metadata": {
    "collapsed": false
   },
   "id": "caaea3186871e942"
  }
 ],
 "metadata": {
  "kernelspec": {
   "display_name": "Python 3",
   "language": "python",
   "name": "python3"
  },
  "language_info": {
   "codemirror_mode": {
    "name": "ipython",
    "version": 2
   },
   "file_extension": ".py",
   "mimetype": "text/x-python",
   "name": "python",
   "nbconvert_exporter": "python",
   "pygments_lexer": "ipython2",
   "version": "2.7.6"
  }
 },
 "nbformat": 4,
 "nbformat_minor": 5
}
