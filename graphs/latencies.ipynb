{
 "cells": [
  {
   "cell_type": "code",
   "execution_count": 83,
   "id": "initial_id",
   "metadata": {
    "collapsed": true,
    "ExecuteTime": {
     "end_time": "2023-11-16T15:30:52.236829900Z",
     "start_time": "2023-11-16T15:30:52.231087100Z"
    }
   },
   "outputs": [],
   "source": [
    "import numpy as np\n",
    "import pandas as pd\n",
    "import seaborn as sns\n",
    "from matplotlib import pyplot as plt"
   ]
  },
  {
   "cell_type": "code",
   "execution_count": 84,
   "outputs": [],
   "source": [
    "model_names = {'vgg16': 'VGG16',\n",
    "               'resnet50': 'ResNet50',\n",
    "               'mobilenetv2': 'MobileNetV2'}"
   ],
   "metadata": {
    "collapsed": false,
    "ExecuteTime": {
     "end_time": "2023-11-16T15:30:52.246513700Z",
     "start_time": "2023-11-16T15:30:52.237852700Z"
    }
   },
   "id": "e7fff1d4bae63a60"
  },
  {
   "cell_type": "code",
   "execution_count": 85,
   "outputs": [],
   "source": [
    "def latency_plot(model):\n",
    "    tpu = pd.read_csv(model + '_tpu_latencies.csv')\n",
    "    cpu = pd.read_csv(model + '_cpu_latencies.csv')\n",
    "    tpu = tpu.melt(['layer', 'img'])\n",
    "    cpu = cpu.melt(['layer', 'img'])\n",
    "    tpu['client_pu'] = 'TPU'\n",
    "    cpu['client_pu'] = 'CPU'\n",
    "    df = pd.concat([tpu, cpu])\n",
    "    # non parametric uncertainty estimation\n",
    "    facet = sns.relplot(df, x=\"layer\", y='value', hue='variable', col=\"client_pu\", kind=\"line\", errorbar='ci',\n",
    "                        estimator=np.median)\n",
    "    facet.set(xlabel=\"offload to cloud before layer\", ylabel=\"ms\")\n",
    "    facet.fig.subplots_adjust(top=0.9)\n",
    "    facet.fig.suptitle(model_names[model] + \" latency\")\n",
    "    plt.savefig(model + \"_latency.svg\", format=\"svg\")\n",
    "    plt.savefig(model + \"_latency.png\", format=\"png\")\n",
    "    plt.clf()"
   ],
   "metadata": {
    "collapsed": false,
    "ExecuteTime": {
     "end_time": "2023-11-16T15:30:52.272637600Z",
     "start_time": "2023-11-16T15:30:52.246513700Z"
    }
   },
   "id": "a2129b98fe92b8fe"
  },
  {
   "cell_type": "code",
   "execution_count": 86,
   "outputs": [
    {
     "data": {
      "text/plain": "<Figure size 1098.62x500 with 0 Axes>"
     },
     "metadata": {},
     "output_type": "display_data"
    }
   ],
   "source": [
    "latency_plot('vgg16')"
   ],
   "metadata": {
    "collapsed": false,
    "ExecuteTime": {
     "end_time": "2023-11-16T15:31:01.460454300Z",
     "start_time": "2023-11-16T15:30:52.252026Z"
    }
   },
   "id": "57ddf64a0bb21788"
  },
  {
   "cell_type": "code",
   "execution_count": 87,
   "outputs": [
    {
     "data": {
      "text/plain": "<Figure size 1098.62x500 with 0 Axes>"
     },
     "metadata": {},
     "output_type": "display_data"
    }
   ],
   "source": [
    "latency_plot('resnet50')"
   ],
   "metadata": {
    "collapsed": false,
    "ExecuteTime": {
     "end_time": "2023-11-16T15:31:16.735229400Z",
     "start_time": "2023-11-16T15:31:01.454432300Z"
    }
   },
   "id": "228a5ffd17c6da9"
  },
  {
   "cell_type": "code",
   "execution_count": 88,
   "outputs": [
    {
     "data": {
      "text/plain": "<Figure size 1098.62x500 with 0 Axes>"
     },
     "metadata": {},
     "output_type": "display_data"
    }
   ],
   "source": [
    "latency_plot('mobilenetv2')"
   ],
   "metadata": {
    "collapsed": false,
    "ExecuteTime": {
     "end_time": "2023-11-16T15:31:45.454210900Z",
     "start_time": "2023-11-16T15:31:16.730094300Z"
    }
   },
   "id": "4e2b166367ac5176"
  }
 ],
 "metadata": {
  "kernelspec": {
   "display_name": "Python 3",
   "language": "python",
   "name": "python3"
  },
  "language_info": {
   "codemirror_mode": {
    "name": "ipython",
    "version": 2
   },
   "file_extension": ".py",
   "mimetype": "text/x-python",
   "name": "python",
   "nbconvert_exporter": "python",
   "pygments_lexer": "ipython2",
   "version": "2.7.6"
  }
 },
 "nbformat": 4,
 "nbformat_minor": 5
}
