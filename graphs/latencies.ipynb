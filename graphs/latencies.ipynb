{
 "cells": [
  {
   "cell_type": "code",
   "execution_count": null,
   "id": "initial_id",
   "metadata": {
    "collapsed": true
   },
   "outputs": [],
   "source": [
    "import numpy as np\n",
    "import pandas as pd\n",
    "import seaborn as sns\n",
    "from matplotlib import pyplot as plt"
   ]
  },
  {
   "cell_type": "code",
   "execution_count": null,
   "outputs": [],
   "source": [
    "model_names = {'vgg16': 'VGG16',\n",
    "               'resnet50': 'ResNet50',\n",
    "               'mobilenetv2': 'MobileNetV2'}"
   ],
   "metadata": {
    "collapsed": false
   },
   "id": "e7fff1d4bae63a60"
  },
  {
   "cell_type": "code",
   "execution_count": null,
   "outputs": [],
   "source": [
    "def latency_plot(model):\n",
    "    tpu = pd.read_csv('../' + model + '_tpu_latencies.csv')\n",
    "    cpu = pd.read_csv('../' + model + '_cpu_latencies.csv')\n",
    "    tpu = tpu.melt(['layer', 'img'])\n",
    "    cpu = cpu.melt(['layer', 'img'])\n",
    "    tpu['client_pu'] = 'TPU'\n",
    "    cpu['client_pu'] = 'CPU'\n",
    "    df = pd.concat([tpu, cpu])\n",
    "    # non parametric spread (percentile) - 50% of all values (IQR)? what makes more sense\n",
    "    # non parametric uncercainty (confidence interval) ?\n",
    "    facet = sns.relplot(df, x=\"layer\", y='value', hue='variable', col=\"client_pu\", kind=\"line\", errorbar=('pi', 50),\n",
    "                        estimator=np.median)  #, err_style=\"bars\")\n",
    "    facet.set(xlabel=\"offload to cloud before layer\", ylabel=\"ms\")\n",
    "    facet.fig.subplots_adjust(top=0.9)\n",
    "    facet.fig.suptitle(model_names[model] + \" latency\")\n",
    "    plt.savefig(model + \"_latency.svg\", format=\"svg\")\n",
    "    plt.savefig(model + \"_latency.png\", format=\"png\")\n",
    "    plt.clf()"
   ],
   "metadata": {
    "collapsed": false
   },
   "id": "a2129b98fe92b8fe"
  },
  {
   "cell_type": "code",
   "execution_count": null,
   "outputs": [],
   "source": [
    "latency_plot('vgg16')"
   ],
   "metadata": {
    "collapsed": false
   },
   "id": "57ddf64a0bb21788"
  },
  {
   "cell_type": "code",
   "execution_count": null,
   "outputs": [],
   "source": [
    "latency_plot('resnet50')"
   ],
   "metadata": {
    "collapsed": false
   },
   "id": "228a5ffd17c6da9"
  },
  {
   "cell_type": "code",
   "execution_count": null,
   "outputs": [],
   "source": [
    "latency_plot('mobilenetv2')"
   ],
   "metadata": {
    "collapsed": false
   },
   "id": "4e2b166367ac5176"
  }
 ],
 "metadata": {
  "kernelspec": {
   "display_name": "Python 3",
   "language": "python",
   "name": "python3"
  },
  "language_info": {
   "codemirror_mode": {
    "name": "ipython",
    "version": 2
   },
   "file_extension": ".py",
   "mimetype": "text/x-python",
   "name": "python",
   "nbconvert_exporter": "python",
   "pygments_lexer": "ipython2",
   "version": "2.7.6"
  }
 },
 "nbformat": 4,
 "nbformat_minor": 5
}
