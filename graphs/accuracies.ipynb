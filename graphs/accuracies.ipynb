{
 "cells": [
  {
   "cell_type": "code",
   "execution_count": 27,
   "id": "initial_id",
   "metadata": {
    "collapsed": true,
    "ExecuteTime": {
     "end_time": "2023-11-16T12:06:43.815461100Z",
     "start_time": "2023-11-16T12:06:43.788412300Z"
    }
   },
   "outputs": [],
   "source": [
    "import pandas as pd\n",
    "import seaborn as sns\n",
    "from matplotlib import pyplot as plt"
   ]
  },
  {
   "cell_type": "code",
   "execution_count": 28,
   "outputs": [],
   "source": [
    "model_names = {'vgg16': 'VGG16',\n",
    "               'resnet50': 'ResNet50',\n",
    "               'mobilenetv2': 'MobileNetV2'}"
   ],
   "metadata": {
    "collapsed": false,
    "ExecuteTime": {
     "end_time": "2023-11-16T12:06:43.830457200Z",
     "start_time": "2023-11-16T12:06:43.801142400Z"
    }
   },
   "id": "ca10cd2ca5470522"
  },
  {
   "cell_type": "code",
   "execution_count": 29,
   "outputs": [],
   "source": [
    "def accuracy_plot(model):\n",
    "    tpu = pd.read_csv(model + '_tpu_accuracies.csv')\n",
    "    cpu = pd.read_csv(model + '_cpu_accuracies.csv')\n",
    "    tpu = tpu.melt(['layer'])\n",
    "    cpu = cpu.melt(['layer'])\n",
    "    tpu['client_pu'] = 'TPU'\n",
    "    cpu['client_pu'] = 'CPU'\n",
    "    df = pd.concat([tpu, cpu])\n",
    "    # non parametric uncertainty estimation\n",
    "    facet = sns.relplot(df, x=\"layer\", y='value', hue='variable', col=\"client_pu\", kind=\"line\")\n",
    "    facet.set(xlabel=\"offload to cloud before layer\")\n",
    "    facet.fig.subplots_adjust(top=0.9)\n",
    "    facet.fig.suptitle(model_names[model] + \" accuracy\")\n",
    "    plt.savefig(model + \"_accuracy.svg\", format=\"svg\")\n",
    "    plt.savefig(model + \"_accuracy.png\", format=\"png\")\n",
    "    plt.clf()"
   ],
   "metadata": {
    "collapsed": false,
    "ExecuteTime": {
     "end_time": "2023-11-16T12:06:43.831457100Z",
     "start_time": "2023-11-16T12:06:43.810184Z"
    }
   },
   "id": "76972dc6a7c22991"
  },
  {
   "cell_type": "code",
   "execution_count": 30,
   "outputs": [
    {
     "data": {
      "text/plain": "<Figure size 1077x500 with 0 Axes>"
     },
     "metadata": {},
     "output_type": "display_data"
    }
   ],
   "source": [
    "accuracy_plot('vgg16')"
   ],
   "metadata": {
    "collapsed": false,
    "ExecuteTime": {
     "end_time": "2023-11-16T12:06:45.175589300Z",
     "start_time": "2023-11-16T12:06:43.814456600Z"
    }
   },
   "id": "ff4bc281e2ff56ec"
  },
  {
   "cell_type": "code",
   "execution_count": 31,
   "outputs": [
    {
     "data": {
      "text/plain": "<Figure size 1077x500 with 0 Axes>"
     },
     "metadata": {},
     "output_type": "display_data"
    }
   ],
   "source": [
    "accuracy_plot('resnet50')"
   ],
   "metadata": {
    "collapsed": false,
    "ExecuteTime": {
     "end_time": "2023-11-16T12:35:16.612842600Z",
     "start_time": "2023-11-16T12:35:14.325537500Z"
    }
   },
   "id": "a0f236d87ab82725"
  },
  {
   "cell_type": "code",
   "execution_count": 32,
   "outputs": [
    {
     "data": {
      "text/plain": "<Figure size 1077x500 with 0 Axes>"
     },
     "metadata": {},
     "output_type": "display_data"
    }
   ],
   "source": [
    "accuracy_plot('mobilenetv2')"
   ],
   "metadata": {
    "collapsed": false,
    "ExecuteTime": {
     "end_time": "2023-11-16T12:56:46.238717300Z",
     "start_time": "2023-11-16T12:56:43.829243500Z"
    }
   },
   "id": "8322ed47ea50423c"
  }
 ],
 "metadata": {
  "kernelspec": {
   "display_name": "Python 3",
   "language": "python",
   "name": "python3"
  },
  "language_info": {
   "codemirror_mode": {
    "name": "ipython",
    "version": 2
   },
   "file_extension": ".py",
   "mimetype": "text/x-python",
   "name": "python",
   "nbconvert_exporter": "python",
   "pygments_lexer": "ipython2",
   "version": "2.7.6"
  }
 },
 "nbformat": 4,
 "nbformat_minor": 5
}
