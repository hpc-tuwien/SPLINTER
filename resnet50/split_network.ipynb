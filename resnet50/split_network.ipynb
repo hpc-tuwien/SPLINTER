{
 "cells": [
  {
   "cell_type": "code",
   "execution_count": 1,
   "outputs": [
    {
     "name": "stdout",
     "output_type": "stream",
     "text": [
      "WARNING:tensorflow:From C:\\Users\\danie\\tuWien\\10_semester\\tensorflow\\venv\\Lib\\site-packages\\keras\\src\\losses.py:2976: The name tf.losses.sparse_softmax_cross_entropy is deprecated. Please use tf.compat.v1.losses.sparse_softmax_cross_entropy instead.\n"
     ]
    }
   ],
   "source": [
    "from functools import partial\n",
    "\n",
    "import numpy as np\n",
    "import tensorflow as tf\n",
    "import tensorflow_datasets as tfds\n",
    "from keras.applications import resnet50\n",
    "from keras.src.applications import ResNet50\n",
    "from tqdm import tqdm_notebook as tqdm\n",
    "\n",
    "from mobilenetv2.utils import split_functional_model"
   ],
   "metadata": {
    "collapsed": false,
    "ExecuteTime": {
     "end_time": "2023-11-16T13:48:11.675872100Z",
     "start_time": "2023-11-16T13:48:01.695224300Z"
    }
   },
   "id": "33667b356a0d7da7"
  },
  {
   "cell_type": "code",
   "execution_count": 2,
   "outputs": [],
   "source": [
    "def normalize_img(img, lbl):\n",
    "    \"\"\"Normalizes images: `uint8` -> `float32`.\"\"\"\n",
    "    img = tf.image.resize_with_pad(img, 224, 224)\n",
    "    img = resnet50.preprocess_input(img)\n",
    "    return img, lbl"
   ],
   "metadata": {
    "collapsed": false,
    "ExecuteTime": {
     "end_time": "2023-11-16T13:48:11.676868600Z",
     "start_time": "2023-11-16T13:48:11.665375400Z"
    }
   },
   "id": "b35dac030b8962cd"
  },
  {
   "cell_type": "code",
   "execution_count": 3,
   "id": "initial_id",
   "metadata": {
    "collapsed": true,
    "ExecuteTime": {
     "end_time": "2023-11-16T13:48:12.023378900Z",
     "start_time": "2023-11-16T13:48:11.671866100Z"
    }
   },
   "outputs": [],
   "source": [
    "# load imagenet2012 dataset\n",
    "validation_ds, metadata = tfds.load(\n",
    "    'imagenet2012',\n",
    "    split='validation',\n",
    "    with_info=True,\n",
    "    as_supervised=True,\n",
    ")\n",
    "validation_ds = validation_ds.map(normalize_img, num_parallel_calls=tf.data.AUTOTUNE)\n",
    "get_label_name = metadata.features['label'].int2str"
   ]
  },
  {
   "cell_type": "code",
   "execution_count": 4,
   "outputs": [],
   "source": [
    "def representative_dataset(head_network=None):\n",
    "    # should be 100 to 500 according to documentation\n",
    "    number_of_samples = 100\n",
    "    if head_network is None:\n",
    "        for data in validation_ds.batch(1).take(number_of_samples):\n",
    "            yield [data[0]]\n",
    "    else:\n",
    "        interpreter = tf.lite.Interpreter(model_content=head_network)\n",
    "        interpreter.allocate_tensors()\n",
    "        input_details = interpreter.get_input_details()[0]\n",
    "        output_details = interpreter.get_output_details()[0]\n",
    "        input_scale, input_zero_point = input_details[\"quantization\"]\n",
    "        output_scale, output_zero_point = output_details[\"quantization\"]\n",
    "        for data in validation_ds.batch(1).take(number_of_samples):\n",
    "            test_image = data[0][0] / input_scale + input_zero_point\n",
    "            test_image = np.expand_dims(test_image, axis=0).astype(input_details[\"dtype\"])\n",
    "            interpreter.set_tensor(input_details[\"index\"], test_image)\n",
    "            interpreter.invoke()\n",
    "            yield [((interpreter.get_tensor(output_details['index']) - output_zero_point) * output_scale).astype(\n",
    "                \"float32\")]"
   ],
   "metadata": {
    "collapsed": false,
    "ExecuteTime": {
     "end_time": "2023-11-07T15:12:30.973207800Z",
     "start_time": "2023-11-07T15:12:30.963247900Z"
    }
   },
   "id": "fd69230951fa1cd5"
  },
  {
   "cell_type": "code",
   "execution_count": 5,
   "outputs": [],
   "source": [
    "def quantize_and_save_model(model, name, head_network=None):\n",
    "    # Convert the model.\n",
    "    converter = tf.lite.TFLiteConverter.from_keras_model(model)\n",
    "    converter.optimizations = [tf.lite.Optimize.DEFAULT]\n",
    "    converter.representative_dataset = partial(representative_dataset, head_network)\n",
    "    converter.target_spec.supported_ops = [tf.lite.OpsSet.TFLITE_BUILTINS_INT8]\n",
    "    converter.inference_input_type = tf.int8  # or tf.uint8\n",
    "    converter.inference_output_type = tf.int8  # or tf.uint8\n",
    "    tflite_model = converter.convert()\n",
    "\n",
    "    # Save the model.\n",
    "    with open(\"models/\" + name + '.tflite', 'wb') as f:\n",
    "        f.write(tflite_model)\n",
    "    return tflite_model"
   ],
   "metadata": {
    "collapsed": false,
    "ExecuteTime": {
     "end_time": "2023-11-07T15:12:30.988327700Z",
     "start_time": "2023-11-07T15:12:30.975171300Z"
    }
   },
   "id": "4cf959565a17594b"
  },
  {
   "cell_type": "code",
   "execution_count": 4,
   "outputs": [
    {
     "name": "stdout",
     "output_type": "stream",
     "text": [
      "WARNING:tensorflow:From C:\\Users\\danie\\tuWien\\10_semester\\tensorflow\\venv\\Lib\\site-packages\\keras\\src\\backend.py:1398: The name tf.executing_eagerly_outside_functions is deprecated. Please use tf.compat.v1.executing_eagerly_outside_functions instead.\n"
     ]
    },
    {
     "name": "stderr",
     "output_type": "stream",
     "text": [
      "WARNING:tensorflow:From C:\\Users\\danie\\tuWien\\10_semester\\tensorflow\\venv\\Lib\\site-packages\\keras\\src\\backend.py:1398: The name tf.executing_eagerly_outside_functions is deprecated. Please use tf.compat.v1.executing_eagerly_outside_functions instead.\n",
      "\n"
     ]
    },
    {
     "name": "stdout",
     "output_type": "stream",
     "text": [
      "WARNING:tensorflow:From C:\\Users\\danie\\tuWien\\10_semester\\tensorflow\\venv\\Lib\\site-packages\\keras\\src\\layers\\normalization\\batch_normalization.py:979: The name tf.nn.fused_batch_norm is deprecated. Please use tf.compat.v1.nn.fused_batch_norm instead.\n"
     ]
    },
    {
     "name": "stderr",
     "output_type": "stream",
     "text": [
      "WARNING:tensorflow:From C:\\Users\\danie\\tuWien\\10_semester\\tensorflow\\venv\\Lib\\site-packages\\keras\\src\\layers\\normalization\\batch_normalization.py:979: The name tf.nn.fused_batch_norm is deprecated. Please use tf.compat.v1.nn.fused_batch_norm instead.\n",
      "\n"
     ]
    }
   ],
   "source": [
    "model = ResNet50(weights='imagenet')"
   ],
   "metadata": {
    "collapsed": false,
    "ExecuteTime": {
     "end_time": "2023-11-16T13:48:14.849670300Z",
     "start_time": "2023-11-16T13:48:11.994378600Z"
    }
   },
   "id": "da8792078e60388a"
  },
  {
   "cell_type": "code",
   "execution_count": 7,
   "outputs": [
    {
     "name": "stdout",
     "output_type": "stream",
     "text": [
      "Save full model\n",
      "INFO:tensorflow:Assets written to: C:\\Users\\danie\\AppData\\Local\\Temp\\tmpg21bj4f6\\assets\n"
     ]
    },
    {
     "name": "stderr",
     "output_type": "stream",
     "text": [
      "INFO:tensorflow:Assets written to: C:\\Users\\danie\\AppData\\Local\\Temp\\tmpg21bj4f6\\assets\n",
      "C:\\Users\\danie\\tuWien\\10_semester\\tensorflow\\venv\\Lib\\site-packages\\tensorflow\\lite\\python\\convert.py:947: UserWarning: Statistics for quantized inputs were expected, but not specified; continuing anyway.\n",
      "  warnings.warn(\n"
     ]
    }
   ],
   "source": [
    "print(\"Save full model\")\n",
    "_ = quantize_and_save_model(model, \"full\")"
   ],
   "metadata": {
    "collapsed": false,
    "ExecuteTime": {
     "end_time": "2023-11-07T15:13:38.956474600Z",
     "start_time": "2023-11-07T15:12:32.280176700Z"
    }
   },
   "id": "82ece0064a9da20d"
  },
  {
   "cell_type": "code",
   "execution_count": 8,
   "outputs": [
    {
     "name": "stdout",
     "output_type": "stream",
     "text": [
      "Save partial models\n"
     ]
    },
    {
     "name": "stderr",
     "output_type": "stream",
     "text": [
      "C:\\Users\\danie\\AppData\\Local\\Temp\\ipykernel_27420\\2377953975.py:3: TqdmDeprecationWarning: This function will be removed in tqdm==5.0.0\n",
      "Please use `tqdm.notebook.tqdm` instead of `tqdm.tqdm_notebook`\n",
      "  for i in tqdm(range(1, 75)):\n"
     ]
    },
    {
     "data": {
      "text/plain": "  0%|          | 0/74 [00:00<?, ?it/s]",
      "application/vnd.jupyter.widget-view+json": {
       "version_major": 2,
       "version_minor": 0,
       "model_id": "2b2f72ca314c4fb5b0e14fd4387b534f"
      }
     },
     "metadata": {},
     "output_type": "display_data"
    },
    {
     "name": "stdout",
     "output_type": "stream",
     "text": [
      "INFO:tensorflow:Assets written to: C:\\Users\\danie\\AppData\\Local\\Temp\\tmp9c3qb1mx\\assets\n"
     ]
    },
    {
     "name": "stderr",
     "output_type": "stream",
     "text": [
      "INFO:tensorflow:Assets written to: C:\\Users\\danie\\AppData\\Local\\Temp\\tmp9c3qb1mx\\assets\n",
      "C:\\Users\\danie\\tuWien\\10_semester\\tensorflow\\venv\\Lib\\site-packages\\tensorflow\\lite\\python\\convert.py:947: UserWarning: Statistics for quantized inputs were expected, but not specified; continuing anyway.\n",
      "  warnings.warn(\n"
     ]
    },
    {
     "name": "stdout",
     "output_type": "stream",
     "text": [
      "INFO:tensorflow:Assets written to: C:\\Users\\danie\\AppData\\Local\\Temp\\tmp7fwf3oge\\assets\n"
     ]
    },
    {
     "name": "stderr",
     "output_type": "stream",
     "text": [
      "INFO:tensorflow:Assets written to: C:\\Users\\danie\\AppData\\Local\\Temp\\tmp7fwf3oge\\assets\n",
      "C:\\Users\\danie\\tuWien\\10_semester\\tensorflow\\venv\\Lib\\site-packages\\tensorflow\\lite\\python\\convert.py:947: UserWarning: Statistics for quantized inputs were expected, but not specified; continuing anyway.\n",
      "  warnings.warn(\n"
     ]
    },
    {
     "name": "stdout",
     "output_type": "stream",
     "text": [
      "INFO:tensorflow:Assets written to: C:\\Users\\danie\\AppData\\Local\\Temp\\tmph_yq7fq_\\assets\n"
     ]
    },
    {
     "name": "stderr",
     "output_type": "stream",
     "text": [
      "INFO:tensorflow:Assets written to: C:\\Users\\danie\\AppData\\Local\\Temp\\tmph_yq7fq_\\assets\n",
      "C:\\Users\\danie\\tuWien\\10_semester\\tensorflow\\venv\\Lib\\site-packages\\tensorflow\\lite\\python\\convert.py:947: UserWarning: Statistics for quantized inputs were expected, but not specified; continuing anyway.\n",
      "  warnings.warn(\n"
     ]
    },
    {
     "name": "stdout",
     "output_type": "stream",
     "text": [
      "INFO:tensorflow:Assets written to: C:\\Users\\danie\\AppData\\Local\\Temp\\tmp1ehzcciu\\assets\n"
     ]
    },
    {
     "name": "stderr",
     "output_type": "stream",
     "text": [
      "INFO:tensorflow:Assets written to: C:\\Users\\danie\\AppData\\Local\\Temp\\tmp1ehzcciu\\assets\n",
      "C:\\Users\\danie\\tuWien\\10_semester\\tensorflow\\venv\\Lib\\site-packages\\tensorflow\\lite\\python\\convert.py:947: UserWarning: Statistics for quantized inputs were expected, but not specified; continuing anyway.\n",
      "  warnings.warn(\n"
     ]
    },
    {
     "name": "stdout",
     "output_type": "stream",
     "text": [
      "INFO:tensorflow:Assets written to: C:\\Users\\danie\\AppData\\Local\\Temp\\tmp3r608k_u\\assets\n"
     ]
    },
    {
     "name": "stderr",
     "output_type": "stream",
     "text": [
      "INFO:tensorflow:Assets written to: C:\\Users\\danie\\AppData\\Local\\Temp\\tmp3r608k_u\\assets\n",
      "C:\\Users\\danie\\tuWien\\10_semester\\tensorflow\\venv\\Lib\\site-packages\\tensorflow\\lite\\python\\convert.py:947: UserWarning: Statistics for quantized inputs were expected, but not specified; continuing anyway.\n",
      "  warnings.warn(\n"
     ]
    },
    {
     "name": "stdout",
     "output_type": "stream",
     "text": [
      "INFO:tensorflow:Assets written to: C:\\Users\\danie\\AppData\\Local\\Temp\\tmpwefeamsy\\assets\n"
     ]
    },
    {
     "name": "stderr",
     "output_type": "stream",
     "text": [
      "INFO:tensorflow:Assets written to: C:\\Users\\danie\\AppData\\Local\\Temp\\tmpwefeamsy\\assets\n",
      "C:\\Users\\danie\\tuWien\\10_semester\\tensorflow\\venv\\Lib\\site-packages\\tensorflow\\lite\\python\\convert.py:947: UserWarning: Statistics for quantized inputs were expected, but not specified; continuing anyway.\n",
      "  warnings.warn(\n"
     ]
    },
    {
     "name": "stdout",
     "output_type": "stream",
     "text": [
      "INFO:tensorflow:Assets written to: C:\\Users\\danie\\AppData\\Local\\Temp\\tmp4f4l7j6b\\assets\n"
     ]
    },
    {
     "name": "stderr",
     "output_type": "stream",
     "text": [
      "INFO:tensorflow:Assets written to: C:\\Users\\danie\\AppData\\Local\\Temp\\tmp4f4l7j6b\\assets\n",
      "C:\\Users\\danie\\tuWien\\10_semester\\tensorflow\\venv\\Lib\\site-packages\\tensorflow\\lite\\python\\convert.py:947: UserWarning: Statistics for quantized inputs were expected, but not specified; continuing anyway.\n",
      "  warnings.warn(\n"
     ]
    },
    {
     "name": "stdout",
     "output_type": "stream",
     "text": [
      "INFO:tensorflow:Assets written to: C:\\Users\\danie\\AppData\\Local\\Temp\\tmpdogougbx\\assets\n"
     ]
    },
    {
     "name": "stderr",
     "output_type": "stream",
     "text": [
      "INFO:tensorflow:Assets written to: C:\\Users\\danie\\AppData\\Local\\Temp\\tmpdogougbx\\assets\n",
      "C:\\Users\\danie\\tuWien\\10_semester\\tensorflow\\venv\\Lib\\site-packages\\tensorflow\\lite\\python\\convert.py:947: UserWarning: Statistics for quantized inputs were expected, but not specified; continuing anyway.\n",
      "  warnings.warn(\n"
     ]
    },
    {
     "name": "stdout",
     "output_type": "stream",
     "text": [
      "INFO:tensorflow:Assets written to: C:\\Users\\danie\\AppData\\Local\\Temp\\tmpwuykpncx\\assets\n"
     ]
    },
    {
     "name": "stderr",
     "output_type": "stream",
     "text": [
      "INFO:tensorflow:Assets written to: C:\\Users\\danie\\AppData\\Local\\Temp\\tmpwuykpncx\\assets\n",
      "C:\\Users\\danie\\tuWien\\10_semester\\tensorflow\\venv\\Lib\\site-packages\\tensorflow\\lite\\python\\convert.py:947: UserWarning: Statistics for quantized inputs were expected, but not specified; continuing anyway.\n",
      "  warnings.warn(\n"
     ]
    },
    {
     "name": "stdout",
     "output_type": "stream",
     "text": [
      "INFO:tensorflow:Assets written to: C:\\Users\\danie\\AppData\\Local\\Temp\\tmphqia7koy\\assets\n"
     ]
    },
    {
     "name": "stderr",
     "output_type": "stream",
     "text": [
      "INFO:tensorflow:Assets written to: C:\\Users\\danie\\AppData\\Local\\Temp\\tmphqia7koy\\assets\n",
      "C:\\Users\\danie\\tuWien\\10_semester\\tensorflow\\venv\\Lib\\site-packages\\tensorflow\\lite\\python\\convert.py:947: UserWarning: Statistics for quantized inputs were expected, but not specified; continuing anyway.\n",
      "  warnings.warn(\n"
     ]
    },
    {
     "name": "stdout",
     "output_type": "stream",
     "text": [
      "INFO:tensorflow:Assets written to: C:\\Users\\danie\\AppData\\Local\\Temp\\tmpsn3fyemw\\assets\n"
     ]
    },
    {
     "name": "stderr",
     "output_type": "stream",
     "text": [
      "INFO:tensorflow:Assets written to: C:\\Users\\danie\\AppData\\Local\\Temp\\tmpsn3fyemw\\assets\n",
      "C:\\Users\\danie\\tuWien\\10_semester\\tensorflow\\venv\\Lib\\site-packages\\tensorflow\\lite\\python\\convert.py:947: UserWarning: Statistics for quantized inputs were expected, but not specified; continuing anyway.\n",
      "  warnings.warn(\n"
     ]
    },
    {
     "name": "stdout",
     "output_type": "stream",
     "text": [
      "INFO:tensorflow:Assets written to: C:\\Users\\danie\\AppData\\Local\\Temp\\tmphw4d2_ot\\assets\n"
     ]
    },
    {
     "name": "stderr",
     "output_type": "stream",
     "text": [
      "INFO:tensorflow:Assets written to: C:\\Users\\danie\\AppData\\Local\\Temp\\tmphw4d2_ot\\assets\n",
      "C:\\Users\\danie\\tuWien\\10_semester\\tensorflow\\venv\\Lib\\site-packages\\tensorflow\\lite\\python\\convert.py:947: UserWarning: Statistics for quantized inputs were expected, but not specified; continuing anyway.\n",
      "  warnings.warn(\n"
     ]
    },
    {
     "name": "stdout",
     "output_type": "stream",
     "text": [
      "INFO:tensorflow:Assets written to: C:\\Users\\danie\\AppData\\Local\\Temp\\tmpdnetr_gz\\assets\n"
     ]
    },
    {
     "name": "stderr",
     "output_type": "stream",
     "text": [
      "INFO:tensorflow:Assets written to: C:\\Users\\danie\\AppData\\Local\\Temp\\tmpdnetr_gz\\assets\n",
      "C:\\Users\\danie\\tuWien\\10_semester\\tensorflow\\venv\\Lib\\site-packages\\tensorflow\\lite\\python\\convert.py:947: UserWarning: Statistics for quantized inputs were expected, but not specified; continuing anyway.\n",
      "  warnings.warn(\n"
     ]
    },
    {
     "name": "stdout",
     "output_type": "stream",
     "text": [
      "INFO:tensorflow:Assets written to: C:\\Users\\danie\\AppData\\Local\\Temp\\tmpptt35nil\\assets\n"
     ]
    },
    {
     "name": "stderr",
     "output_type": "stream",
     "text": [
      "INFO:tensorflow:Assets written to: C:\\Users\\danie\\AppData\\Local\\Temp\\tmpptt35nil\\assets\n",
      "C:\\Users\\danie\\tuWien\\10_semester\\tensorflow\\venv\\Lib\\site-packages\\tensorflow\\lite\\python\\convert.py:947: UserWarning: Statistics for quantized inputs were expected, but not specified; continuing anyway.\n",
      "  warnings.warn(\n"
     ]
    },
    {
     "name": "stdout",
     "output_type": "stream",
     "text": [
      "INFO:tensorflow:Assets written to: C:\\Users\\danie\\AppData\\Local\\Temp\\tmp5w5ypek9\\assets\n"
     ]
    },
    {
     "name": "stderr",
     "output_type": "stream",
     "text": [
      "INFO:tensorflow:Assets written to: C:\\Users\\danie\\AppData\\Local\\Temp\\tmp5w5ypek9\\assets\n",
      "C:\\Users\\danie\\tuWien\\10_semester\\tensorflow\\venv\\Lib\\site-packages\\tensorflow\\lite\\python\\convert.py:947: UserWarning: Statistics for quantized inputs were expected, but not specified; continuing anyway.\n",
      "  warnings.warn(\n"
     ]
    },
    {
     "name": "stdout",
     "output_type": "stream",
     "text": [
      "INFO:tensorflow:Assets written to: C:\\Users\\danie\\AppData\\Local\\Temp\\tmpw9ro4b6d\\assets\n"
     ]
    },
    {
     "name": "stderr",
     "output_type": "stream",
     "text": [
      "INFO:tensorflow:Assets written to: C:\\Users\\danie\\AppData\\Local\\Temp\\tmpw9ro4b6d\\assets\n",
      "C:\\Users\\danie\\tuWien\\10_semester\\tensorflow\\venv\\Lib\\site-packages\\tensorflow\\lite\\python\\convert.py:947: UserWarning: Statistics for quantized inputs were expected, but not specified; continuing anyway.\n",
      "  warnings.warn(\n"
     ]
    },
    {
     "name": "stdout",
     "output_type": "stream",
     "text": [
      "INFO:tensorflow:Assets written to: C:\\Users\\danie\\AppData\\Local\\Temp\\tmps48n47lu\\assets\n"
     ]
    },
    {
     "name": "stderr",
     "output_type": "stream",
     "text": [
      "INFO:tensorflow:Assets written to: C:\\Users\\danie\\AppData\\Local\\Temp\\tmps48n47lu\\assets\n",
      "C:\\Users\\danie\\tuWien\\10_semester\\tensorflow\\venv\\Lib\\site-packages\\tensorflow\\lite\\python\\convert.py:947: UserWarning: Statistics for quantized inputs were expected, but not specified; continuing anyway.\n",
      "  warnings.warn(\n"
     ]
    },
    {
     "name": "stdout",
     "output_type": "stream",
     "text": [
      "INFO:tensorflow:Assets written to: C:\\Users\\danie\\AppData\\Local\\Temp\\tmpe1ilr5bd\\assets\n"
     ]
    },
    {
     "name": "stderr",
     "output_type": "stream",
     "text": [
      "INFO:tensorflow:Assets written to: C:\\Users\\danie\\AppData\\Local\\Temp\\tmpe1ilr5bd\\assets\n",
      "C:\\Users\\danie\\tuWien\\10_semester\\tensorflow\\venv\\Lib\\site-packages\\tensorflow\\lite\\python\\convert.py:947: UserWarning: Statistics for quantized inputs were expected, but not specified; continuing anyway.\n",
      "  warnings.warn(\n"
     ]
    },
    {
     "name": "stdout",
     "output_type": "stream",
     "text": [
      "INFO:tensorflow:Assets written to: C:\\Users\\danie\\AppData\\Local\\Temp\\tmpdl5_5lxx\\assets\n"
     ]
    },
    {
     "name": "stderr",
     "output_type": "stream",
     "text": [
      "INFO:tensorflow:Assets written to: C:\\Users\\danie\\AppData\\Local\\Temp\\tmpdl5_5lxx\\assets\n",
      "C:\\Users\\danie\\tuWien\\10_semester\\tensorflow\\venv\\Lib\\site-packages\\tensorflow\\lite\\python\\convert.py:947: UserWarning: Statistics for quantized inputs were expected, but not specified; continuing anyway.\n",
      "  warnings.warn(\n"
     ]
    },
    {
     "name": "stdout",
     "output_type": "stream",
     "text": [
      "INFO:tensorflow:Assets written to: C:\\Users\\danie\\AppData\\Local\\Temp\\tmpp64hcjdn\\assets\n"
     ]
    },
    {
     "name": "stderr",
     "output_type": "stream",
     "text": [
      "INFO:tensorflow:Assets written to: C:\\Users\\danie\\AppData\\Local\\Temp\\tmpp64hcjdn\\assets\n",
      "C:\\Users\\danie\\tuWien\\10_semester\\tensorflow\\venv\\Lib\\site-packages\\tensorflow\\lite\\python\\convert.py:947: UserWarning: Statistics for quantized inputs were expected, but not specified; continuing anyway.\n",
      "  warnings.warn(\n"
     ]
    },
    {
     "name": "stdout",
     "output_type": "stream",
     "text": [
      "INFO:tensorflow:Assets written to: C:\\Users\\danie\\AppData\\Local\\Temp\\tmpm9vx6qig\\assets\n"
     ]
    },
    {
     "name": "stderr",
     "output_type": "stream",
     "text": [
      "INFO:tensorflow:Assets written to: C:\\Users\\danie\\AppData\\Local\\Temp\\tmpm9vx6qig\\assets\n",
      "C:\\Users\\danie\\tuWien\\10_semester\\tensorflow\\venv\\Lib\\site-packages\\tensorflow\\lite\\python\\convert.py:947: UserWarning: Statistics for quantized inputs were expected, but not specified; continuing anyway.\n",
      "  warnings.warn(\n"
     ]
    },
    {
     "name": "stdout",
     "output_type": "stream",
     "text": [
      "INFO:tensorflow:Assets written to: C:\\Users\\danie\\AppData\\Local\\Temp\\tmpxsm0tpu0\\assets\n"
     ]
    },
    {
     "name": "stderr",
     "output_type": "stream",
     "text": [
      "INFO:tensorflow:Assets written to: C:\\Users\\danie\\AppData\\Local\\Temp\\tmpxsm0tpu0\\assets\n",
      "C:\\Users\\danie\\tuWien\\10_semester\\tensorflow\\venv\\Lib\\site-packages\\tensorflow\\lite\\python\\convert.py:947: UserWarning: Statistics for quantized inputs were expected, but not specified; continuing anyway.\n",
      "  warnings.warn(\n"
     ]
    },
    {
     "name": "stdout",
     "output_type": "stream",
     "text": [
      "INFO:tensorflow:Assets written to: C:\\Users\\danie\\AppData\\Local\\Temp\\tmp81qrpaoy\\assets\n"
     ]
    },
    {
     "name": "stderr",
     "output_type": "stream",
     "text": [
      "INFO:tensorflow:Assets written to: C:\\Users\\danie\\AppData\\Local\\Temp\\tmp81qrpaoy\\assets\n",
      "C:\\Users\\danie\\tuWien\\10_semester\\tensorflow\\venv\\Lib\\site-packages\\tensorflow\\lite\\python\\convert.py:947: UserWarning: Statistics for quantized inputs were expected, but not specified; continuing anyway.\n",
      "  warnings.warn(\n"
     ]
    },
    {
     "name": "stdout",
     "output_type": "stream",
     "text": [
      "INFO:tensorflow:Assets written to: C:\\Users\\danie\\AppData\\Local\\Temp\\tmp0lhsmevt\\assets\n"
     ]
    },
    {
     "name": "stderr",
     "output_type": "stream",
     "text": [
      "INFO:tensorflow:Assets written to: C:\\Users\\danie\\AppData\\Local\\Temp\\tmp0lhsmevt\\assets\n",
      "C:\\Users\\danie\\tuWien\\10_semester\\tensorflow\\venv\\Lib\\site-packages\\tensorflow\\lite\\python\\convert.py:947: UserWarning: Statistics for quantized inputs were expected, but not specified; continuing anyway.\n",
      "  warnings.warn(\n"
     ]
    },
    {
     "name": "stdout",
     "output_type": "stream",
     "text": [
      "INFO:tensorflow:Assets written to: C:\\Users\\danie\\AppData\\Local\\Temp\\tmpjta0obh4\\assets\n"
     ]
    },
    {
     "name": "stderr",
     "output_type": "stream",
     "text": [
      "INFO:tensorflow:Assets written to: C:\\Users\\danie\\AppData\\Local\\Temp\\tmpjta0obh4\\assets\n",
      "C:\\Users\\danie\\tuWien\\10_semester\\tensorflow\\venv\\Lib\\site-packages\\tensorflow\\lite\\python\\convert.py:947: UserWarning: Statistics for quantized inputs were expected, but not specified; continuing anyway.\n",
      "  warnings.warn(\n"
     ]
    },
    {
     "name": "stdout",
     "output_type": "stream",
     "text": [
      "INFO:tensorflow:Assets written to: C:\\Users\\danie\\AppData\\Local\\Temp\\tmpxuhwo8pb\\assets\n"
     ]
    },
    {
     "name": "stderr",
     "output_type": "stream",
     "text": [
      "INFO:tensorflow:Assets written to: C:\\Users\\danie\\AppData\\Local\\Temp\\tmpxuhwo8pb\\assets\n",
      "C:\\Users\\danie\\tuWien\\10_semester\\tensorflow\\venv\\Lib\\site-packages\\tensorflow\\lite\\python\\convert.py:947: UserWarning: Statistics for quantized inputs were expected, but not specified; continuing anyway.\n",
      "  warnings.warn(\n"
     ]
    },
    {
     "name": "stdout",
     "output_type": "stream",
     "text": [
      "INFO:tensorflow:Assets written to: C:\\Users\\danie\\AppData\\Local\\Temp\\tmpvoi75rlr\\assets\n"
     ]
    },
    {
     "name": "stderr",
     "output_type": "stream",
     "text": [
      "INFO:tensorflow:Assets written to: C:\\Users\\danie\\AppData\\Local\\Temp\\tmpvoi75rlr\\assets\n",
      "C:\\Users\\danie\\tuWien\\10_semester\\tensorflow\\venv\\Lib\\site-packages\\tensorflow\\lite\\python\\convert.py:947: UserWarning: Statistics for quantized inputs were expected, but not specified; continuing anyway.\n",
      "  warnings.warn(\n"
     ]
    },
    {
     "name": "stdout",
     "output_type": "stream",
     "text": [
      "INFO:tensorflow:Assets written to: C:\\Users\\danie\\AppData\\Local\\Temp\\tmpm23bngi8\\assets\n"
     ]
    },
    {
     "name": "stderr",
     "output_type": "stream",
     "text": [
      "INFO:tensorflow:Assets written to: C:\\Users\\danie\\AppData\\Local\\Temp\\tmpm23bngi8\\assets\n",
      "C:\\Users\\danie\\tuWien\\10_semester\\tensorflow\\venv\\Lib\\site-packages\\tensorflow\\lite\\python\\convert.py:947: UserWarning: Statistics for quantized inputs were expected, but not specified; continuing anyway.\n",
      "  warnings.warn(\n"
     ]
    },
    {
     "name": "stdout",
     "output_type": "stream",
     "text": [
      "INFO:tensorflow:Assets written to: C:\\Users\\danie\\AppData\\Local\\Temp\\tmpafjdd4dg\\assets\n"
     ]
    },
    {
     "name": "stderr",
     "output_type": "stream",
     "text": [
      "INFO:tensorflow:Assets written to: C:\\Users\\danie\\AppData\\Local\\Temp\\tmpafjdd4dg\\assets\n",
      "C:\\Users\\danie\\tuWien\\10_semester\\tensorflow\\venv\\Lib\\site-packages\\tensorflow\\lite\\python\\convert.py:947: UserWarning: Statistics for quantized inputs were expected, but not specified; continuing anyway.\n",
      "  warnings.warn(\n"
     ]
    },
    {
     "name": "stdout",
     "output_type": "stream",
     "text": [
      "INFO:tensorflow:Assets written to: C:\\Users\\danie\\AppData\\Local\\Temp\\tmpar3nhn34\\assets\n"
     ]
    },
    {
     "name": "stderr",
     "output_type": "stream",
     "text": [
      "INFO:tensorflow:Assets written to: C:\\Users\\danie\\AppData\\Local\\Temp\\tmpar3nhn34\\assets\n",
      "C:\\Users\\danie\\tuWien\\10_semester\\tensorflow\\venv\\Lib\\site-packages\\tensorflow\\lite\\python\\convert.py:947: UserWarning: Statistics for quantized inputs were expected, but not specified; continuing anyway.\n",
      "  warnings.warn(\n"
     ]
    },
    {
     "name": "stdout",
     "output_type": "stream",
     "text": [
      "INFO:tensorflow:Assets written to: C:\\Users\\danie\\AppData\\Local\\Temp\\tmpc23j62fe\\assets\n"
     ]
    },
    {
     "name": "stderr",
     "output_type": "stream",
     "text": [
      "INFO:tensorflow:Assets written to: C:\\Users\\danie\\AppData\\Local\\Temp\\tmpc23j62fe\\assets\n",
      "C:\\Users\\danie\\tuWien\\10_semester\\tensorflow\\venv\\Lib\\site-packages\\tensorflow\\lite\\python\\convert.py:947: UserWarning: Statistics for quantized inputs were expected, but not specified; continuing anyway.\n",
      "  warnings.warn(\n"
     ]
    },
    {
     "name": "stdout",
     "output_type": "stream",
     "text": [
      "INFO:tensorflow:Assets written to: C:\\Users\\danie\\AppData\\Local\\Temp\\tmpnvk0bim9\\assets\n"
     ]
    },
    {
     "name": "stderr",
     "output_type": "stream",
     "text": [
      "INFO:tensorflow:Assets written to: C:\\Users\\danie\\AppData\\Local\\Temp\\tmpnvk0bim9\\assets\n",
      "C:\\Users\\danie\\tuWien\\10_semester\\tensorflow\\venv\\Lib\\site-packages\\tensorflow\\lite\\python\\convert.py:947: UserWarning: Statistics for quantized inputs were expected, but not specified; continuing anyway.\n",
      "  warnings.warn(\n"
     ]
    },
    {
     "name": "stdout",
     "output_type": "stream",
     "text": [
      "INFO:tensorflow:Assets written to: C:\\Users\\danie\\AppData\\Local\\Temp\\tmpwxwf_ig3\\assets\n"
     ]
    },
    {
     "name": "stderr",
     "output_type": "stream",
     "text": [
      "INFO:tensorflow:Assets written to: C:\\Users\\danie\\AppData\\Local\\Temp\\tmpwxwf_ig3\\assets\n",
      "C:\\Users\\danie\\tuWien\\10_semester\\tensorflow\\venv\\Lib\\site-packages\\tensorflow\\lite\\python\\convert.py:947: UserWarning: Statistics for quantized inputs were expected, but not specified; continuing anyway.\n",
      "  warnings.warn(\n"
     ]
    },
    {
     "name": "stdout",
     "output_type": "stream",
     "text": [
      "INFO:tensorflow:Assets written to: C:\\Users\\danie\\AppData\\Local\\Temp\\tmpo7edpthj\\assets\n"
     ]
    },
    {
     "name": "stderr",
     "output_type": "stream",
     "text": [
      "INFO:tensorflow:Assets written to: C:\\Users\\danie\\AppData\\Local\\Temp\\tmpo7edpthj\\assets\n",
      "C:\\Users\\danie\\tuWien\\10_semester\\tensorflow\\venv\\Lib\\site-packages\\tensorflow\\lite\\python\\convert.py:947: UserWarning: Statistics for quantized inputs were expected, but not specified; continuing anyway.\n",
      "  warnings.warn(\n"
     ]
    },
    {
     "name": "stdout",
     "output_type": "stream",
     "text": [
      "INFO:tensorflow:Assets written to: C:\\Users\\danie\\AppData\\Local\\Temp\\tmp3nghq10g\\assets\n"
     ]
    },
    {
     "name": "stderr",
     "output_type": "stream",
     "text": [
      "INFO:tensorflow:Assets written to: C:\\Users\\danie\\AppData\\Local\\Temp\\tmp3nghq10g\\assets\n",
      "C:\\Users\\danie\\tuWien\\10_semester\\tensorflow\\venv\\Lib\\site-packages\\tensorflow\\lite\\python\\convert.py:947: UserWarning: Statistics for quantized inputs were expected, but not specified; continuing anyway.\n",
      "  warnings.warn(\n"
     ]
    },
    {
     "name": "stdout",
     "output_type": "stream",
     "text": [
      "INFO:tensorflow:Assets written to: C:\\Users\\danie\\AppData\\Local\\Temp\\tmpgp7uzp5w\\assets\n"
     ]
    },
    {
     "name": "stderr",
     "output_type": "stream",
     "text": [
      "INFO:tensorflow:Assets written to: C:\\Users\\danie\\AppData\\Local\\Temp\\tmpgp7uzp5w\\assets\n",
      "C:\\Users\\danie\\tuWien\\10_semester\\tensorflow\\venv\\Lib\\site-packages\\tensorflow\\lite\\python\\convert.py:947: UserWarning: Statistics for quantized inputs were expected, but not specified; continuing anyway.\n",
      "  warnings.warn(\n"
     ]
    },
    {
     "name": "stdout",
     "output_type": "stream",
     "text": [
      "INFO:tensorflow:Assets written to: C:\\Users\\danie\\AppData\\Local\\Temp\\tmpi8q4vill\\assets\n"
     ]
    },
    {
     "name": "stderr",
     "output_type": "stream",
     "text": [
      "INFO:tensorflow:Assets written to: C:\\Users\\danie\\AppData\\Local\\Temp\\tmpi8q4vill\\assets\n",
      "C:\\Users\\danie\\tuWien\\10_semester\\tensorflow\\venv\\Lib\\site-packages\\tensorflow\\lite\\python\\convert.py:947: UserWarning: Statistics for quantized inputs were expected, but not specified; continuing anyway.\n",
      "  warnings.warn(\n"
     ]
    },
    {
     "name": "stdout",
     "output_type": "stream",
     "text": [
      "INFO:tensorflow:Assets written to: C:\\Users\\danie\\AppData\\Local\\Temp\\tmpkvgm0mjk\\assets\n"
     ]
    },
    {
     "name": "stderr",
     "output_type": "stream",
     "text": [
      "INFO:tensorflow:Assets written to: C:\\Users\\danie\\AppData\\Local\\Temp\\tmpkvgm0mjk\\assets\n",
      "C:\\Users\\danie\\tuWien\\10_semester\\tensorflow\\venv\\Lib\\site-packages\\tensorflow\\lite\\python\\convert.py:947: UserWarning: Statistics for quantized inputs were expected, but not specified; continuing anyway.\n",
      "  warnings.warn(\n"
     ]
    },
    {
     "name": "stdout",
     "output_type": "stream",
     "text": [
      "INFO:tensorflow:Assets written to: C:\\Users\\danie\\AppData\\Local\\Temp\\tmpg_yb87p4\\assets\n"
     ]
    },
    {
     "name": "stderr",
     "output_type": "stream",
     "text": [
      "INFO:tensorflow:Assets written to: C:\\Users\\danie\\AppData\\Local\\Temp\\tmpg_yb87p4\\assets\n",
      "C:\\Users\\danie\\tuWien\\10_semester\\tensorflow\\venv\\Lib\\site-packages\\tensorflow\\lite\\python\\convert.py:947: UserWarning: Statistics for quantized inputs were expected, but not specified; continuing anyway.\n",
      "  warnings.warn(\n"
     ]
    },
    {
     "name": "stdout",
     "output_type": "stream",
     "text": [
      "INFO:tensorflow:Assets written to: C:\\Users\\danie\\AppData\\Local\\Temp\\tmp031usvx1\\assets\n"
     ]
    },
    {
     "name": "stderr",
     "output_type": "stream",
     "text": [
      "INFO:tensorflow:Assets written to: C:\\Users\\danie\\AppData\\Local\\Temp\\tmp031usvx1\\assets\n",
      "C:\\Users\\danie\\tuWien\\10_semester\\tensorflow\\venv\\Lib\\site-packages\\tensorflow\\lite\\python\\convert.py:947: UserWarning: Statistics for quantized inputs were expected, but not specified; continuing anyway.\n",
      "  warnings.warn(\n"
     ]
    },
    {
     "name": "stdout",
     "output_type": "stream",
     "text": [
      "INFO:tensorflow:Assets written to: C:\\Users\\danie\\AppData\\Local\\Temp\\tmp21i0ap6q\\assets\n"
     ]
    },
    {
     "name": "stderr",
     "output_type": "stream",
     "text": [
      "INFO:tensorflow:Assets written to: C:\\Users\\danie\\AppData\\Local\\Temp\\tmp21i0ap6q\\assets\n",
      "C:\\Users\\danie\\tuWien\\10_semester\\tensorflow\\venv\\Lib\\site-packages\\tensorflow\\lite\\python\\convert.py:947: UserWarning: Statistics for quantized inputs were expected, but not specified; continuing anyway.\n",
      "  warnings.warn(\n"
     ]
    },
    {
     "name": "stdout",
     "output_type": "stream",
     "text": [
      "INFO:tensorflow:Assets written to: C:\\Users\\danie\\AppData\\Local\\Temp\\tmp629dedvp\\assets\n"
     ]
    },
    {
     "name": "stderr",
     "output_type": "stream",
     "text": [
      "INFO:tensorflow:Assets written to: C:\\Users\\danie\\AppData\\Local\\Temp\\tmp629dedvp\\assets\n",
      "C:\\Users\\danie\\tuWien\\10_semester\\tensorflow\\venv\\Lib\\site-packages\\tensorflow\\lite\\python\\convert.py:947: UserWarning: Statistics for quantized inputs were expected, but not specified; continuing anyway.\n",
      "  warnings.warn(\n"
     ]
    },
    {
     "name": "stdout",
     "output_type": "stream",
     "text": [
      "INFO:tensorflow:Assets written to: C:\\Users\\danie\\AppData\\Local\\Temp\\tmpx_q3nz9o\\assets\n"
     ]
    },
    {
     "name": "stderr",
     "output_type": "stream",
     "text": [
      "INFO:tensorflow:Assets written to: C:\\Users\\danie\\AppData\\Local\\Temp\\tmpx_q3nz9o\\assets\n",
      "C:\\Users\\danie\\tuWien\\10_semester\\tensorflow\\venv\\Lib\\site-packages\\tensorflow\\lite\\python\\convert.py:947: UserWarning: Statistics for quantized inputs were expected, but not specified; continuing anyway.\n",
      "  warnings.warn(\n"
     ]
    },
    {
     "name": "stdout",
     "output_type": "stream",
     "text": [
      "INFO:tensorflow:Assets written to: C:\\Users\\danie\\AppData\\Local\\Temp\\tmpyigi7sia\\assets\n"
     ]
    },
    {
     "name": "stderr",
     "output_type": "stream",
     "text": [
      "INFO:tensorflow:Assets written to: C:\\Users\\danie\\AppData\\Local\\Temp\\tmpyigi7sia\\assets\n",
      "C:\\Users\\danie\\tuWien\\10_semester\\tensorflow\\venv\\Lib\\site-packages\\tensorflow\\lite\\python\\convert.py:947: UserWarning: Statistics for quantized inputs were expected, but not specified; continuing anyway.\n",
      "  warnings.warn(\n"
     ]
    },
    {
     "name": "stdout",
     "output_type": "stream",
     "text": [
      "INFO:tensorflow:Assets written to: C:\\Users\\danie\\AppData\\Local\\Temp\\tmptpl9z_ut\\assets\n"
     ]
    },
    {
     "name": "stderr",
     "output_type": "stream",
     "text": [
      "INFO:tensorflow:Assets written to: C:\\Users\\danie\\AppData\\Local\\Temp\\tmptpl9z_ut\\assets\n",
      "C:\\Users\\danie\\tuWien\\10_semester\\tensorflow\\venv\\Lib\\site-packages\\tensorflow\\lite\\python\\convert.py:947: UserWarning: Statistics for quantized inputs were expected, but not specified; continuing anyway.\n",
      "  warnings.warn(\n"
     ]
    },
    {
     "name": "stdout",
     "output_type": "stream",
     "text": [
      "INFO:tensorflow:Assets written to: C:\\Users\\danie\\AppData\\Local\\Temp\\tmpm4ngs4w1\\assets\n"
     ]
    },
    {
     "name": "stderr",
     "output_type": "stream",
     "text": [
      "INFO:tensorflow:Assets written to: C:\\Users\\danie\\AppData\\Local\\Temp\\tmpm4ngs4w1\\assets\n",
      "C:\\Users\\danie\\tuWien\\10_semester\\tensorflow\\venv\\Lib\\site-packages\\tensorflow\\lite\\python\\convert.py:947: UserWarning: Statistics for quantized inputs were expected, but not specified; continuing anyway.\n",
      "  warnings.warn(\n"
     ]
    },
    {
     "name": "stdout",
     "output_type": "stream",
     "text": [
      "INFO:tensorflow:Assets written to: C:\\Users\\danie\\AppData\\Local\\Temp\\tmp74dic2_6\\assets\n"
     ]
    },
    {
     "name": "stderr",
     "output_type": "stream",
     "text": [
      "INFO:tensorflow:Assets written to: C:\\Users\\danie\\AppData\\Local\\Temp\\tmp74dic2_6\\assets\n",
      "C:\\Users\\danie\\tuWien\\10_semester\\tensorflow\\venv\\Lib\\site-packages\\tensorflow\\lite\\python\\convert.py:947: UserWarning: Statistics for quantized inputs were expected, but not specified; continuing anyway.\n",
      "  warnings.warn(\n"
     ]
    },
    {
     "name": "stdout",
     "output_type": "stream",
     "text": [
      "INFO:tensorflow:Assets written to: C:\\Users\\danie\\AppData\\Local\\Temp\\tmp63e081wv\\assets\n"
     ]
    },
    {
     "name": "stderr",
     "output_type": "stream",
     "text": [
      "INFO:tensorflow:Assets written to: C:\\Users\\danie\\AppData\\Local\\Temp\\tmp63e081wv\\assets\n",
      "C:\\Users\\danie\\tuWien\\10_semester\\tensorflow\\venv\\Lib\\site-packages\\tensorflow\\lite\\python\\convert.py:947: UserWarning: Statistics for quantized inputs were expected, but not specified; continuing anyway.\n",
      "  warnings.warn(\n"
     ]
    },
    {
     "name": "stdout",
     "output_type": "stream",
     "text": [
      "INFO:tensorflow:Assets written to: C:\\Users\\danie\\AppData\\Local\\Temp\\tmpzimbhjfu\\assets\n"
     ]
    },
    {
     "name": "stderr",
     "output_type": "stream",
     "text": [
      "INFO:tensorflow:Assets written to: C:\\Users\\danie\\AppData\\Local\\Temp\\tmpzimbhjfu\\assets\n",
      "C:\\Users\\danie\\tuWien\\10_semester\\tensorflow\\venv\\Lib\\site-packages\\tensorflow\\lite\\python\\convert.py:947: UserWarning: Statistics for quantized inputs were expected, but not specified; continuing anyway.\n",
      "  warnings.warn(\n"
     ]
    },
    {
     "name": "stdout",
     "output_type": "stream",
     "text": [
      "INFO:tensorflow:Assets written to: C:\\Users\\danie\\AppData\\Local\\Temp\\tmp7m6cb3ib\\assets\n"
     ]
    },
    {
     "name": "stderr",
     "output_type": "stream",
     "text": [
      "INFO:tensorflow:Assets written to: C:\\Users\\danie\\AppData\\Local\\Temp\\tmp7m6cb3ib\\assets\n",
      "C:\\Users\\danie\\tuWien\\10_semester\\tensorflow\\venv\\Lib\\site-packages\\tensorflow\\lite\\python\\convert.py:947: UserWarning: Statistics for quantized inputs were expected, but not specified; continuing anyway.\n",
      "  warnings.warn(\n"
     ]
    },
    {
     "name": "stdout",
     "output_type": "stream",
     "text": [
      "INFO:tensorflow:Assets written to: C:\\Users\\danie\\AppData\\Local\\Temp\\tmpr7xoh3es\\assets\n"
     ]
    },
    {
     "name": "stderr",
     "output_type": "stream",
     "text": [
      "INFO:tensorflow:Assets written to: C:\\Users\\danie\\AppData\\Local\\Temp\\tmpr7xoh3es\\assets\n",
      "C:\\Users\\danie\\tuWien\\10_semester\\tensorflow\\venv\\Lib\\site-packages\\tensorflow\\lite\\python\\convert.py:947: UserWarning: Statistics for quantized inputs were expected, but not specified; continuing anyway.\n",
      "  warnings.warn(\n"
     ]
    },
    {
     "name": "stdout",
     "output_type": "stream",
     "text": [
      "INFO:tensorflow:Assets written to: C:\\Users\\danie\\AppData\\Local\\Temp\\tmpwy9xvvnm\\assets\n"
     ]
    },
    {
     "name": "stderr",
     "output_type": "stream",
     "text": [
      "INFO:tensorflow:Assets written to: C:\\Users\\danie\\AppData\\Local\\Temp\\tmpwy9xvvnm\\assets\n",
      "C:\\Users\\danie\\tuWien\\10_semester\\tensorflow\\venv\\Lib\\site-packages\\tensorflow\\lite\\python\\convert.py:947: UserWarning: Statistics for quantized inputs were expected, but not specified; continuing anyway.\n",
      "  warnings.warn(\n"
     ]
    },
    {
     "name": "stdout",
     "output_type": "stream",
     "text": [
      "INFO:tensorflow:Assets written to: C:\\Users\\danie\\AppData\\Local\\Temp\\tmppfeiygs4\\assets\n"
     ]
    },
    {
     "name": "stderr",
     "output_type": "stream",
     "text": [
      "INFO:tensorflow:Assets written to: C:\\Users\\danie\\AppData\\Local\\Temp\\tmppfeiygs4\\assets\n",
      "C:\\Users\\danie\\tuWien\\10_semester\\tensorflow\\venv\\Lib\\site-packages\\tensorflow\\lite\\python\\convert.py:947: UserWarning: Statistics for quantized inputs were expected, but not specified; continuing anyway.\n",
      "  warnings.warn(\n"
     ]
    },
    {
     "name": "stdout",
     "output_type": "stream",
     "text": [
      "INFO:tensorflow:Assets written to: C:\\Users\\danie\\AppData\\Local\\Temp\\tmpy910_rj_\\assets\n"
     ]
    },
    {
     "name": "stderr",
     "output_type": "stream",
     "text": [
      "INFO:tensorflow:Assets written to: C:\\Users\\danie\\AppData\\Local\\Temp\\tmpy910_rj_\\assets\n",
      "C:\\Users\\danie\\tuWien\\10_semester\\tensorflow\\venv\\Lib\\site-packages\\tensorflow\\lite\\python\\convert.py:947: UserWarning: Statistics for quantized inputs were expected, but not specified; continuing anyway.\n",
      "  warnings.warn(\n"
     ]
    },
    {
     "name": "stdout",
     "output_type": "stream",
     "text": [
      "INFO:tensorflow:Assets written to: C:\\Users\\danie\\AppData\\Local\\Temp\\tmp2ze8rss6\\assets\n"
     ]
    },
    {
     "name": "stderr",
     "output_type": "stream",
     "text": [
      "INFO:tensorflow:Assets written to: C:\\Users\\danie\\AppData\\Local\\Temp\\tmp2ze8rss6\\assets\n",
      "C:\\Users\\danie\\tuWien\\10_semester\\tensorflow\\venv\\Lib\\site-packages\\tensorflow\\lite\\python\\convert.py:947: UserWarning: Statistics for quantized inputs were expected, but not specified; continuing anyway.\n",
      "  warnings.warn(\n"
     ]
    },
    {
     "name": "stdout",
     "output_type": "stream",
     "text": [
      "INFO:tensorflow:Assets written to: C:\\Users\\danie\\AppData\\Local\\Temp\\tmpiajsld6v\\assets\n"
     ]
    },
    {
     "name": "stderr",
     "output_type": "stream",
     "text": [
      "INFO:tensorflow:Assets written to: C:\\Users\\danie\\AppData\\Local\\Temp\\tmpiajsld6v\\assets\n",
      "C:\\Users\\danie\\tuWien\\10_semester\\tensorflow\\venv\\Lib\\site-packages\\tensorflow\\lite\\python\\convert.py:947: UserWarning: Statistics for quantized inputs were expected, but not specified; continuing anyway.\n",
      "  warnings.warn(\n"
     ]
    },
    {
     "name": "stdout",
     "output_type": "stream",
     "text": [
      "INFO:tensorflow:Assets written to: C:\\Users\\danie\\AppData\\Local\\Temp\\tmpu6v99oue\\assets\n"
     ]
    },
    {
     "name": "stderr",
     "output_type": "stream",
     "text": [
      "INFO:tensorflow:Assets written to: C:\\Users\\danie\\AppData\\Local\\Temp\\tmpu6v99oue\\assets\n",
      "C:\\Users\\danie\\tuWien\\10_semester\\tensorflow\\venv\\Lib\\site-packages\\tensorflow\\lite\\python\\convert.py:947: UserWarning: Statistics for quantized inputs were expected, but not specified; continuing anyway.\n",
      "  warnings.warn(\n"
     ]
    },
    {
     "name": "stdout",
     "output_type": "stream",
     "text": [
      "INFO:tensorflow:Assets written to: C:\\Users\\danie\\AppData\\Local\\Temp\\tmp06mg_gla\\assets\n"
     ]
    },
    {
     "name": "stderr",
     "output_type": "stream",
     "text": [
      "INFO:tensorflow:Assets written to: C:\\Users\\danie\\AppData\\Local\\Temp\\tmp06mg_gla\\assets\n",
      "C:\\Users\\danie\\tuWien\\10_semester\\tensorflow\\venv\\Lib\\site-packages\\tensorflow\\lite\\python\\convert.py:947: UserWarning: Statistics for quantized inputs were expected, but not specified; continuing anyway.\n",
      "  warnings.warn(\n"
     ]
    },
    {
     "name": "stdout",
     "output_type": "stream",
     "text": [
      "INFO:tensorflow:Assets written to: C:\\Users\\danie\\AppData\\Local\\Temp\\tmp503cwsrm\\assets\n"
     ]
    },
    {
     "name": "stderr",
     "output_type": "stream",
     "text": [
      "INFO:tensorflow:Assets written to: C:\\Users\\danie\\AppData\\Local\\Temp\\tmp503cwsrm\\assets\n",
      "C:\\Users\\danie\\tuWien\\10_semester\\tensorflow\\venv\\Lib\\site-packages\\tensorflow\\lite\\python\\convert.py:947: UserWarning: Statistics for quantized inputs were expected, but not specified; continuing anyway.\n",
      "  warnings.warn(\n"
     ]
    },
    {
     "name": "stdout",
     "output_type": "stream",
     "text": [
      "INFO:tensorflow:Assets written to: C:\\Users\\danie\\AppData\\Local\\Temp\\tmp3m4bamd3\\assets\n"
     ]
    },
    {
     "name": "stderr",
     "output_type": "stream",
     "text": [
      "INFO:tensorflow:Assets written to: C:\\Users\\danie\\AppData\\Local\\Temp\\tmp3m4bamd3\\assets\n",
      "C:\\Users\\danie\\tuWien\\10_semester\\tensorflow\\venv\\Lib\\site-packages\\tensorflow\\lite\\python\\convert.py:947: UserWarning: Statistics for quantized inputs were expected, but not specified; continuing anyway.\n",
      "  warnings.warn(\n"
     ]
    },
    {
     "name": "stdout",
     "output_type": "stream",
     "text": [
      "INFO:tensorflow:Assets written to: C:\\Users\\danie\\AppData\\Local\\Temp\\tmpf3t024vr\\assets\n"
     ]
    },
    {
     "name": "stderr",
     "output_type": "stream",
     "text": [
      "INFO:tensorflow:Assets written to: C:\\Users\\danie\\AppData\\Local\\Temp\\tmpf3t024vr\\assets\n",
      "C:\\Users\\danie\\tuWien\\10_semester\\tensorflow\\venv\\Lib\\site-packages\\tensorflow\\lite\\python\\convert.py:947: UserWarning: Statistics for quantized inputs were expected, but not specified; continuing anyway.\n",
      "  warnings.warn(\n"
     ]
    },
    {
     "name": "stdout",
     "output_type": "stream",
     "text": [
      "INFO:tensorflow:Assets written to: C:\\Users\\danie\\AppData\\Local\\Temp\\tmpghw6vnsm\\assets\n"
     ]
    },
    {
     "name": "stderr",
     "output_type": "stream",
     "text": [
      "INFO:tensorflow:Assets written to: C:\\Users\\danie\\AppData\\Local\\Temp\\tmpghw6vnsm\\assets\n",
      "C:\\Users\\danie\\tuWien\\10_semester\\tensorflow\\venv\\Lib\\site-packages\\tensorflow\\lite\\python\\convert.py:947: UserWarning: Statistics for quantized inputs were expected, but not specified; continuing anyway.\n",
      "  warnings.warn(\n"
     ]
    },
    {
     "name": "stdout",
     "output_type": "stream",
     "text": [
      "INFO:tensorflow:Assets written to: C:\\Users\\danie\\AppData\\Local\\Temp\\tmp1mqgtrp_\\assets\n"
     ]
    },
    {
     "name": "stderr",
     "output_type": "stream",
     "text": [
      "INFO:tensorflow:Assets written to: C:\\Users\\danie\\AppData\\Local\\Temp\\tmp1mqgtrp_\\assets\n",
      "C:\\Users\\danie\\tuWien\\10_semester\\tensorflow\\venv\\Lib\\site-packages\\tensorflow\\lite\\python\\convert.py:947: UserWarning: Statistics for quantized inputs were expected, but not specified; continuing anyway.\n",
      "  warnings.warn(\n"
     ]
    },
    {
     "name": "stdout",
     "output_type": "stream",
     "text": [
      "INFO:tensorflow:Assets written to: C:\\Users\\danie\\AppData\\Local\\Temp\\tmpr927ccz4\\assets\n"
     ]
    },
    {
     "name": "stderr",
     "output_type": "stream",
     "text": [
      "INFO:tensorflow:Assets written to: C:\\Users\\danie\\AppData\\Local\\Temp\\tmpr927ccz4\\assets\n",
      "C:\\Users\\danie\\tuWien\\10_semester\\tensorflow\\venv\\Lib\\site-packages\\tensorflow\\lite\\python\\convert.py:947: UserWarning: Statistics for quantized inputs were expected, but not specified; continuing anyway.\n",
      "  warnings.warn(\n"
     ]
    },
    {
     "name": "stdout",
     "output_type": "stream",
     "text": [
      "INFO:tensorflow:Assets written to: C:\\Users\\danie\\AppData\\Local\\Temp\\tmpf8y2kpme\\assets\n"
     ]
    },
    {
     "name": "stderr",
     "output_type": "stream",
     "text": [
      "INFO:tensorflow:Assets written to: C:\\Users\\danie\\AppData\\Local\\Temp\\tmpf8y2kpme\\assets\n",
      "C:\\Users\\danie\\tuWien\\10_semester\\tensorflow\\venv\\Lib\\site-packages\\tensorflow\\lite\\python\\convert.py:947: UserWarning: Statistics for quantized inputs were expected, but not specified; continuing anyway.\n",
      "  warnings.warn(\n"
     ]
    },
    {
     "name": "stdout",
     "output_type": "stream",
     "text": [
      "INFO:tensorflow:Assets written to: C:\\Users\\danie\\AppData\\Local\\Temp\\tmpdnhp4zgk\\assets\n"
     ]
    },
    {
     "name": "stderr",
     "output_type": "stream",
     "text": [
      "INFO:tensorflow:Assets written to: C:\\Users\\danie\\AppData\\Local\\Temp\\tmpdnhp4zgk\\assets\n",
      "C:\\Users\\danie\\tuWien\\10_semester\\tensorflow\\venv\\Lib\\site-packages\\tensorflow\\lite\\python\\convert.py:947: UserWarning: Statistics for quantized inputs were expected, but not specified; continuing anyway.\n",
      "  warnings.warn(\n"
     ]
    },
    {
     "name": "stdout",
     "output_type": "stream",
     "text": [
      "INFO:tensorflow:Assets written to: C:\\Users\\danie\\AppData\\Local\\Temp\\tmpdh3xmif1\\assets\n"
     ]
    },
    {
     "name": "stderr",
     "output_type": "stream",
     "text": [
      "INFO:tensorflow:Assets written to: C:\\Users\\danie\\AppData\\Local\\Temp\\tmpdh3xmif1\\assets\n",
      "C:\\Users\\danie\\tuWien\\10_semester\\tensorflow\\venv\\Lib\\site-packages\\tensorflow\\lite\\python\\convert.py:947: UserWarning: Statistics for quantized inputs were expected, but not specified; continuing anyway.\n",
      "  warnings.warn(\n"
     ]
    },
    {
     "name": "stdout",
     "output_type": "stream",
     "text": [
      "INFO:tensorflow:Assets written to: C:\\Users\\danie\\AppData\\Local\\Temp\\tmpo4mzmpu2\\assets\n"
     ]
    },
    {
     "name": "stderr",
     "output_type": "stream",
     "text": [
      "INFO:tensorflow:Assets written to: C:\\Users\\danie\\AppData\\Local\\Temp\\tmpo4mzmpu2\\assets\n",
      "C:\\Users\\danie\\tuWien\\10_semester\\tensorflow\\venv\\Lib\\site-packages\\tensorflow\\lite\\python\\convert.py:947: UserWarning: Statistics for quantized inputs were expected, but not specified; continuing anyway.\n",
      "  warnings.warn(\n"
     ]
    },
    {
     "name": "stdout",
     "output_type": "stream",
     "text": [
      "INFO:tensorflow:Assets written to: C:\\Users\\danie\\AppData\\Local\\Temp\\tmp6brab4as\\assets\n"
     ]
    },
    {
     "name": "stderr",
     "output_type": "stream",
     "text": [
      "INFO:tensorflow:Assets written to: C:\\Users\\danie\\AppData\\Local\\Temp\\tmp6brab4as\\assets\n",
      "C:\\Users\\danie\\tuWien\\10_semester\\tensorflow\\venv\\Lib\\site-packages\\tensorflow\\lite\\python\\convert.py:947: UserWarning: Statistics for quantized inputs were expected, but not specified; continuing anyway.\n",
      "  warnings.warn(\n"
     ]
    },
    {
     "name": "stdout",
     "output_type": "stream",
     "text": [
      "INFO:tensorflow:Assets written to: C:\\Users\\danie\\AppData\\Local\\Temp\\tmpj6_1y04f\\assets\n"
     ]
    },
    {
     "name": "stderr",
     "output_type": "stream",
     "text": [
      "INFO:tensorflow:Assets written to: C:\\Users\\danie\\AppData\\Local\\Temp\\tmpj6_1y04f\\assets\n",
      "C:\\Users\\danie\\tuWien\\10_semester\\tensorflow\\venv\\Lib\\site-packages\\tensorflow\\lite\\python\\convert.py:947: UserWarning: Statistics for quantized inputs were expected, but not specified; continuing anyway.\n",
      "  warnings.warn(\n"
     ]
    },
    {
     "name": "stdout",
     "output_type": "stream",
     "text": [
      "INFO:tensorflow:Assets written to: C:\\Users\\danie\\AppData\\Local\\Temp\\tmps3uqlhlu\\assets\n"
     ]
    },
    {
     "name": "stderr",
     "output_type": "stream",
     "text": [
      "INFO:tensorflow:Assets written to: C:\\Users\\danie\\AppData\\Local\\Temp\\tmps3uqlhlu\\assets\n",
      "C:\\Users\\danie\\tuWien\\10_semester\\tensorflow\\venv\\Lib\\site-packages\\tensorflow\\lite\\python\\convert.py:947: UserWarning: Statistics for quantized inputs were expected, but not specified; continuing anyway.\n",
      "  warnings.warn(\n"
     ]
    },
    {
     "name": "stdout",
     "output_type": "stream",
     "text": [
      "INFO:tensorflow:Assets written to: C:\\Users\\danie\\AppData\\Local\\Temp\\tmpyno3nma1\\assets\n"
     ]
    },
    {
     "name": "stderr",
     "output_type": "stream",
     "text": [
      "INFO:tensorflow:Assets written to: C:\\Users\\danie\\AppData\\Local\\Temp\\tmpyno3nma1\\assets\n",
      "C:\\Users\\danie\\tuWien\\10_semester\\tensorflow\\venv\\Lib\\site-packages\\tensorflow\\lite\\python\\convert.py:947: UserWarning: Statistics for quantized inputs were expected, but not specified; continuing anyway.\n",
      "  warnings.warn(\n"
     ]
    },
    {
     "name": "stdout",
     "output_type": "stream",
     "text": [
      "INFO:tensorflow:Assets written to: C:\\Users\\danie\\AppData\\Local\\Temp\\tmpwc2nssg2\\assets\n"
     ]
    },
    {
     "name": "stderr",
     "output_type": "stream",
     "text": [
      "INFO:tensorflow:Assets written to: C:\\Users\\danie\\AppData\\Local\\Temp\\tmpwc2nssg2\\assets\n",
      "C:\\Users\\danie\\tuWien\\10_semester\\tensorflow\\venv\\Lib\\site-packages\\tensorflow\\lite\\python\\convert.py:947: UserWarning: Statistics for quantized inputs were expected, but not specified; continuing anyway.\n",
      "  warnings.warn(\n"
     ]
    },
    {
     "name": "stdout",
     "output_type": "stream",
     "text": [
      "INFO:tensorflow:Assets written to: C:\\Users\\danie\\AppData\\Local\\Temp\\tmpj5926lie\\assets\n"
     ]
    },
    {
     "name": "stderr",
     "output_type": "stream",
     "text": [
      "INFO:tensorflow:Assets written to: C:\\Users\\danie\\AppData\\Local\\Temp\\tmpj5926lie\\assets\n",
      "C:\\Users\\danie\\tuWien\\10_semester\\tensorflow\\venv\\Lib\\site-packages\\tensorflow\\lite\\python\\convert.py:947: UserWarning: Statistics for quantized inputs were expected, but not specified; continuing anyway.\n",
      "  warnings.warn(\n"
     ]
    },
    {
     "name": "stdout",
     "output_type": "stream",
     "text": [
      "INFO:tensorflow:Assets written to: C:\\Users\\danie\\AppData\\Local\\Temp\\tmptcdmh0tq\\assets\n"
     ]
    },
    {
     "name": "stderr",
     "output_type": "stream",
     "text": [
      "INFO:tensorflow:Assets written to: C:\\Users\\danie\\AppData\\Local\\Temp\\tmptcdmh0tq\\assets\n",
      "C:\\Users\\danie\\tuWien\\10_semester\\tensorflow\\venv\\Lib\\site-packages\\tensorflow\\lite\\python\\convert.py:947: UserWarning: Statistics for quantized inputs were expected, but not specified; continuing anyway.\n",
      "  warnings.warn(\n"
     ]
    },
    {
     "name": "stdout",
     "output_type": "stream",
     "text": [
      "INFO:tensorflow:Assets written to: C:\\Users\\danie\\AppData\\Local\\Temp\\tmpapzc3x4c\\assets\n"
     ]
    },
    {
     "name": "stderr",
     "output_type": "stream",
     "text": [
      "INFO:tensorflow:Assets written to: C:\\Users\\danie\\AppData\\Local\\Temp\\tmpapzc3x4c\\assets\n",
      "C:\\Users\\danie\\tuWien\\10_semester\\tensorflow\\venv\\Lib\\site-packages\\tensorflow\\lite\\python\\convert.py:947: UserWarning: Statistics for quantized inputs were expected, but not specified; continuing anyway.\n",
      "  warnings.warn(\n"
     ]
    },
    {
     "name": "stdout",
     "output_type": "stream",
     "text": [
      "INFO:tensorflow:Assets written to: C:\\Users\\danie\\AppData\\Local\\Temp\\tmp2eu2tf8z\\assets\n"
     ]
    },
    {
     "name": "stderr",
     "output_type": "stream",
     "text": [
      "INFO:tensorflow:Assets written to: C:\\Users\\danie\\AppData\\Local\\Temp\\tmp2eu2tf8z\\assets\n",
      "C:\\Users\\danie\\tuWien\\10_semester\\tensorflow\\venv\\Lib\\site-packages\\tensorflow\\lite\\python\\convert.py:947: UserWarning: Statistics for quantized inputs were expected, but not specified; continuing anyway.\n",
      "  warnings.warn(\n"
     ]
    },
    {
     "name": "stdout",
     "output_type": "stream",
     "text": [
      "INFO:tensorflow:Assets written to: C:\\Users\\danie\\AppData\\Local\\Temp\\tmpwnco5ohw\\assets\n"
     ]
    },
    {
     "name": "stderr",
     "output_type": "stream",
     "text": [
      "INFO:tensorflow:Assets written to: C:\\Users\\danie\\AppData\\Local\\Temp\\tmpwnco5ohw\\assets\n",
      "C:\\Users\\danie\\tuWien\\10_semester\\tensorflow\\venv\\Lib\\site-packages\\tensorflow\\lite\\python\\convert.py:947: UserWarning: Statistics for quantized inputs were expected, but not specified; continuing anyway.\n",
      "  warnings.warn(\n"
     ]
    },
    {
     "name": "stdout",
     "output_type": "stream",
     "text": [
      "INFO:tensorflow:Assets written to: C:\\Users\\danie\\AppData\\Local\\Temp\\tmpq7i5fr_z\\assets\n"
     ]
    },
    {
     "name": "stderr",
     "output_type": "stream",
     "text": [
      "INFO:tensorflow:Assets written to: C:\\Users\\danie\\AppData\\Local\\Temp\\tmpq7i5fr_z\\assets\n",
      "C:\\Users\\danie\\tuWien\\10_semester\\tensorflow\\venv\\Lib\\site-packages\\tensorflow\\lite\\python\\convert.py:947: UserWarning: Statistics for quantized inputs were expected, but not specified; continuing anyway.\n",
      "  warnings.warn(\n"
     ]
    },
    {
     "name": "stdout",
     "output_type": "stream",
     "text": [
      "INFO:tensorflow:Assets written to: C:\\Users\\danie\\AppData\\Local\\Temp\\tmpv5ut0bo7\\assets\n"
     ]
    },
    {
     "name": "stderr",
     "output_type": "stream",
     "text": [
      "INFO:tensorflow:Assets written to: C:\\Users\\danie\\AppData\\Local\\Temp\\tmpv5ut0bo7\\assets\n",
      "C:\\Users\\danie\\tuWien\\10_semester\\tensorflow\\venv\\Lib\\site-packages\\tensorflow\\lite\\python\\convert.py:947: UserWarning: Statistics for quantized inputs were expected, but not specified; continuing anyway.\n",
      "  warnings.warn(\n"
     ]
    },
    {
     "name": "stdout",
     "output_type": "stream",
     "text": [
      "INFO:tensorflow:Assets written to: C:\\Users\\danie\\AppData\\Local\\Temp\\tmp6ymi9ehn\\assets\n"
     ]
    },
    {
     "name": "stderr",
     "output_type": "stream",
     "text": [
      "INFO:tensorflow:Assets written to: C:\\Users\\danie\\AppData\\Local\\Temp\\tmp6ymi9ehn\\assets\n",
      "C:\\Users\\danie\\tuWien\\10_semester\\tensorflow\\venv\\Lib\\site-packages\\tensorflow\\lite\\python\\convert.py:947: UserWarning: Statistics for quantized inputs were expected, but not specified; continuing anyway.\n",
      "  warnings.warn(\n"
     ]
    },
    {
     "name": "stdout",
     "output_type": "stream",
     "text": [
      "INFO:tensorflow:Assets written to: C:\\Users\\danie\\AppData\\Local\\Temp\\tmpitnwq_tk\\assets\n"
     ]
    },
    {
     "name": "stderr",
     "output_type": "stream",
     "text": [
      "INFO:tensorflow:Assets written to: C:\\Users\\danie\\AppData\\Local\\Temp\\tmpitnwq_tk\\assets\n",
      "C:\\Users\\danie\\tuWien\\10_semester\\tensorflow\\venv\\Lib\\site-packages\\tensorflow\\lite\\python\\convert.py:947: UserWarning: Statistics for quantized inputs were expected, but not specified; continuing anyway.\n",
      "  warnings.warn(\n"
     ]
    },
    {
     "name": "stdout",
     "output_type": "stream",
     "text": [
      "INFO:tensorflow:Assets written to: C:\\Users\\danie\\AppData\\Local\\Temp\\tmpfzvue6eh\\assets\n"
     ]
    },
    {
     "name": "stderr",
     "output_type": "stream",
     "text": [
      "INFO:tensorflow:Assets written to: C:\\Users\\danie\\AppData\\Local\\Temp\\tmpfzvue6eh\\assets\n",
      "C:\\Users\\danie\\tuWien\\10_semester\\tensorflow\\venv\\Lib\\site-packages\\tensorflow\\lite\\python\\convert.py:947: UserWarning: Statistics for quantized inputs were expected, but not specified; continuing anyway.\n",
      "  warnings.warn(\n"
     ]
    },
    {
     "name": "stdout",
     "output_type": "stream",
     "text": [
      "INFO:tensorflow:Assets written to: C:\\Users\\danie\\AppData\\Local\\Temp\\tmpilkb05k0\\assets\n"
     ]
    },
    {
     "name": "stderr",
     "output_type": "stream",
     "text": [
      "INFO:tensorflow:Assets written to: C:\\Users\\danie\\AppData\\Local\\Temp\\tmpilkb05k0\\assets\n",
      "C:\\Users\\danie\\tuWien\\10_semester\\tensorflow\\venv\\Lib\\site-packages\\tensorflow\\lite\\python\\convert.py:947: UserWarning: Statistics for quantized inputs were expected, but not specified; continuing anyway.\n",
      "  warnings.warn(\n"
     ]
    },
    {
     "name": "stdout",
     "output_type": "stream",
     "text": [
      "INFO:tensorflow:Assets written to: C:\\Users\\danie\\AppData\\Local\\Temp\\tmpmdng68jr\\assets\n"
     ]
    },
    {
     "name": "stderr",
     "output_type": "stream",
     "text": [
      "INFO:tensorflow:Assets written to: C:\\Users\\danie\\AppData\\Local\\Temp\\tmpmdng68jr\\assets\n",
      "C:\\Users\\danie\\tuWien\\10_semester\\tensorflow\\venv\\Lib\\site-packages\\tensorflow\\lite\\python\\convert.py:947: UserWarning: Statistics for quantized inputs were expected, but not specified; continuing anyway.\n",
      "  warnings.warn(\n"
     ]
    },
    {
     "name": "stdout",
     "output_type": "stream",
     "text": [
      "INFO:tensorflow:Assets written to: C:\\Users\\danie\\AppData\\Local\\Temp\\tmpely622n5\\assets\n"
     ]
    },
    {
     "name": "stderr",
     "output_type": "stream",
     "text": [
      "INFO:tensorflow:Assets written to: C:\\Users\\danie\\AppData\\Local\\Temp\\tmpely622n5\\assets\n",
      "C:\\Users\\danie\\tuWien\\10_semester\\tensorflow\\venv\\Lib\\site-packages\\tensorflow\\lite\\python\\convert.py:947: UserWarning: Statistics for quantized inputs were expected, but not specified; continuing anyway.\n",
      "  warnings.warn(\n"
     ]
    },
    {
     "name": "stdout",
     "output_type": "stream",
     "text": [
      "INFO:tensorflow:Assets written to: C:\\Users\\danie\\AppData\\Local\\Temp\\tmp_id0n234\\assets\n"
     ]
    },
    {
     "name": "stderr",
     "output_type": "stream",
     "text": [
      "INFO:tensorflow:Assets written to: C:\\Users\\danie\\AppData\\Local\\Temp\\tmp_id0n234\\assets\n",
      "C:\\Users\\danie\\tuWien\\10_semester\\tensorflow\\venv\\Lib\\site-packages\\tensorflow\\lite\\python\\convert.py:947: UserWarning: Statistics for quantized inputs were expected, but not specified; continuing anyway.\n",
      "  warnings.warn(\n"
     ]
    },
    {
     "name": "stdout",
     "output_type": "stream",
     "text": [
      "INFO:tensorflow:Assets written to: C:\\Users\\danie\\AppData\\Local\\Temp\\tmp_ittmyak\\assets\n"
     ]
    },
    {
     "name": "stderr",
     "output_type": "stream",
     "text": [
      "INFO:tensorflow:Assets written to: C:\\Users\\danie\\AppData\\Local\\Temp\\tmp_ittmyak\\assets\n",
      "C:\\Users\\danie\\tuWien\\10_semester\\tensorflow\\venv\\Lib\\site-packages\\tensorflow\\lite\\python\\convert.py:947: UserWarning: Statistics for quantized inputs were expected, but not specified; continuing anyway.\n",
      "  warnings.warn(\n"
     ]
    },
    {
     "name": "stdout",
     "output_type": "stream",
     "text": [
      "INFO:tensorflow:Assets written to: C:\\Users\\danie\\AppData\\Local\\Temp\\tmppe8k7uj4\\assets\n"
     ]
    },
    {
     "name": "stderr",
     "output_type": "stream",
     "text": [
      "INFO:tensorflow:Assets written to: C:\\Users\\danie\\AppData\\Local\\Temp\\tmppe8k7uj4\\assets\n",
      "C:\\Users\\danie\\tuWien\\10_semester\\tensorflow\\venv\\Lib\\site-packages\\tensorflow\\lite\\python\\convert.py:947: UserWarning: Statistics for quantized inputs were expected, but not specified; continuing anyway.\n",
      "  warnings.warn(\n"
     ]
    },
    {
     "name": "stdout",
     "output_type": "stream",
     "text": [
      "INFO:tensorflow:Assets written to: C:\\Users\\danie\\AppData\\Local\\Temp\\tmp5h0akb0f\\assets\n"
     ]
    },
    {
     "name": "stderr",
     "output_type": "stream",
     "text": [
      "INFO:tensorflow:Assets written to: C:\\Users\\danie\\AppData\\Local\\Temp\\tmp5h0akb0f\\assets\n",
      "C:\\Users\\danie\\tuWien\\10_semester\\tensorflow\\venv\\Lib\\site-packages\\tensorflow\\lite\\python\\convert.py:947: UserWarning: Statistics for quantized inputs were expected, but not specified; continuing anyway.\n",
      "  warnings.warn(\n"
     ]
    },
    {
     "name": "stdout",
     "output_type": "stream",
     "text": [
      "INFO:tensorflow:Assets written to: C:\\Users\\danie\\AppData\\Local\\Temp\\tmpk3rkdclo\\assets\n"
     ]
    },
    {
     "name": "stderr",
     "output_type": "stream",
     "text": [
      "INFO:tensorflow:Assets written to: C:\\Users\\danie\\AppData\\Local\\Temp\\tmpk3rkdclo\\assets\n",
      "C:\\Users\\danie\\tuWien\\10_semester\\tensorflow\\venv\\Lib\\site-packages\\tensorflow\\lite\\python\\convert.py:947: UserWarning: Statistics for quantized inputs were expected, but not specified; continuing anyway.\n",
      "  warnings.warn(\n"
     ]
    },
    {
     "name": "stdout",
     "output_type": "stream",
     "text": [
      "INFO:tensorflow:Assets written to: C:\\Users\\danie\\AppData\\Local\\Temp\\tmpex0ku9zg\\assets\n"
     ]
    },
    {
     "name": "stderr",
     "output_type": "stream",
     "text": [
      "INFO:tensorflow:Assets written to: C:\\Users\\danie\\AppData\\Local\\Temp\\tmpex0ku9zg\\assets\n",
      "C:\\Users\\danie\\tuWien\\10_semester\\tensorflow\\venv\\Lib\\site-packages\\tensorflow\\lite\\python\\convert.py:947: UserWarning: Statistics for quantized inputs were expected, but not specified; continuing anyway.\n",
      "  warnings.warn(\n"
     ]
    },
    {
     "name": "stdout",
     "output_type": "stream",
     "text": [
      "INFO:tensorflow:Assets written to: C:\\Users\\danie\\AppData\\Local\\Temp\\tmps4q8e8kz\\assets\n"
     ]
    },
    {
     "name": "stderr",
     "output_type": "stream",
     "text": [
      "INFO:tensorflow:Assets written to: C:\\Users\\danie\\AppData\\Local\\Temp\\tmps4q8e8kz\\assets\n",
      "C:\\Users\\danie\\tuWien\\10_semester\\tensorflow\\venv\\Lib\\site-packages\\tensorflow\\lite\\python\\convert.py:947: UserWarning: Statistics for quantized inputs were expected, but not specified; continuing anyway.\n",
      "  warnings.warn(\n"
     ]
    },
    {
     "name": "stdout",
     "output_type": "stream",
     "text": [
      "INFO:tensorflow:Assets written to: C:\\Users\\danie\\AppData\\Local\\Temp\\tmpzh5gsgvf\\assets\n"
     ]
    },
    {
     "name": "stderr",
     "output_type": "stream",
     "text": [
      "INFO:tensorflow:Assets written to: C:\\Users\\danie\\AppData\\Local\\Temp\\tmpzh5gsgvf\\assets\n",
      "C:\\Users\\danie\\tuWien\\10_semester\\tensorflow\\venv\\Lib\\site-packages\\tensorflow\\lite\\python\\convert.py:947: UserWarning: Statistics for quantized inputs were expected, but not specified; continuing anyway.\n",
      "  warnings.warn(\n"
     ]
    },
    {
     "name": "stdout",
     "output_type": "stream",
     "text": [
      "INFO:tensorflow:Assets written to: C:\\Users\\danie\\AppData\\Local\\Temp\\tmpetg_ecg1\\assets\n"
     ]
    },
    {
     "name": "stderr",
     "output_type": "stream",
     "text": [
      "INFO:tensorflow:Assets written to: C:\\Users\\danie\\AppData\\Local\\Temp\\tmpetg_ecg1\\assets\n",
      "C:\\Users\\danie\\tuWien\\10_semester\\tensorflow\\venv\\Lib\\site-packages\\tensorflow\\lite\\python\\convert.py:947: UserWarning: Statistics for quantized inputs were expected, but not specified; continuing anyway.\n",
      "  warnings.warn(\n"
     ]
    },
    {
     "name": "stdout",
     "output_type": "stream",
     "text": [
      "INFO:tensorflow:Assets written to: C:\\Users\\danie\\AppData\\Local\\Temp\\tmprwaq33fl\\assets\n"
     ]
    },
    {
     "name": "stderr",
     "output_type": "stream",
     "text": [
      "INFO:tensorflow:Assets written to: C:\\Users\\danie\\AppData\\Local\\Temp\\tmprwaq33fl\\assets\n",
      "C:\\Users\\danie\\tuWien\\10_semester\\tensorflow\\venv\\Lib\\site-packages\\tensorflow\\lite\\python\\convert.py:947: UserWarning: Statistics for quantized inputs were expected, but not specified; continuing anyway.\n",
      "  warnings.warn(\n"
     ]
    },
    {
     "name": "stdout",
     "output_type": "stream",
     "text": [
      "INFO:tensorflow:Assets written to: C:\\Users\\danie\\AppData\\Local\\Temp\\tmpj9lyd5rh\\assets\n"
     ]
    },
    {
     "name": "stderr",
     "output_type": "stream",
     "text": [
      "INFO:tensorflow:Assets written to: C:\\Users\\danie\\AppData\\Local\\Temp\\tmpj9lyd5rh\\assets\n",
      "C:\\Users\\danie\\tuWien\\10_semester\\tensorflow\\venv\\Lib\\site-packages\\tensorflow\\lite\\python\\convert.py:947: UserWarning: Statistics for quantized inputs were expected, but not specified; continuing anyway.\n",
      "  warnings.warn(\n"
     ]
    },
    {
     "name": "stdout",
     "output_type": "stream",
     "text": [
      "INFO:tensorflow:Assets written to: C:\\Users\\danie\\AppData\\Local\\Temp\\tmp_um8atyp\\assets\n"
     ]
    },
    {
     "name": "stderr",
     "output_type": "stream",
     "text": [
      "INFO:tensorflow:Assets written to: C:\\Users\\danie\\AppData\\Local\\Temp\\tmp_um8atyp\\assets\n",
      "C:\\Users\\danie\\tuWien\\10_semester\\tensorflow\\venv\\Lib\\site-packages\\tensorflow\\lite\\python\\convert.py:947: UserWarning: Statistics for quantized inputs were expected, but not specified; continuing anyway.\n",
      "  warnings.warn(\n"
     ]
    },
    {
     "name": "stdout",
     "output_type": "stream",
     "text": [
      "INFO:tensorflow:Assets written to: C:\\Users\\danie\\AppData\\Local\\Temp\\tmpi6j8zfw6\\assets\n"
     ]
    },
    {
     "name": "stderr",
     "output_type": "stream",
     "text": [
      "INFO:tensorflow:Assets written to: C:\\Users\\danie\\AppData\\Local\\Temp\\tmpi6j8zfw6\\assets\n",
      "C:\\Users\\danie\\tuWien\\10_semester\\tensorflow\\venv\\Lib\\site-packages\\tensorflow\\lite\\python\\convert.py:947: UserWarning: Statistics for quantized inputs were expected, but not specified; continuing anyway.\n",
      "  warnings.warn(\n"
     ]
    },
    {
     "name": "stdout",
     "output_type": "stream",
     "text": [
      "INFO:tensorflow:Assets written to: C:\\Users\\danie\\AppData\\Local\\Temp\\tmp8vr6bmon\\assets\n"
     ]
    },
    {
     "name": "stderr",
     "output_type": "stream",
     "text": [
      "INFO:tensorflow:Assets written to: C:\\Users\\danie\\AppData\\Local\\Temp\\tmp8vr6bmon\\assets\n",
      "C:\\Users\\danie\\tuWien\\10_semester\\tensorflow\\venv\\Lib\\site-packages\\tensorflow\\lite\\python\\convert.py:947: UserWarning: Statistics for quantized inputs were expected, but not specified; continuing anyway.\n",
      "  warnings.warn(\n"
     ]
    },
    {
     "name": "stdout",
     "output_type": "stream",
     "text": [
      "INFO:tensorflow:Assets written to: C:\\Users\\danie\\AppData\\Local\\Temp\\tmptc9ztp3_\\assets\n"
     ]
    },
    {
     "name": "stderr",
     "output_type": "stream",
     "text": [
      "INFO:tensorflow:Assets written to: C:\\Users\\danie\\AppData\\Local\\Temp\\tmptc9ztp3_\\assets\n",
      "C:\\Users\\danie\\tuWien\\10_semester\\tensorflow\\venv\\Lib\\site-packages\\tensorflow\\lite\\python\\convert.py:947: UserWarning: Statistics for quantized inputs were expected, but not specified; continuing anyway.\n",
      "  warnings.warn(\n"
     ]
    },
    {
     "name": "stdout",
     "output_type": "stream",
     "text": [
      "INFO:tensorflow:Assets written to: C:\\Users\\danie\\AppData\\Local\\Temp\\tmphzn_8_88\\assets\n"
     ]
    },
    {
     "name": "stderr",
     "output_type": "stream",
     "text": [
      "INFO:tensorflow:Assets written to: C:\\Users\\danie\\AppData\\Local\\Temp\\tmphzn_8_88\\assets\n",
      "C:\\Users\\danie\\tuWien\\10_semester\\tensorflow\\venv\\Lib\\site-packages\\tensorflow\\lite\\python\\convert.py:947: UserWarning: Statistics for quantized inputs were expected, but not specified; continuing anyway.\n",
      "  warnings.warn(\n"
     ]
    },
    {
     "name": "stdout",
     "output_type": "stream",
     "text": [
      "INFO:tensorflow:Assets written to: C:\\Users\\danie\\AppData\\Local\\Temp\\tmpmeejdfr0\\assets\n"
     ]
    },
    {
     "name": "stderr",
     "output_type": "stream",
     "text": [
      "INFO:tensorflow:Assets written to: C:\\Users\\danie\\AppData\\Local\\Temp\\tmpmeejdfr0\\assets\n",
      "C:\\Users\\danie\\tuWien\\10_semester\\tensorflow\\venv\\Lib\\site-packages\\tensorflow\\lite\\python\\convert.py:947: UserWarning: Statistics for quantized inputs were expected, but not specified; continuing anyway.\n",
      "  warnings.warn(\n"
     ]
    },
    {
     "name": "stdout",
     "output_type": "stream",
     "text": [
      "INFO:tensorflow:Assets written to: C:\\Users\\danie\\AppData\\Local\\Temp\\tmpn4slk90s\\assets\n"
     ]
    },
    {
     "name": "stderr",
     "output_type": "stream",
     "text": [
      "INFO:tensorflow:Assets written to: C:\\Users\\danie\\AppData\\Local\\Temp\\tmpn4slk90s\\assets\n",
      "C:\\Users\\danie\\tuWien\\10_semester\\tensorflow\\venv\\Lib\\site-packages\\tensorflow\\lite\\python\\convert.py:947: UserWarning: Statistics for quantized inputs were expected, but not specified; continuing anyway.\n",
      "  warnings.warn(\n"
     ]
    },
    {
     "name": "stdout",
     "output_type": "stream",
     "text": [
      "INFO:tensorflow:Assets written to: C:\\Users\\danie\\AppData\\Local\\Temp\\tmps6tpeiqa\\assets\n"
     ]
    },
    {
     "name": "stderr",
     "output_type": "stream",
     "text": [
      "INFO:tensorflow:Assets written to: C:\\Users\\danie\\AppData\\Local\\Temp\\tmps6tpeiqa\\assets\n",
      "C:\\Users\\danie\\tuWien\\10_semester\\tensorflow\\venv\\Lib\\site-packages\\tensorflow\\lite\\python\\convert.py:947: UserWarning: Statistics for quantized inputs were expected, but not specified; continuing anyway.\n",
      "  warnings.warn(\n"
     ]
    },
    {
     "name": "stdout",
     "output_type": "stream",
     "text": [
      "INFO:tensorflow:Assets written to: C:\\Users\\danie\\AppData\\Local\\Temp\\tmpothxv1fu\\assets\n"
     ]
    },
    {
     "name": "stderr",
     "output_type": "stream",
     "text": [
      "INFO:tensorflow:Assets written to: C:\\Users\\danie\\AppData\\Local\\Temp\\tmpothxv1fu\\assets\n",
      "C:\\Users\\danie\\tuWien\\10_semester\\tensorflow\\venv\\Lib\\site-packages\\tensorflow\\lite\\python\\convert.py:947: UserWarning: Statistics for quantized inputs were expected, but not specified; continuing anyway.\n",
      "  warnings.warn(\n"
     ]
    },
    {
     "name": "stdout",
     "output_type": "stream",
     "text": [
      "INFO:tensorflow:Assets written to: C:\\Users\\danie\\AppData\\Local\\Temp\\tmpj355w2mm\\assets\n"
     ]
    },
    {
     "name": "stderr",
     "output_type": "stream",
     "text": [
      "INFO:tensorflow:Assets written to: C:\\Users\\danie\\AppData\\Local\\Temp\\tmpj355w2mm\\assets\n",
      "C:\\Users\\danie\\tuWien\\10_semester\\tensorflow\\venv\\Lib\\site-packages\\tensorflow\\lite\\python\\convert.py:947: UserWarning: Statistics for quantized inputs were expected, but not specified; continuing anyway.\n",
      "  warnings.warn(\n"
     ]
    },
    {
     "name": "stdout",
     "output_type": "stream",
     "text": [
      "INFO:tensorflow:Assets written to: C:\\Users\\danie\\AppData\\Local\\Temp\\tmpw1lxnujc\\assets\n"
     ]
    },
    {
     "name": "stderr",
     "output_type": "stream",
     "text": [
      "INFO:tensorflow:Assets written to: C:\\Users\\danie\\AppData\\Local\\Temp\\tmpw1lxnujc\\assets\n",
      "C:\\Users\\danie\\tuWien\\10_semester\\tensorflow\\venv\\Lib\\site-packages\\tensorflow\\lite\\python\\convert.py:947: UserWarning: Statistics for quantized inputs were expected, but not specified; continuing anyway.\n",
      "  warnings.warn(\n"
     ]
    },
    {
     "name": "stdout",
     "output_type": "stream",
     "text": [
      "INFO:tensorflow:Assets written to: C:\\Users\\danie\\AppData\\Local\\Temp\\tmpp5fbj1gy\\assets\n"
     ]
    },
    {
     "name": "stderr",
     "output_type": "stream",
     "text": [
      "INFO:tensorflow:Assets written to: C:\\Users\\danie\\AppData\\Local\\Temp\\tmpp5fbj1gy\\assets\n",
      "C:\\Users\\danie\\tuWien\\10_semester\\tensorflow\\venv\\Lib\\site-packages\\tensorflow\\lite\\python\\convert.py:947: UserWarning: Statistics for quantized inputs were expected, but not specified; continuing anyway.\n",
      "  warnings.warn(\n"
     ]
    },
    {
     "name": "stdout",
     "output_type": "stream",
     "text": [
      "INFO:tensorflow:Assets written to: C:\\Users\\danie\\AppData\\Local\\Temp\\tmpy8cxzmlu\\assets\n"
     ]
    },
    {
     "name": "stderr",
     "output_type": "stream",
     "text": [
      "INFO:tensorflow:Assets written to: C:\\Users\\danie\\AppData\\Local\\Temp\\tmpy8cxzmlu\\assets\n",
      "C:\\Users\\danie\\tuWien\\10_semester\\tensorflow\\venv\\Lib\\site-packages\\tensorflow\\lite\\python\\convert.py:947: UserWarning: Statistics for quantized inputs were expected, but not specified; continuing anyway.\n",
      "  warnings.warn(\n"
     ]
    },
    {
     "name": "stdout",
     "output_type": "stream",
     "text": [
      "INFO:tensorflow:Assets written to: C:\\Users\\danie\\AppData\\Local\\Temp\\tmprnacm0gg\\assets\n"
     ]
    },
    {
     "name": "stderr",
     "output_type": "stream",
     "text": [
      "INFO:tensorflow:Assets written to: C:\\Users\\danie\\AppData\\Local\\Temp\\tmprnacm0gg\\assets\n",
      "C:\\Users\\danie\\tuWien\\10_semester\\tensorflow\\venv\\Lib\\site-packages\\tensorflow\\lite\\python\\convert.py:947: UserWarning: Statistics for quantized inputs were expected, but not specified; continuing anyway.\n",
      "  warnings.warn(\n"
     ]
    },
    {
     "name": "stdout",
     "output_type": "stream",
     "text": [
      "INFO:tensorflow:Assets written to: C:\\Users\\danie\\AppData\\Local\\Temp\\tmp4ic1o6dr\\assets\n"
     ]
    },
    {
     "name": "stderr",
     "output_type": "stream",
     "text": [
      "INFO:tensorflow:Assets written to: C:\\Users\\danie\\AppData\\Local\\Temp\\tmp4ic1o6dr\\assets\n",
      "C:\\Users\\danie\\tuWien\\10_semester\\tensorflow\\venv\\Lib\\site-packages\\tensorflow\\lite\\python\\convert.py:947: UserWarning: Statistics for quantized inputs were expected, but not specified; continuing anyway.\n",
      "  warnings.warn(\n"
     ]
    },
    {
     "name": "stdout",
     "output_type": "stream",
     "text": [
      "INFO:tensorflow:Assets written to: C:\\Users\\danie\\AppData\\Local\\Temp\\tmpzruk368s\\assets\n"
     ]
    },
    {
     "name": "stderr",
     "output_type": "stream",
     "text": [
      "INFO:tensorflow:Assets written to: C:\\Users\\danie\\AppData\\Local\\Temp\\tmpzruk368s\\assets\n",
      "C:\\Users\\danie\\tuWien\\10_semester\\tensorflow\\venv\\Lib\\site-packages\\tensorflow\\lite\\python\\convert.py:947: UserWarning: Statistics for quantized inputs were expected, but not specified; continuing anyway.\n",
      "  warnings.warn(\n"
     ]
    },
    {
     "name": "stdout",
     "output_type": "stream",
     "text": [
      "INFO:tensorflow:Assets written to: C:\\Users\\danie\\AppData\\Local\\Temp\\tmpl2xbzid1\\assets\n"
     ]
    },
    {
     "name": "stderr",
     "output_type": "stream",
     "text": [
      "INFO:tensorflow:Assets written to: C:\\Users\\danie\\AppData\\Local\\Temp\\tmpl2xbzid1\\assets\n",
      "C:\\Users\\danie\\tuWien\\10_semester\\tensorflow\\venv\\Lib\\site-packages\\tensorflow\\lite\\python\\convert.py:947: UserWarning: Statistics for quantized inputs were expected, but not specified; continuing anyway.\n",
      "  warnings.warn(\n"
     ]
    },
    {
     "name": "stdout",
     "output_type": "stream",
     "text": [
      "INFO:tensorflow:Assets written to: C:\\Users\\danie\\AppData\\Local\\Temp\\tmpdf0n7qn1\\assets\n"
     ]
    },
    {
     "name": "stderr",
     "output_type": "stream",
     "text": [
      "INFO:tensorflow:Assets written to: C:\\Users\\danie\\AppData\\Local\\Temp\\tmpdf0n7qn1\\assets\n",
      "C:\\Users\\danie\\tuWien\\10_semester\\tensorflow\\venv\\Lib\\site-packages\\tensorflow\\lite\\python\\convert.py:947: UserWarning: Statistics for quantized inputs were expected, but not specified; continuing anyway.\n",
      "  warnings.warn(\n"
     ]
    },
    {
     "name": "stdout",
     "output_type": "stream",
     "text": [
      "INFO:tensorflow:Assets written to: C:\\Users\\danie\\AppData\\Local\\Temp\\tmpxw7w5453\\assets\n"
     ]
    },
    {
     "name": "stderr",
     "output_type": "stream",
     "text": [
      "INFO:tensorflow:Assets written to: C:\\Users\\danie\\AppData\\Local\\Temp\\tmpxw7w5453\\assets\n",
      "C:\\Users\\danie\\tuWien\\10_semester\\tensorflow\\venv\\Lib\\site-packages\\tensorflow\\lite\\python\\convert.py:947: UserWarning: Statistics for quantized inputs were expected, but not specified; continuing anyway.\n",
      "  warnings.warn(\n"
     ]
    },
    {
     "name": "stdout",
     "output_type": "stream",
     "text": [
      "INFO:tensorflow:Assets written to: C:\\Users\\danie\\AppData\\Local\\Temp\\tmp5ukgj2rt\\assets\n"
     ]
    },
    {
     "name": "stderr",
     "output_type": "stream",
     "text": [
      "INFO:tensorflow:Assets written to: C:\\Users\\danie\\AppData\\Local\\Temp\\tmp5ukgj2rt\\assets\n",
      "C:\\Users\\danie\\tuWien\\10_semester\\tensorflow\\venv\\Lib\\site-packages\\tensorflow\\lite\\python\\convert.py:947: UserWarning: Statistics for quantized inputs were expected, but not specified; continuing anyway.\n",
      "  warnings.warn(\n"
     ]
    },
    {
     "name": "stdout",
     "output_type": "stream",
     "text": [
      "INFO:tensorflow:Assets written to: C:\\Users\\danie\\AppData\\Local\\Temp\\tmp9nv0cv2a\\assets\n"
     ]
    },
    {
     "name": "stderr",
     "output_type": "stream",
     "text": [
      "INFO:tensorflow:Assets written to: C:\\Users\\danie\\AppData\\Local\\Temp\\tmp9nv0cv2a\\assets\n",
      "C:\\Users\\danie\\tuWien\\10_semester\\tensorflow\\venv\\Lib\\site-packages\\tensorflow\\lite\\python\\convert.py:947: UserWarning: Statistics for quantized inputs were expected, but not specified; continuing anyway.\n",
      "  warnings.warn(\n"
     ]
    },
    {
     "name": "stdout",
     "output_type": "stream",
     "text": [
      "INFO:tensorflow:Assets written to: C:\\Users\\danie\\AppData\\Local\\Temp\\tmproheqgwr\\assets\n"
     ]
    },
    {
     "name": "stderr",
     "output_type": "stream",
     "text": [
      "INFO:tensorflow:Assets written to: C:\\Users\\danie\\AppData\\Local\\Temp\\tmproheqgwr\\assets\n",
      "C:\\Users\\danie\\tuWien\\10_semester\\tensorflow\\venv\\Lib\\site-packages\\tensorflow\\lite\\python\\convert.py:947: UserWarning: Statistics for quantized inputs were expected, but not specified; continuing anyway.\n",
      "  warnings.warn(\n"
     ]
    },
    {
     "name": "stdout",
     "output_type": "stream",
     "text": [
      "INFO:tensorflow:Assets written to: C:\\Users\\danie\\AppData\\Local\\Temp\\tmp9m6wuw8o\\assets\n"
     ]
    },
    {
     "name": "stderr",
     "output_type": "stream",
     "text": [
      "INFO:tensorflow:Assets written to: C:\\Users\\danie\\AppData\\Local\\Temp\\tmp9m6wuw8o\\assets\n",
      "C:\\Users\\danie\\tuWien\\10_semester\\tensorflow\\venv\\Lib\\site-packages\\tensorflow\\lite\\python\\convert.py:947: UserWarning: Statistics for quantized inputs were expected, but not specified; continuing anyway.\n",
      "  warnings.warn(\n"
     ]
    },
    {
     "name": "stdout",
     "output_type": "stream",
     "text": [
      "INFO:tensorflow:Assets written to: C:\\Users\\danie\\AppData\\Local\\Temp\\tmpaoxw5hka\\assets\n"
     ]
    },
    {
     "name": "stderr",
     "output_type": "stream",
     "text": [
      "INFO:tensorflow:Assets written to: C:\\Users\\danie\\AppData\\Local\\Temp\\tmpaoxw5hka\\assets\n",
      "C:\\Users\\danie\\tuWien\\10_semester\\tensorflow\\venv\\Lib\\site-packages\\tensorflow\\lite\\python\\convert.py:947: UserWarning: Statistics for quantized inputs were expected, but not specified; continuing anyway.\n",
      "  warnings.warn(\n"
     ]
    },
    {
     "name": "stdout",
     "output_type": "stream",
     "text": [
      "INFO:tensorflow:Assets written to: C:\\Users\\danie\\AppData\\Local\\Temp\\tmpevm4ez5g\\assets\n"
     ]
    },
    {
     "name": "stderr",
     "output_type": "stream",
     "text": [
      "INFO:tensorflow:Assets written to: C:\\Users\\danie\\AppData\\Local\\Temp\\tmpevm4ez5g\\assets\n",
      "C:\\Users\\danie\\tuWien\\10_semester\\tensorflow\\venv\\Lib\\site-packages\\tensorflow\\lite\\python\\convert.py:947: UserWarning: Statistics for quantized inputs were expected, but not specified; continuing anyway.\n",
      "  warnings.warn(\n"
     ]
    },
    {
     "name": "stdout",
     "output_type": "stream",
     "text": [
      "INFO:tensorflow:Assets written to: C:\\Users\\danie\\AppData\\Local\\Temp\\tmpj0tn7qow\\assets\n"
     ]
    },
    {
     "name": "stderr",
     "output_type": "stream",
     "text": [
      "INFO:tensorflow:Assets written to: C:\\Users\\danie\\AppData\\Local\\Temp\\tmpj0tn7qow\\assets\n",
      "C:\\Users\\danie\\tuWien\\10_semester\\tensorflow\\venv\\Lib\\site-packages\\tensorflow\\lite\\python\\convert.py:947: UserWarning: Statistics for quantized inputs were expected, but not specified; continuing anyway.\n",
      "  warnings.warn(\n"
     ]
    },
    {
     "name": "stdout",
     "output_type": "stream",
     "text": [
      "INFO:tensorflow:Assets written to: C:\\Users\\danie\\AppData\\Local\\Temp\\tmp307mjyz7\\assets\n"
     ]
    },
    {
     "name": "stderr",
     "output_type": "stream",
     "text": [
      "INFO:tensorflow:Assets written to: C:\\Users\\danie\\AppData\\Local\\Temp\\tmp307mjyz7\\assets\n",
      "C:\\Users\\danie\\tuWien\\10_semester\\tensorflow\\venv\\Lib\\site-packages\\tensorflow\\lite\\python\\convert.py:947: UserWarning: Statistics for quantized inputs were expected, but not specified; continuing anyway.\n",
      "  warnings.warn(\n"
     ]
    },
    {
     "name": "stdout",
     "output_type": "stream",
     "text": [
      "INFO:tensorflow:Assets written to: C:\\Users\\danie\\AppData\\Local\\Temp\\tmpwj1c2to_\\assets\n"
     ]
    },
    {
     "name": "stderr",
     "output_type": "stream",
     "text": [
      "INFO:tensorflow:Assets written to: C:\\Users\\danie\\AppData\\Local\\Temp\\tmpwj1c2to_\\assets\n",
      "C:\\Users\\danie\\tuWien\\10_semester\\tensorflow\\venv\\Lib\\site-packages\\tensorflow\\lite\\python\\convert.py:947: UserWarning: Statistics for quantized inputs were expected, but not specified; continuing anyway.\n",
      "  warnings.warn(\n"
     ]
    },
    {
     "name": "stdout",
     "output_type": "stream",
     "text": [
      "INFO:tensorflow:Assets written to: C:\\Users\\danie\\AppData\\Local\\Temp\\tmpgsd8vv0w\\assets\n"
     ]
    },
    {
     "name": "stderr",
     "output_type": "stream",
     "text": [
      "INFO:tensorflow:Assets written to: C:\\Users\\danie\\AppData\\Local\\Temp\\tmpgsd8vv0w\\assets\n",
      "C:\\Users\\danie\\tuWien\\10_semester\\tensorflow\\venv\\Lib\\site-packages\\tensorflow\\lite\\python\\convert.py:947: UserWarning: Statistics for quantized inputs were expected, but not specified; continuing anyway.\n",
      "  warnings.warn(\n"
     ]
    },
    {
     "name": "stdout",
     "output_type": "stream",
     "text": [
      "INFO:tensorflow:Assets written to: C:\\Users\\danie\\AppData\\Local\\Temp\\tmpzu4r2z2b\\assets\n"
     ]
    },
    {
     "name": "stderr",
     "output_type": "stream",
     "text": [
      "INFO:tensorflow:Assets written to: C:\\Users\\danie\\AppData\\Local\\Temp\\tmpzu4r2z2b\\assets\n",
      "C:\\Users\\danie\\tuWien\\10_semester\\tensorflow\\venv\\Lib\\site-packages\\tensorflow\\lite\\python\\convert.py:947: UserWarning: Statistics for quantized inputs were expected, but not specified; continuing anyway.\n",
      "  warnings.warn(\n"
     ]
    },
    {
     "name": "stdout",
     "output_type": "stream",
     "text": [
      "INFO:tensorflow:Assets written to: C:\\Users\\danie\\AppData\\Local\\Temp\\tmp8wkdie2a\\assets\n"
     ]
    },
    {
     "name": "stderr",
     "output_type": "stream",
     "text": [
      "INFO:tensorflow:Assets written to: C:\\Users\\danie\\AppData\\Local\\Temp\\tmp8wkdie2a\\assets\n",
      "C:\\Users\\danie\\tuWien\\10_semester\\tensorflow\\venv\\Lib\\site-packages\\tensorflow\\lite\\python\\convert.py:947: UserWarning: Statistics for quantized inputs were expected, but not specified; continuing anyway.\n",
      "  warnings.warn(\n"
     ]
    },
    {
     "name": "stdout",
     "output_type": "stream",
     "text": [
      "INFO:tensorflow:Assets written to: C:\\Users\\danie\\AppData\\Local\\Temp\\tmpc1u6r77_\\assets\n"
     ]
    },
    {
     "name": "stderr",
     "output_type": "stream",
     "text": [
      "INFO:tensorflow:Assets written to: C:\\Users\\danie\\AppData\\Local\\Temp\\tmpc1u6r77_\\assets\n",
      "C:\\Users\\danie\\tuWien\\10_semester\\tensorflow\\venv\\Lib\\site-packages\\tensorflow\\lite\\python\\convert.py:947: UserWarning: Statistics for quantized inputs were expected, but not specified; continuing anyway.\n",
      "  warnings.warn(\n"
     ]
    },
    {
     "name": "stdout",
     "output_type": "stream",
     "text": [
      "INFO:tensorflow:Assets written to: C:\\Users\\danie\\AppData\\Local\\Temp\\tmppqcobr7r\\assets\n"
     ]
    },
    {
     "name": "stderr",
     "output_type": "stream",
     "text": [
      "INFO:tensorflow:Assets written to: C:\\Users\\danie\\AppData\\Local\\Temp\\tmppqcobr7r\\assets\n",
      "C:\\Users\\danie\\tuWien\\10_semester\\tensorflow\\venv\\Lib\\site-packages\\tensorflow\\lite\\python\\convert.py:947: UserWarning: Statistics for quantized inputs were expected, but not specified; continuing anyway.\n",
      "  warnings.warn(\n"
     ]
    },
    {
     "name": "stdout",
     "output_type": "stream",
     "text": [
      "INFO:tensorflow:Assets written to: C:\\Users\\danie\\AppData\\Local\\Temp\\tmpr99vo2a4\\assets\n"
     ]
    },
    {
     "name": "stderr",
     "output_type": "stream",
     "text": [
      "INFO:tensorflow:Assets written to: C:\\Users\\danie\\AppData\\Local\\Temp\\tmpr99vo2a4\\assets\n",
      "C:\\Users\\danie\\tuWien\\10_semester\\tensorflow\\venv\\Lib\\site-packages\\tensorflow\\lite\\python\\convert.py:947: UserWarning: Statistics for quantized inputs were expected, but not specified; continuing anyway.\n",
      "  warnings.warn(\n"
     ]
    },
    {
     "name": "stdout",
     "output_type": "stream",
     "text": [
      "INFO:tensorflow:Assets written to: C:\\Users\\danie\\AppData\\Local\\Temp\\tmpxyv2mqlq\\assets\n"
     ]
    },
    {
     "name": "stderr",
     "output_type": "stream",
     "text": [
      "INFO:tensorflow:Assets written to: C:\\Users\\danie\\AppData\\Local\\Temp\\tmpxyv2mqlq\\assets\n",
      "C:\\Users\\danie\\tuWien\\10_semester\\tensorflow\\venv\\Lib\\site-packages\\tensorflow\\lite\\python\\convert.py:947: UserWarning: Statistics for quantized inputs were expected, but not specified; continuing anyway.\n",
      "  warnings.warn(\n"
     ]
    },
    {
     "name": "stdout",
     "output_type": "stream",
     "text": [
      "INFO:tensorflow:Assets written to: C:\\Users\\danie\\AppData\\Local\\Temp\\tmpm33b1cwy\\assets\n"
     ]
    },
    {
     "name": "stderr",
     "output_type": "stream",
     "text": [
      "INFO:tensorflow:Assets written to: C:\\Users\\danie\\AppData\\Local\\Temp\\tmpm33b1cwy\\assets\n",
      "C:\\Users\\danie\\tuWien\\10_semester\\tensorflow\\venv\\Lib\\site-packages\\tensorflow\\lite\\python\\convert.py:947: UserWarning: Statistics for quantized inputs were expected, but not specified; continuing anyway.\n",
      "  warnings.warn(\n"
     ]
    },
    {
     "name": "stdout",
     "output_type": "stream",
     "text": [
      "INFO:tensorflow:Assets written to: C:\\Users\\danie\\AppData\\Local\\Temp\\tmp4k9uco5o\\assets\n"
     ]
    },
    {
     "name": "stderr",
     "output_type": "stream",
     "text": [
      "INFO:tensorflow:Assets written to: C:\\Users\\danie\\AppData\\Local\\Temp\\tmp4k9uco5o\\assets\n",
      "C:\\Users\\danie\\tuWien\\10_semester\\tensorflow\\venv\\Lib\\site-packages\\tensorflow\\lite\\python\\convert.py:947: UserWarning: Statistics for quantized inputs were expected, but not specified; continuing anyway.\n",
      "  warnings.warn(\n"
     ]
    },
    {
     "name": "stdout",
     "output_type": "stream",
     "text": [
      "INFO:tensorflow:Assets written to: C:\\Users\\danie\\AppData\\Local\\Temp\\tmpw3wd3si2\\assets\n"
     ]
    },
    {
     "name": "stderr",
     "output_type": "stream",
     "text": [
      "INFO:tensorflow:Assets written to: C:\\Users\\danie\\AppData\\Local\\Temp\\tmpw3wd3si2\\assets\n",
      "C:\\Users\\danie\\tuWien\\10_semester\\tensorflow\\venv\\Lib\\site-packages\\tensorflow\\lite\\python\\convert.py:947: UserWarning: Statistics for quantized inputs were expected, but not specified; continuing anyway.\n",
      "  warnings.warn(\n"
     ]
    },
    {
     "name": "stdout",
     "output_type": "stream",
     "text": [
      "INFO:tensorflow:Assets written to: C:\\Users\\danie\\AppData\\Local\\Temp\\tmpmmthvls6\\assets\n"
     ]
    },
    {
     "name": "stderr",
     "output_type": "stream",
     "text": [
      "INFO:tensorflow:Assets written to: C:\\Users\\danie\\AppData\\Local\\Temp\\tmpmmthvls6\\assets\n",
      "C:\\Users\\danie\\tuWien\\10_semester\\tensorflow\\venv\\Lib\\site-packages\\tensorflow\\lite\\python\\convert.py:947: UserWarning: Statistics for quantized inputs were expected, but not specified; continuing anyway.\n",
      "  warnings.warn(\n"
     ]
    },
    {
     "name": "stdout",
     "output_type": "stream",
     "text": [
      "INFO:tensorflow:Assets written to: C:\\Users\\danie\\AppData\\Local\\Temp\\tmp6l6vqou0\\assets\n"
     ]
    },
    {
     "name": "stderr",
     "output_type": "stream",
     "text": [
      "INFO:tensorflow:Assets written to: C:\\Users\\danie\\AppData\\Local\\Temp\\tmp6l6vqou0\\assets\n",
      "C:\\Users\\danie\\tuWien\\10_semester\\tensorflow\\venv\\Lib\\site-packages\\tensorflow\\lite\\python\\convert.py:947: UserWarning: Statistics for quantized inputs were expected, but not specified; continuing anyway.\n",
      "  warnings.warn(\n"
     ]
    },
    {
     "name": "stdout",
     "output_type": "stream",
     "text": [
      "INFO:tensorflow:Assets written to: C:\\Users\\danie\\AppData\\Local\\Temp\\tmp7h0fr2bg\\assets\n"
     ]
    },
    {
     "name": "stderr",
     "output_type": "stream",
     "text": [
      "INFO:tensorflow:Assets written to: C:\\Users\\danie\\AppData\\Local\\Temp\\tmp7h0fr2bg\\assets\n",
      "C:\\Users\\danie\\tuWien\\10_semester\\tensorflow\\venv\\Lib\\site-packages\\tensorflow\\lite\\python\\convert.py:947: UserWarning: Statistics for quantized inputs were expected, but not specified; continuing anyway.\n",
      "  warnings.warn(\n"
     ]
    },
    {
     "name": "stdout",
     "output_type": "stream",
     "text": [
      "INFO:tensorflow:Assets written to: C:\\Users\\danie\\AppData\\Local\\Temp\\tmpm_bjmvto\\assets\n"
     ]
    },
    {
     "name": "stderr",
     "output_type": "stream",
     "text": [
      "INFO:tensorflow:Assets written to: C:\\Users\\danie\\AppData\\Local\\Temp\\tmpm_bjmvto\\assets\n",
      "C:\\Users\\danie\\tuWien\\10_semester\\tensorflow\\venv\\Lib\\site-packages\\tensorflow\\lite\\python\\convert.py:947: UserWarning: Statistics for quantized inputs were expected, but not specified; continuing anyway.\n",
      "  warnings.warn(\n"
     ]
    },
    {
     "name": "stdout",
     "output_type": "stream",
     "text": [
      "INFO:tensorflow:Assets written to: C:\\Users\\danie\\AppData\\Local\\Temp\\tmpb9tas6ih\\assets\n"
     ]
    },
    {
     "name": "stderr",
     "output_type": "stream",
     "text": [
      "INFO:tensorflow:Assets written to: C:\\Users\\danie\\AppData\\Local\\Temp\\tmpb9tas6ih\\assets\n",
      "C:\\Users\\danie\\tuWien\\10_semester\\tensorflow\\venv\\Lib\\site-packages\\tensorflow\\lite\\python\\convert.py:947: UserWarning: Statistics for quantized inputs were expected, but not specified; continuing anyway.\n",
      "  warnings.warn(\n"
     ]
    },
    {
     "name": "stdout",
     "output_type": "stream",
     "text": [
      "INFO:tensorflow:Assets written to: C:\\Users\\danie\\AppData\\Local\\Temp\\tmpgae8vg53\\assets\n"
     ]
    },
    {
     "name": "stderr",
     "output_type": "stream",
     "text": [
      "INFO:tensorflow:Assets written to: C:\\Users\\danie\\AppData\\Local\\Temp\\tmpgae8vg53\\assets\n",
      "C:\\Users\\danie\\tuWien\\10_semester\\tensorflow\\venv\\Lib\\site-packages\\tensorflow\\lite\\python\\convert.py:947: UserWarning: Statistics for quantized inputs were expected, but not specified; continuing anyway.\n",
      "  warnings.warn(\n"
     ]
    },
    {
     "name": "stdout",
     "output_type": "stream",
     "text": [
      "INFO:tensorflow:Assets written to: C:\\Users\\danie\\AppData\\Local\\Temp\\tmpl2k97qdm\\assets\n"
     ]
    },
    {
     "name": "stderr",
     "output_type": "stream",
     "text": [
      "INFO:tensorflow:Assets written to: C:\\Users\\danie\\AppData\\Local\\Temp\\tmpl2k97qdm\\assets\n",
      "C:\\Users\\danie\\tuWien\\10_semester\\tensorflow\\venv\\Lib\\site-packages\\tensorflow\\lite\\python\\convert.py:947: UserWarning: Statistics for quantized inputs were expected, but not specified; continuing anyway.\n",
      "  warnings.warn(\n"
     ]
    },
    {
     "name": "stdout",
     "output_type": "stream",
     "text": [
      "INFO:tensorflow:Assets written to: C:\\Users\\danie\\AppData\\Local\\Temp\\tmpg44yuc8r\\assets\n"
     ]
    },
    {
     "name": "stderr",
     "output_type": "stream",
     "text": [
      "INFO:tensorflow:Assets written to: C:\\Users\\danie\\AppData\\Local\\Temp\\tmpg44yuc8r\\assets\n",
      "C:\\Users\\danie\\tuWien\\10_semester\\tensorflow\\venv\\Lib\\site-packages\\tensorflow\\lite\\python\\convert.py:947: UserWarning: Statistics for quantized inputs were expected, but not specified; continuing anyway.\n",
      "  warnings.warn(\n"
     ]
    },
    {
     "name": "stdout",
     "output_type": "stream",
     "text": [
      "INFO:tensorflow:Assets written to: C:\\Users\\danie\\AppData\\Local\\Temp\\tmp9barx2j2\\assets\n"
     ]
    },
    {
     "name": "stderr",
     "output_type": "stream",
     "text": [
      "INFO:tensorflow:Assets written to: C:\\Users\\danie\\AppData\\Local\\Temp\\tmp9barx2j2\\assets\n",
      "C:\\Users\\danie\\tuWien\\10_semester\\tensorflow\\venv\\Lib\\site-packages\\tensorflow\\lite\\python\\convert.py:947: UserWarning: Statistics for quantized inputs were expected, but not specified; continuing anyway.\n",
      "  warnings.warn(\n"
     ]
    },
    {
     "name": "stdout",
     "output_type": "stream",
     "text": [
      "INFO:tensorflow:Assets written to: C:\\Users\\danie\\AppData\\Local\\Temp\\tmpm2r41tzk\\assets\n"
     ]
    },
    {
     "name": "stderr",
     "output_type": "stream",
     "text": [
      "INFO:tensorflow:Assets written to: C:\\Users\\danie\\AppData\\Local\\Temp\\tmpm2r41tzk\\assets\n",
      "C:\\Users\\danie\\tuWien\\10_semester\\tensorflow\\venv\\Lib\\site-packages\\tensorflow\\lite\\python\\convert.py:947: UserWarning: Statistics for quantized inputs were expected, but not specified; continuing anyway.\n",
      "  warnings.warn(\n"
     ]
    },
    {
     "name": "stdout",
     "output_type": "stream",
     "text": [
      "INFO:tensorflow:Assets written to: C:\\Users\\danie\\AppData\\Local\\Temp\\tmpbt6a1c_n\\assets\n"
     ]
    },
    {
     "name": "stderr",
     "output_type": "stream",
     "text": [
      "INFO:tensorflow:Assets written to: C:\\Users\\danie\\AppData\\Local\\Temp\\tmpbt6a1c_n\\assets\n",
      "C:\\Users\\danie\\tuWien\\10_semester\\tensorflow\\venv\\Lib\\site-packages\\tensorflow\\lite\\python\\convert.py:947: UserWarning: Statistics for quantized inputs were expected, but not specified; continuing anyway.\n",
      "  warnings.warn(\n"
     ]
    },
    {
     "name": "stdout",
     "output_type": "stream",
     "text": [
      "INFO:tensorflow:Assets written to: C:\\Users\\danie\\AppData\\Local\\Temp\\tmpaog5qx62\\assets\n"
     ]
    },
    {
     "name": "stderr",
     "output_type": "stream",
     "text": [
      "INFO:tensorflow:Assets written to: C:\\Users\\danie\\AppData\\Local\\Temp\\tmpaog5qx62\\assets\n",
      "C:\\Users\\danie\\tuWien\\10_semester\\tensorflow\\venv\\Lib\\site-packages\\tensorflow\\lite\\python\\convert.py:947: UserWarning: Statistics for quantized inputs were expected, but not specified; continuing anyway.\n",
      "  warnings.warn(\n"
     ]
    },
    {
     "name": "stdout",
     "output_type": "stream",
     "text": [
      "INFO:tensorflow:Assets written to: C:\\Users\\danie\\AppData\\Local\\Temp\\tmpjgp1aveg\\assets\n"
     ]
    },
    {
     "name": "stderr",
     "output_type": "stream",
     "text": [
      "INFO:tensorflow:Assets written to: C:\\Users\\danie\\AppData\\Local\\Temp\\tmpjgp1aveg\\assets\n",
      "C:\\Users\\danie\\tuWien\\10_semester\\tensorflow\\venv\\Lib\\site-packages\\tensorflow\\lite\\python\\convert.py:947: UserWarning: Statistics for quantized inputs were expected, but not specified; continuing anyway.\n",
      "  warnings.warn(\n"
     ]
    }
   ],
   "source": [
    "print(\"Save partial models\")\n",
    "# skip full model with first and last index\n",
    "for i in tqdm(range(1, 40)):\n",
    "    head, tail = split_functional_model(model, i)\n",
    "    head_quantized = quantize_and_save_model(head, \"head/\" + str(i))\n",
    "    quantize_and_save_model(tail, \"tail/\" + str(i), head_quantized)"
   ],
   "metadata": {
    "collapsed": false,
    "ExecuteTime": {
     "end_time": "2023-11-07T16:52:42.736461600Z",
     "start_time": "2023-11-07T15:13:38.958470Z"
    }
   },
   "id": "b159b3dcb17c335e"
  },
  {
   "cell_type": "code",
   "execution_count": 4,
   "outputs": [
    {
     "ename": "NameError",
     "evalue": "name 'model' is not defined",
     "output_type": "error",
     "traceback": [
      "\u001B[1;31m---------------------------------------------------------------------------\u001B[0m",
      "\u001B[1;31mNameError\u001B[0m                                 Traceback (most recent call last)",
      "Cell \u001B[1;32mIn[4], line 5\u001B[0m\n\u001B[0;32m      3\u001B[0m \u001B[38;5;28;01mfor\u001B[39;00m _ \u001B[38;5;129;01min\u001B[39;00m \u001B[38;5;28mrange\u001B[39m(\u001B[38;5;241m8\u001B[39m):\n\u001B[0;32m      4\u001B[0m     image, label \u001B[38;5;241m=\u001B[39m \u001B[38;5;28mnext\u001B[39m(it)\n\u001B[1;32m----> 5\u001B[0m preds \u001B[38;5;241m=\u001B[39m \u001B[43mmodel\u001B[49m\u001B[38;5;241m.\u001B[39mpredict(tf\u001B[38;5;241m.\u001B[39mstack([image]))\n\u001B[0;32m      6\u001B[0m \u001B[38;5;28mprint\u001B[39m(\u001B[38;5;124m'\u001B[39m\u001B[38;5;124m32 bit fp prediction:\u001B[39m\u001B[38;5;124m'\u001B[39m, mobilenet_v2\u001B[38;5;241m.\u001B[39mdecode_predictions(preds, top\u001B[38;5;241m=\u001B[39m\u001B[38;5;241m5\u001B[39m)[\u001B[38;5;241m0\u001B[39m])\n",
      "\u001B[1;31mNameError\u001B[0m: name 'model' is not defined"
     ]
    }
   ],
   "source": [
    "# prediction on the full 32 bit floating point model\n",
    "it = iter(validation_ds)\n",
    "for _ in range(8):\n",
    "    image, label = next(it)\n",
    "preds = model.predict(tf.stack([image]))\n",
    "print('32 bit fp prediction:', resnet50.decode_predictions(preds, top=5)[0])"
   ],
   "metadata": {
    "collapsed": false,
    "ExecuteTime": {
     "end_time": "2023-11-08T12:24:32.191973500Z",
     "start_time": "2023-11-08T12:24:29.855760300Z"
    }
   },
   "id": "ad68afaba60e14b9"
  },
  {
   "cell_type": "code",
   "execution_count": 10,
   "outputs": [
    {
     "name": "stdout",
     "output_type": "stream",
     "text": [
      "8 bit quantized prediction: [('n02086240', 'Shih-Tzu', 4), ('n02098413', 'Lhasa', -113), ('n02098105', 'soft-coated_wheaten_terrier', -114), ('n02096437', 'Dandie_Dinmont', -123), ('n02088094', 'Afghan_hound', -123)]\n"
     ]
    }
   ],
   "source": [
    "# prediction on the TensorFlow Lite 8 bit quantized model\n",
    "interpreter = tf.lite.Interpreter(model_path=\"models/full.tflite\")\n",
    "interpreter.allocate_tensors()\n",
    "# Get input and output tensors.\n",
    "input_details = interpreter.get_input_details()[0]\n",
    "output_details = interpreter.get_output_details()[0]\n",
    "\n",
    "# convert image to 8 bit\n",
    "input_scale, input_zero_point = input_details[\"quantization\"]\n",
    "test_image = image / input_scale + input_zero_point\n",
    "test_image = np.expand_dims(test_image, axis=0).astype(input_details[\"dtype\"])\n",
    "interpreter.set_tensor(input_details[\"index\"], test_image)\n",
    "\n",
    "interpreter.invoke()\n",
    "\n",
    "# The function `get_tensor()` returns a copy of the tensor data.\n",
    "# Use `tensor()` in order to get a pointer to the tensor.\n",
    "output_data = interpreter.get_tensor(output_details['index'])\n",
    "print('8 bit quantized prediction:', resnet50.decode_predictions(output_data, top=5)[0])"
   ],
   "metadata": {
    "collapsed": false,
    "ExecuteTime": {
     "end_time": "2023-11-07T16:52:44.757449900Z",
     "start_time": "2023-11-07T16:52:44.686690900Z"
    }
   },
   "id": "19e2acd2e410e96f"
  },
  {
   "cell_type": "code",
   "execution_count": 11,
   "outputs": [],
   "source": [
    "def show_results(split_at):\n",
    "    # prediction on the TensorFlow Lite 8 bit split quantized model\n",
    "    head = tf.lite.Interpreter(model_path=\"models/head/\" + str(split_at) + \".tflite\")\n",
    "    tail = tf.lite.Interpreter(model_path=\"models/tail/\" + str(split_at) + \".tflite\")\n",
    "    head.allocate_tensors()\n",
    "    tail.allocate_tensors()\n",
    "\n",
    "    # Get input and output tensors from head network.\n",
    "    input_details = head.get_input_details()[0]\n",
    "    output_details = head.get_output_details()[0]\n",
    "\n",
    "    #convert image\n",
    "    input_scale, input_zero_point = input_details[\"quantization\"]\n",
    "    output_scale, output_zero_point = output_details[\"quantization\"]\n",
    "    test_image = image / input_scale + input_zero_point\n",
    "    test_image = np.expand_dims(test_image, axis=0).astype(input_details[\"dtype\"])\n",
    "\n",
    "    # invoke head network\n",
    "    head.set_tensor(input_details[\"index\"], test_image)\n",
    "    head.invoke()\n",
    "    intermediate = head.get_tensor(output_details['index'])\n",
    "\n",
    "    # rescale tensor\n",
    "    intermediate_float = ((intermediate - output_zero_point) * output_scale).astype(\"float32\")\n",
    "\n",
    "    # Get input and output tensors from tail network and convert tensor.\n",
    "    input_details = tail.get_input_details()[0]\n",
    "    output_details = tail.get_output_details()[0]\n",
    "    input_scale, input_zero_point = input_details[\"quantization\"]\n",
    "    intermediate_int = (intermediate_float / input_scale + input_zero_point).astype(input_details[\"dtype\"])\n",
    "\n",
    "    # invoke tail network\n",
    "    tail.set_tensor(input_details[\"index\"], intermediate_int)\n",
    "    tail.invoke()\n",
    "    output_data = tail.get_tensor(output_details['index'])\n",
    "    print('8 bit split at ' + str(split_at) + ' prediction:', mobilenet_v2.decode_predictions(output_data, top=5)[0])"
   ],
   "metadata": {
    "collapsed": false,
    "ExecuteTime": {
     "end_time": "2023-11-07T16:52:44.757449900Z",
     "start_time": "2023-11-07T16:52:44.733926700Z"
    }
   },
   "id": "a18d73e676710939"
  },
  {
   "cell_type": "code",
   "execution_count": 12,
   "outputs": [
    {
     "name": "stdout",
     "output_type": "stream",
     "text": [
      "8 bit split at 1 prediction: [('n02086240', 'Shih-Tzu', -20), ('n02098105', 'soft-coated_wheaten_terrier', -105), ('n02098413', 'Lhasa', -110), ('n02096177', 'cairn', -121), ('n02090721', 'Irish_wolfhound', -124)]\n",
      "8 bit split at 2 prediction: [('n02086240', 'Shih-Tzu', -91), ('n02098105', 'soft-coated_wheaten_terrier', -102), ('n02090721', 'Irish_wolfhound', -111), ('n02095314', 'wire-haired_fox_terrier', -116), ('n02091635', 'otterhound', -118)]\n",
      "8 bit split at 3 prediction: [('n03598930', 'jigsaw_puzzle', 53), ('n03782006', 'monitor', -114), ('n03661043', 'library', -122), ('n04418357', 'theater_curtain', -125), ('n04548362', 'wallet', -126)]\n",
      "8 bit split at 4 prediction: [('n02086240', 'Shih-Tzu', -36), ('n02098413', 'Lhasa', -107), ('n02098105', 'soft-coated_wheaten_terrier', -115), ('n02096177', 'cairn', -118), ('n02096437', 'Dandie_Dinmont', -119)]\n",
      "8 bit split at 5 prediction: [('n02086240', 'Shih-Tzu', -30), ('n02098105', 'soft-coated_wheaten_terrier', -93), ('n02098413', 'Lhasa', -113), ('n02088094', 'Afghan_hound', -120), ('n02096437', 'Dandie_Dinmont', -123)]\n",
      "8 bit split at 6 prediction: [('n04589890', 'window_screen', -4), ('n03347037', 'fire_screen', -90), ('n04590129', 'window_shade', -122), ('n03530642', 'honeycomb', -122), ('n03691459', 'loudspeaker', -123)]\n",
      "8 bit split at 7 prediction: [('n02086240', 'Shih-Tzu', -35), ('n02098413', 'Lhasa', -102), ('n02098105', 'soft-coated_wheaten_terrier', -114), ('n02088094', 'Afghan_hound', -121), ('n02105251', 'briard', -122)]\n",
      "8 bit split at 8 prediction: [('n02086240', 'Shih-Tzu', -6), ('n02098413', 'Lhasa', -111), ('n02098105', 'soft-coated_wheaten_terrier', -111), ('n02096437', 'Dandie_Dinmont', -120), ('n02088094', 'Afghan_hound', -123)]\n",
      "8 bit split at 9 prediction: [('n02086240', 'Shih-Tzu', 19), ('n02098413', 'Lhasa', -102), ('n02098105', 'soft-coated_wheaten_terrier', -115), ('n02096177', 'cairn', -123), ('n02096437', 'Dandie_Dinmont', -124)]\n",
      "8 bit split at 10 prediction: [('n02086240', 'Shih-Tzu', 3), ('n02098105', 'soft-coated_wheaten_terrier', -106), ('n02098413', 'Lhasa', -108), ('n02096437', 'Dandie_Dinmont', -118), ('n02088094', 'Afghan_hound', -123)]\n",
      "8 bit split at 11 prediction: [('n04152593', 'screen', -74), ('n04404412', 'television', -87), ('n03782006', 'monitor', -92), ('n03598930', 'jigsaw_puzzle', -108), ('n03291819', 'envelope', -122)]\n",
      "8 bit split at 12 prediction: [('n04152593', 'screen', -74), ('n04404412', 'television', -87), ('n03782006', 'monitor', -92), ('n03598930', 'jigsaw_puzzle', -108), ('n03291819', 'envelope', -122)]\n",
      "8 bit split at 13 prediction: [('n02086240', 'Shih-Tzu', 44), ('n02098413', 'Lhasa', -110), ('n02098105', 'soft-coated_wheaten_terrier', -123), ('n02096177', 'cairn', -124), ('n02096437', 'Dandie_Dinmont', -124)]\n",
      "8 bit split at 14 prediction: [('n02086240', 'Shih-Tzu', 8), ('n02098413', 'Lhasa', -112), ('n02098105', 'soft-coated_wheaten_terrier', -121), ('n02096437', 'Dandie_Dinmont', -121), ('n02088094', 'Afghan_hound', -124)]\n",
      "8 bit split at 15 prediction: [('n04591157', 'Windsor_tie', -48), ('n03291819', 'envelope', -82), ('n02834397', 'bib', -108), ('n03485794', 'handkerchief', -108), ('n03938244', 'pillow', -118)]\n",
      "8 bit split at 16 prediction: [('n02086240', 'Shih-Tzu', -18), ('n02098413', 'Lhasa', -109), ('n02098105', 'soft-coated_wheaten_terrier', -111), ('n02096177', 'cairn', -122), ('n02096437', 'Dandie_Dinmont', -122)]\n",
      "8 bit split at 17 prediction: [('n02086240', 'Shih-Tzu', -8), ('n02098105', 'soft-coated_wheaten_terrier', -107), ('n02098413', 'Lhasa', -112), ('n02096177', 'cairn', -122), ('n02096437', 'Dandie_Dinmont', -122)]\n",
      "8 bit split at 18 prediction: [('n02086240', 'Shih-Tzu', -53), ('n02098105', 'soft-coated_wheaten_terrier', -103), ('n02098413', 'Lhasa', -114), ('n02096437', 'Dandie_Dinmont', -118), ('n02096177', 'cairn', -122)]\n",
      "8 bit split at 19 prediction: [('n02086240', 'Shih-Tzu', 16), ('n02098413', 'Lhasa', -109), ('n02098105', 'soft-coated_wheaten_terrier', -112), ('n02088094', 'Afghan_hound', -123), ('n02096437', 'Dandie_Dinmont', -123)]\n",
      "8 bit split at 20 prediction: [('n02086240', 'Shih-Tzu', 3), ('n02098105', 'soft-coated_wheaten_terrier', -109), ('n02098413', 'Lhasa', -112), ('n02096437', 'Dandie_Dinmont', -122), ('n02088094', 'Afghan_hound', -123)]\n",
      "8 bit split at 21 prediction: [('n03761084', 'microwave', -94), ('n01773549', 'barn_spider', -96), ('n04418357', 'theater_curtain', -99), ('n02965783', 'car_mirror', -109), ('n04589890', 'window_screen', -114)]\n",
      "8 bit split at 22 prediction: [('n03761084', 'microwave', -94), ('n01773549', 'barn_spider', -96), ('n04418357', 'theater_curtain', -99), ('n02965783', 'car_mirror', -109), ('n04589890', 'window_screen', -114)]\n",
      "8 bit split at 23 prediction: [('n02086240', 'Shih-Tzu', -26), ('n02098105', 'soft-coated_wheaten_terrier', -102), ('n02098413', 'Lhasa', -111), ('n02096437', 'Dandie_Dinmont', -121), ('n02105251', 'briard', -121)]\n",
      "8 bit split at 24 prediction: [('n02086240', 'Shih-Tzu', 6), ('n02098413', 'Lhasa', -112), ('n02098105', 'soft-coated_wheaten_terrier', -116), ('n02096437', 'Dandie_Dinmont', -121), ('n02096177', 'cairn', -124)]\n",
      "8 bit split at 25 prediction: [('n04239074', 'sliding_door', -8), ('n04589890', 'window_screen', -61), ('n03291819', 'envelope', -124), ('n04591157', 'Windsor_tie', -126), ('n03530642', 'honeycomb', -126)]\n",
      "8 bit split at 26 prediction: [('n02086240', 'Shih-Tzu', -5), ('n02098413', 'Lhasa', -109), ('n02098105', 'soft-coated_wheaten_terrier', -110), ('n02096437', 'Dandie_Dinmont', -121), ('n02097474', 'Tibetan_terrier', -124)]\n",
      "8 bit split at 27 prediction: [('n02086240', 'Shih-Tzu', -25), ('n02098105', 'soft-coated_wheaten_terrier', -99), ('n02098413', 'Lhasa', -112), ('n02096437', 'Dandie_Dinmont', -121), ('n02096177', 'cairn', -123)]\n",
      "8 bit split at 28 prediction: [('n02086240', 'Shih-Tzu', -10), ('n02098413', 'Lhasa', -110), ('n02098105', 'soft-coated_wheaten_terrier', -113), ('n02096437', 'Dandie_Dinmont', -121), ('n02088094', 'Afghan_hound', -122)]\n",
      "8 bit split at 29 prediction: [('n02086240', 'Shih-Tzu', -18), ('n02098105', 'soft-coated_wheaten_terrier', -109), ('n02098413', 'Lhasa', -110), ('n02096437', 'Dandie_Dinmont', -120), ('n02105251', 'briard', -123)]\n",
      "8 bit split at 30 prediction: [('n02086240', 'Shih-Tzu', -7), ('n02098413', 'Lhasa', -111), ('n02098105', 'soft-coated_wheaten_terrier', -114), ('n02096437', 'Dandie_Dinmont', -121), ('n02096177', 'cairn', -122)]\n",
      "8 bit split at 31 prediction: [('n02086240', 'Shih-Tzu', -30), ('n02098105', 'soft-coated_wheaten_terrier', -109), ('n02098413', 'Lhasa', -112), ('n02096437', 'Dandie_Dinmont', -121), ('n02088094', 'Afghan_hound', -121)]\n",
      "8 bit split at 32 prediction: [('n02086240', 'Shih-Tzu', -4), ('n02098413', 'Lhasa', -58), ('n02096437', 'Dandie_Dinmont', -91), ('n02096177', 'cairn', -116), ('n02098105', 'soft-coated_wheaten_terrier', -123)]\n",
      "8 bit split at 33 prediction: [('n02086240', 'Shih-Tzu', -4), ('n02098413', 'Lhasa', -58), ('n02096437', 'Dandie_Dinmont', -91), ('n02096177', 'cairn', -116), ('n02098105', 'soft-coated_wheaten_terrier', -123)]\n",
      "8 bit split at 34 prediction: [('n02086240', 'Shih-Tzu', -12), ('n02098413', 'Lhasa', -112), ('n02098105', 'soft-coated_wheaten_terrier', -114), ('n02096437', 'Dandie_Dinmont', -122), ('n02096177', 'cairn', -123)]\n",
      "8 bit split at 35 prediction: [('n02086240', 'Shih-Tzu', -3), ('n02098105', 'soft-coated_wheaten_terrier', -113), ('n02098413', 'Lhasa', -114), ('n02096177', 'cairn', -122), ('n02096437', 'Dandie_Dinmont', -122)]\n",
      "8 bit split at 36 prediction: [('n03065424', 'coil', -92), ('n04259630', 'sombrero', -104), ('n04120489', 'running_shoe', -116), ('n03482405', 'hamper', -116), ('n04204238', 'shopping_basket', -119)]\n",
      "8 bit split at 37 prediction: [('n02086240', 'Shih-Tzu', 5), ('n02098105', 'soft-coated_wheaten_terrier', -112), ('n02098413', 'Lhasa', -112), ('n02096437', 'Dandie_Dinmont', -122), ('n02096177', 'cairn', -123)]\n",
      "8 bit split at 38 prediction: [('n02086240', 'Shih-Tzu', -12), ('n02098105', 'soft-coated_wheaten_terrier', -110), ('n02098413', 'Lhasa', -112), ('n02096177', 'cairn', -121), ('n02096437', 'Dandie_Dinmont', -122)]\n",
      "8 bit split at 39 prediction: [('n02086240', 'Shih-Tzu', -19), ('n02098105', 'soft-coated_wheaten_terrier', -110), ('n02098413', 'Lhasa', -113), ('n02096437', 'Dandie_Dinmont', -121), ('n02088094', 'Afghan_hound', -122)]\n",
      "8 bit split at 40 prediction: [('n02086240', 'Shih-Tzu', -8), ('n02098413', 'Lhasa', -111), ('n02098105', 'soft-coated_wheaten_terrier', -114), ('n02096437', 'Dandie_Dinmont', -122), ('n02088094', 'Afghan_hound', -122)]\n",
      "8 bit split at 41 prediction: [('n02086240', 'Shih-Tzu', 8), ('n02098413', 'Lhasa', -109), ('n02098105', 'soft-coated_wheaten_terrier', -114), ('n02096437', 'Dandie_Dinmont', -123), ('n02105251', 'briard', -123)]\n",
      "8 bit split at 42 prediction: [('n02086240', 'Shih-Tzu', 1), ('n02098105', 'soft-coated_wheaten_terrier', -110), ('n02098413', 'Lhasa', -116), ('n02088094', 'Afghan_hound', -123), ('n02105251', 'briard', -123)]\n",
      "8 bit split at 43 prediction: [('n02086240', 'Shih-Tzu', 12), ('n02098105', 'soft-coated_wheaten_terrier', -112), ('n02098413', 'Lhasa', -113), ('n02096177', 'cairn', -123), ('n02096437', 'Dandie_Dinmont', -124)]\n",
      "8 bit split at 44 prediction: [('n02090721', 'Irish_wolfhound', 21), ('n02100735', 'English_setter', -69), ('n02095314', 'wire-haired_fox_terrier', -112), ('n02097209', 'standard_schnauzer', -121), ('n02090622', 'borzoi', -123)]\n",
      "8 bit split at 45 prediction: [('n02086240', 'Shih-Tzu', -5), ('n02098105', 'soft-coated_wheaten_terrier', -114), ('n02098413', 'Lhasa', -114), ('n02088094', 'Afghan_hound', -122), ('n02096437', 'Dandie_Dinmont', -123)]\n",
      "8 bit split at 46 prediction: [('n02086240', 'Shih-Tzu', 4), ('n02098413', 'Lhasa', -112), ('n02098105', 'soft-coated_wheaten_terrier', -115), ('n02088094', 'Afghan_hound', -123), ('n02096437', 'Dandie_Dinmont', -123)]\n",
      "8 bit split at 47 prediction: [('n04435653', 'tile_roof', 77), ('n04525038', 'velvet', -105), ('n04418357', 'theater_curtain', -119), ('n03998194', 'prayer_rug', -121), ('n03697007', 'lumbermill', -127)]\n",
      "8 bit split at 48 prediction: [('n02086240', 'Shih-Tzu', 12), ('n02098413', 'Lhasa', -110), ('n02098105', 'soft-coated_wheaten_terrier', -116), ('n02088094', 'Afghan_hound', -122), ('n02096177', 'cairn', -124)]\n",
      "8 bit split at 49 prediction: [('n02086240', 'Shih-Tzu', -2), ('n02098105', 'soft-coated_wheaten_terrier', -111), ('n02098413', 'Lhasa', -113), ('n02105251', 'briard', -123), ('n02096437', 'Dandie_Dinmont', -123)]\n",
      "8 bit split at 50 prediction: [('n02086240', 'Shih-Tzu', 16), ('n02098413', 'Lhasa', -112), ('n02098105', 'soft-coated_wheaten_terrier', -113), ('n02096437', 'Dandie_Dinmont', -123), ('n02088094', 'Afghan_hound', -124)]\n",
      "8 bit split at 51 prediction: [('n02086240', 'Shih-Tzu', 5), ('n02098105', 'soft-coated_wheaten_terrier', -110), ('n02098413', 'Lhasa', -113), ('n02096437', 'Dandie_Dinmont', -123), ('n02105251', 'briard', -123)]\n",
      "8 bit split at 52 prediction: [('n02086240', 'Shih-Tzu', 13), ('n02098105', 'soft-coated_wheaten_terrier', -112), ('n02098413', 'Lhasa', -112), ('n02096177', 'cairn', -123), ('n02096437', 'Dandie_Dinmont', -123)]\n",
      "8 bit split at 53 prediction: [('n02086240', 'Shih-Tzu', 17), ('n02098413', 'Lhasa', -111), ('n02098105', 'soft-coated_wheaten_terrier', -116), ('n02088094', 'Afghan_hound', -123), ('n02096177', 'cairn', -124)]\n",
      "8 bit split at 54 prediction: [('n02090721', 'Irish_wolfhound', -19), ('n02093991', 'Irish_terrier', -104), ('n02098105', 'soft-coated_wheaten_terrier', -106), ('n02096177', 'cairn', -119), ('n02097047', 'miniature_schnauzer', -122)]\n",
      "8 bit split at 55 prediction: [('n02090721', 'Irish_wolfhound', -19), ('n02093991', 'Irish_terrier', -104), ('n02098105', 'soft-coated_wheaten_terrier', -106), ('n02096177', 'cairn', -119), ('n02097047', 'miniature_schnauzer', -122)]\n",
      "8 bit split at 56 prediction: [('n02086240', 'Shih-Tzu', 5), ('n02098413', 'Lhasa', -112), ('n02098105', 'soft-coated_wheaten_terrier', -114), ('n02096437', 'Dandie_Dinmont', -122), ('n02096177', 'cairn', -123)]\n",
      "8 bit split at 57 prediction: [('n02086240', 'Shih-Tzu', 11), ('n02098105', 'soft-coated_wheaten_terrier', -112), ('n02098413', 'Lhasa', -113), ('n02096437', 'Dandie_Dinmont', -123), ('n02088094', 'Afghan_hound', -124)]\n",
      "8 bit split at 58 prediction: [('n07760859', 'custard_apple', -121), ('n02093256', 'Staffordshire_bullterrier', -122), ('n02841315', 'binoculars', -123), ('n03535780', 'horizontal_bar', -124), ('n04476259', 'tray', -124)]\n",
      "8 bit split at 59 prediction: [('n02086240', 'Shih-Tzu', 15), ('n02098413', 'Lhasa', -112), ('n02098105', 'soft-coated_wheaten_terrier', -117), ('n02096177', 'cairn', -123), ('n02096437', 'Dandie_Dinmont', -123)]\n",
      "8 bit split at 60 prediction: [('n02086240', 'Shih-Tzu', 17), ('n02098413', 'Lhasa', -113), ('n02098105', 'soft-coated_wheaten_terrier', -115), ('n02096437', 'Dandie_Dinmont', -123), ('n02088094', 'Afghan_hound', -124)]\n",
      "8 bit split at 61 prediction: [('n02086240', 'Shih-Tzu', 9), ('n02098105', 'soft-coated_wheaten_terrier', -111), ('n02098413', 'Lhasa', -114), ('n02088094', 'Afghan_hound', -122), ('n02096437', 'Dandie_Dinmont', -124)]\n",
      "8 bit split at 62 prediction: [('n02086240', 'Shih-Tzu', 11), ('n02098105', 'soft-coated_wheaten_terrier', -109), ('n02098413', 'Lhasa', -112), ('n02088094', 'Afghan_hound', -123), ('n02096437', 'Dandie_Dinmont', -123)]\n",
      "8 bit split at 63 prediction: [('n02086240', 'Shih-Tzu', 2), ('n02098105', 'soft-coated_wheaten_terrier', -114), ('n02098413', 'Lhasa', -115), ('n02088094', 'Afghan_hound', -122), ('n02105251', 'briard', -124)]\n",
      "8 bit split at 64 prediction: [('n02086240', 'Shih-Tzu', 0), ('n02098105', 'soft-coated_wheaten_terrier', -111), ('n02098413', 'Lhasa', -111), ('n02105251', 'briard', -123), ('n02096437', 'Dandie_Dinmont', -123)]\n",
      "8 bit split at 65 prediction: [('n02086240', 'Shih-Tzu', -39), ('n02098105', 'soft-coated_wheaten_terrier', -81), ('n04404412', 'television', -107), ('n02098413', 'Lhasa', -119), ('n02096177', 'cairn', -119)]\n",
      "8 bit split at 66 prediction: [('n02098105', 'soft-coated_wheaten_terrier', -68), ('n02096177', 'cairn', -92), ('n02086240', 'Shih-Tzu', -95), ('n02098413', 'Lhasa', -104), ('n02088094', 'Afghan_hound', -114)]\n",
      "8 bit split at 67 prediction: [('n02086240', 'Shih-Tzu', 39), ('n02098105', 'soft-coated_wheaten_terrier', -112), ('n02098413', 'Lhasa', -113), ('n02096177', 'cairn', -123), ('n02096437', 'Dandie_Dinmont', -123)]\n",
      "8 bit split at 68 prediction: [('n04162706', 'seat_belt', 16), ('n03956157', 'planetarium', -90), ('n02910353', 'buckle', -107), ('n02091032', 'Italian_greyhound', -120), ('n03249569', 'drum', -122)]\n",
      "8 bit split at 69 prediction: [('n02086240', 'Shih-Tzu', 10), ('n02098413', 'Lhasa', -114), ('n02098105', 'soft-coated_wheaten_terrier', -115), ('n02096437', 'Dandie_Dinmont', -123), ('n02088094', 'Afghan_hound', -123)]\n",
      "8 bit split at 70 prediction: [('n02086240', 'Shih-Tzu', -3), ('n02098413', 'Lhasa', -113), ('n02098105', 'soft-coated_wheaten_terrier', -115), ('n02096437', 'Dandie_Dinmont', -123), ('n02088094', 'Afghan_hound', -123)]\n",
      "8 bit split at 71 prediction: [('n02086240', 'Shih-Tzu', 0), ('n02098105', 'soft-coated_wheaten_terrier', -112), ('n02098413', 'Lhasa', -112), ('n02096437', 'Dandie_Dinmont', -123), ('n02088094', 'Afghan_hound', -123)]\n",
      "8 bit split at 72 prediction: [('n02086240', 'Shih-Tzu', 4), ('n02098105', 'soft-coated_wheaten_terrier', -113), ('n02098413', 'Lhasa', -113), ('n02096437', 'Dandie_Dinmont', -123), ('n02088094', 'Afghan_hound', -123)]\n",
      "8 bit split at 73 prediction: [('n07565083', 'menu', -127), ('n04152593', 'screen', -127), ('n04070727', 'refrigerator', -127), ('n02098105', 'soft-coated_wheaten_terrier', -127), ('n09332890', 'lakeside', -127)]\n",
      "8 bit split at 74 prediction: [('n02086240', 'Shih-Tzu', -38), ('n02098105', 'soft-coated_wheaten_terrier', -103), ('n02098413', 'Lhasa', -120), ('n02105251', 'briard', -120), ('n02096437', 'Dandie_Dinmont', -124)]\n"
     ]
    }
   ],
   "source": [
    "for i in range(1, 40):\n",
    "    show_results(i)"
   ],
   "metadata": {
    "collapsed": false,
    "ExecuteTime": {
     "end_time": "2023-11-07T16:52:47.610589800Z",
     "start_time": "2023-11-07T16:52:44.740488100Z"
    }
   },
   "id": "caaea3186871e942"
  },
  {
   "cell_type": "code",
   "execution_count": 6,
   "outputs": [
    {
     "name": "stdout",
     "output_type": "stream",
     "text": [
      "8 bit split at 30 prediction: [('n02086240', 'Shih-Tzu', -7), ('n02098413', 'Lhasa', -111), ('n02098105', 'soft-coated_wheaten_terrier', -114), ('n02096437', 'Dandie_Dinmont', -121), ('n02096177', 'cairn', -122)]\n"
     ]
    }
   ],
   "source": [
    "# prediction on the TensorFlow Lite 8 bit split quantized model\n",
    "split_at = 30\n",
    "head = tf.lite.Interpreter(model_path=\"models/head/\" + str(split_at) + \".tflite\")\n",
    "tail = tf.lite.Interpreter(model_path=\"models/tail/\" + str(split_at) + \".tflite\")\n",
    "head.allocate_tensors()\n",
    "tail.allocate_tensors()\n",
    "\n",
    "# Get input and output tensors from head network.\n",
    "input_details = head.get_input_details()[0]\n",
    "output_details = head.get_output_details()[0]\n",
    "\n",
    "#convert image\n",
    "input_scale, input_zero_point = input_details[\"quantization\"]\n",
    "output_scale, output_zero_point = output_details[\"quantization\"]\n",
    "test_image = image / input_scale + input_zero_point\n",
    "test_image = np.expand_dims(test_image, axis=0).astype(input_details[\"dtype\"])\n",
    "\n",
    "# invoke head network\n",
    "head.set_tensor(input_details[\"index\"], test_image)\n",
    "head.invoke()\n",
    "intermediate = head.get_tensor(output_details['index'])\n",
    "\n",
    "# rescale tensor\n",
    "intermediate_float = ((intermediate - output_zero_point) * output_scale).astype(\"float32\")\n",
    "\n",
    "# Get input and output tensors from tail network and convert tensor.\n",
    "input_details = tail.get_input_details()[0]\n",
    "output_details = tail.get_output_details()[0]\n",
    "input_scale, input_zero_point = input_details[\"quantization\"]\n",
    "intermediate_int = (intermediate_float / input_scale + input_zero_point).astype(input_details[\"dtype\"])\n",
    "\n",
    "# invoke tail network\n",
    "tail.set_tensor(input_details[\"index\"], intermediate_int)\n",
    "tail.invoke()\n",
    "output_data = tail.get_tensor(output_details['index'])\n",
    "print('8 bit split at ' + str(split_at) + ' prediction:', resnet50.decode_predictions(output_data, top=5)[0])"
   ],
   "metadata": {
    "collapsed": false,
    "ExecuteTime": {
     "end_time": "2023-11-08T12:25:25.786124800Z",
     "start_time": "2023-11-08T12:25:25.688229900Z"
    }
   },
   "id": "6f3f6c25e669b2a4"
  },
  {
   "cell_type": "code",
   "execution_count": 86,
   "outputs": [
    {
     "data": {
      "text/plain": "'n02086240'"
     },
     "execution_count": 86,
     "metadata": {},
     "output_type": "execute_result"
    }
   ],
   "source": [
    "get_label_name(label)"
   ],
   "metadata": {
    "collapsed": false,
    "ExecuteTime": {
     "end_time": "2023-11-08T13:44:10.431968900Z",
     "start_time": "2023-11-08T13:44:10.419980600Z"
    }
   },
   "id": "105724f010791f95"
  },
  {
   "cell_type": "code",
   "execution_count": 90,
   "outputs": [
    {
     "data": {
      "text/plain": "['n02086240', 'n02098413', 'n02098105', 'n02096437', 'n02096177']"
     },
     "execution_count": 90,
     "metadata": {},
     "output_type": "execute_result"
    }
   ],
   "source": [
    "[label_id for label_id, _, _ in resnet50.decode_predictions(output_data, top=5)[0]]"
   ],
   "metadata": {
    "collapsed": false,
    "ExecuteTime": {
     "end_time": "2023-11-08T14:21:25.647068300Z",
     "start_time": "2023-11-08T14:21:25.636077100Z"
    }
   },
   "id": "eb122b478f6e8279"
  },
  {
   "cell_type": "code",
   "execution_count": 89,
   "outputs": [
    {
     "data": {
      "text/plain": "[('n02086240', 'Shih-Tzu', -7),\n ('n02098413', 'Lhasa', -111),\n ('n02098105', 'soft-coated_wheaten_terrier', -114),\n ('n02096437', 'Dandie_Dinmont', -121),\n ('n02096177', 'cairn', -122)]"
     },
     "execution_count": 89,
     "metadata": {},
     "output_type": "execute_result"
    }
   ],
   "source": [
    "resnet50.decode_predictions(output_data, top=5)[0]"
   ],
   "metadata": {
    "collapsed": false,
    "ExecuteTime": {
     "end_time": "2023-11-08T14:21:17.609841800Z",
     "start_time": "2023-11-08T14:21:17.566407900Z"
    }
   },
   "id": "2f5e0fafbe3dfb6d"
  },
  {
   "cell_type": "code",
   "execution_count": 72,
   "outputs": [],
   "source": [
    "serialized_tensor_bytes = tf.io.serialize_tensor(intermediate_float).numpy()"
   ],
   "metadata": {
    "collapsed": false,
    "ExecuteTime": {
     "end_time": "2023-11-08T13:17:17.566075400Z",
     "start_time": "2023-11-08T13:17:17.554557200Z"
    }
   },
   "id": "17d88e2e0ea95e78"
  },
  {
   "cell_type": "code",
   "execution_count": 74,
   "outputs": [],
   "source": [
    "deserialized_tensor = tf.io.parse_tensor(serialized_tensor_bytes, out_type=tf.float32)"
   ],
   "metadata": {
    "collapsed": false,
    "ExecuteTime": {
     "end_time": "2023-11-08T13:18:06.152896500Z",
     "start_time": "2023-11-08T13:18:06.139673900Z"
    }
   },
   "id": "617fbb3503c50db6"
  },
  {
   "cell_type": "code",
   "execution_count": 76,
   "outputs": [
    {
     "data": {
      "text/plain": "<tf.Tensor: shape=(1, 28, 28, 192), dtype=float32, numpy=\narray([[[[ 3.3855433,  0.2604264,  1.8229848, ...,  0.       ,\n           3.1251168,  2.604264 ],\n         [ 5.208528 , -1.5625584, -1.8229848, ..., -1.0417056,\n          -1.302132 , -0.7812792],\n         [ 5.7293806, -2.0834112, -2.8646903, ...,  0.5208528,\n          -2.604264 , -1.5625584],\n         ...,\n         [ 5.4689546, -1.8229848, -3.3855433, ...,  0.7812792,\n          -2.8646903, -1.8229848],\n         [ 5.7293806, -1.8229848, -2.0834112, ..., -0.2604264,\n          -3.1251168, -1.302132 ],\n         [-1.0417056,  2.8646903, -2.604264 , ...,  3.3855433,\n           2.604264 ,  3.3855433]],\n\n        [[ 2.8646903, -1.0417056,  0.2604264, ..., -1.5625584,\n          -2.0834112, -3.906396 ],\n         [ 6.51066  , -1.8229848, -1.302132 , ..., -3.906396 ,\n          -5.208528 , -2.8646903],\n         [ 5.989807 , -2.0834112, -1.5625584, ..., -2.604264 ,\n          -4.427249 , -3.3855433],\n         ...,\n         [ 6.7710867, -2.604264 , -1.8229848, ..., -2.3438377,\n          -5.208528 , -2.604264 ],\n         [ 6.7710867, -1.5625584,  0.       , ..., -2.0834112,\n          -3.3855433, -2.8646903],\n         [ 1.0417056,  0.2604264, -0.7812792, ...,  0.7812792,\n          -3.1251168,  0.       ]],\n\n        [[-0.7812792,  1.302132 , -7.2919393, ..., -4.427249 ,\n          -3.6459696, -8.854498 ],\n         [ 2.0834112, -0.2604264, -7.0315127, ..., -2.8646903,\n          -5.208528 , -6.7710867],\n         [ 2.0834112,  0.       , -7.552366 , ..., -0.7812792,\n          -4.6876755, -6.51066  ],\n         ...,\n         [ 4.427249 ,  0.2604264, -5.4689546, ...,  1.0417056,\n          -3.6459696, -2.0834112],\n         [ 6.51066  ,  0.       , -2.0834112, ...,  2.604264 ,\n          -3.6459696, -1.8229848],\n         [ 0.5208528,  2.0834112, -0.7812792, ...,  1.0417056,\n           0.       , -0.7812792]],\n\n        ...,\n\n        [[ 4.9481015,  0.2604264, -1.5625584, ..., -1.8229848,\n          -2.0834112, -7.552366 ],\n         [ 6.2502337, -0.5208528, -3.1251168, ..., -2.0834112,\n          -4.1668224, -4.9481015],\n         [ 5.989807 ,  0.2604264, -3.6459696, ..., -1.0417056,\n          -3.6459696, -4.427249 ],\n         ...,\n         [ 7.2919393, -0.2604264, -3.1251168, ..., -0.5208528,\n          -4.6876755, -4.1668224],\n         [ 5.989807 , -0.2604264, -1.8229848, ..., -1.0417056,\n          -3.906396 , -4.9481015],\n         [ 1.8229848,  1.5625584, -2.8646903, ...,  1.0417056,\n          -2.3438377, -3.906396 ]],\n\n        [[ 4.6876755, -1.302132 ,  0.5208528, ..., -0.2604264,\n          -1.5625584, -3.1251168],\n         [ 6.51066  , -1.302132 , -1.302132 , ..., -1.302132 ,\n          -3.6459696, -1.5625584],\n         [ 7.0315127, -1.5625584, -1.5625584, ..., -0.2604264,\n          -3.3855433, -1.8229848],\n         ...,\n         [ 7.2919393, -1.5625584, -1.5625584, ..., -0.2604264,\n          -3.6459696, -1.5625584],\n         [ 6.51066  , -0.7812792,  0.2604264, ..., -0.2604264,\n          -2.8646903, -2.0834112],\n         [ 2.3438377,  0.5208528, -0.5208528, ...,  2.3438377,\n          -0.7812792,  1.302132 ]],\n\n        [[-2.3438377,  1.302132 , -4.6876755, ...,  0.5208528,\n           3.3855433,  2.604264 ],\n         [ 0.2604264, -0.7812792, -3.3855433, ..., -0.7812792,\n          -2.0834112, -0.7812792],\n         [ 0.7812792, -0.7812792, -3.1251168, ..., -0.5208528,\n          -1.5625584, -1.302132 ],\n         ...,\n         [ 0.7812792, -0.7812792, -2.8646903, ..., -0.5208528,\n          -1.302132 , -1.302132 ],\n         [ 1.0417056, -0.5208528, -1.5625584, ...,  0.5208528,\n          -1.5625584, -1.302132 ],\n         [-4.1668224,  4.6876755,  1.8229848, ...,  1.8229848,\n           7.812792 ,  8.594071 ]]]], dtype=float32)>"
     },
     "execution_count": 76,
     "metadata": {},
     "output_type": "execute_result"
    }
   ],
   "source": [
    "deserialized_tensor"
   ],
   "metadata": {
    "collapsed": false,
    "ExecuteTime": {
     "end_time": "2023-11-08T13:18:50.715421400Z",
     "start_time": "2023-11-08T13:18:50.702982600Z"
    }
   },
   "id": "ce9346b6e3a775eb"
  }
 ],
 "metadata": {
  "kernelspec": {
   "display_name": "Python 3",
   "language": "python",
   "name": "python3"
  },
  "language_info": {
   "codemirror_mode": {
    "name": "ipython",
    "version": 2
   },
   "file_extension": ".py",
   "mimetype": "text/x-python",
   "name": "python",
   "nbconvert_exporter": "python",
   "pygments_lexer": "ipython2",
   "version": "2.7.6"
  }
 },
 "nbformat": 4,
 "nbformat_minor": 5
}
