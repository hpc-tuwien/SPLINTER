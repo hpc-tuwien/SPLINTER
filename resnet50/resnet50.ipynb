{
 "cells": [
  {
   "cell_type": "code",
   "execution_count": null,
   "id": "initial_id",
   "metadata": {
    "collapsed": true
   },
   "outputs": [],
   "source": [
    "import numpy as np\n",
    "import tensorflow as tf\n",
    "from keras.applications.resnet50 import ResNet50\n",
    "from keras.applications.resnet50 import preprocess_input, decode_predictions\n",
    "from keras.preprocessing import image\n",
    "from keras.utils import plot_model"
   ]
  },
  {
   "cell_type": "code",
   "execution_count": null,
   "outputs": [],
   "source": [
    "from matplotlib import pyplot as plt\n",
    "\n",
    "model = ResNet50(weights='imagenet')\n",
    "\n",
    "img_path = \"..\\\\turtle.jpg\"\"\"\n",
    "img = image.load_img(img_path, target_size=(224, 224), keep_aspect_ratio=True)\n",
    "x = image.img_to_array(img)\n",
    "x = np.expand_dims(x, axis=0)\n",
    "x = tf.convert_to_tensor(preprocess_input(x))\n",
    "\n",
    "preds = model.predict(x)\n",
    "\n",
    "# decode the results into a list of tuples (class, description, probability)\n",
    "# (one such list for each sample in the batch)\n",
    "print('Predicted:', decode_predictions(preds, top=1)[0])\n",
    "plt.figure()\n",
    "plt.imshow(img)\n",
    "plt.axis('off')\n",
    "plt.title(\"turtle\")\n",
    "plt.show()"
   ],
   "metadata": {
    "collapsed": false
   },
   "id": "51164cc71c03be39"
  },
  {
   "cell_type": "code",
   "execution_count": null,
   "outputs": [],
   "source": [
    "model.summary()"
   ],
   "metadata": {
    "collapsed": false
   },
   "id": "4c976446724c2917"
  },
  {
   "cell_type": "code",
   "execution_count": null,
   "outputs": [],
   "source": [
    "plot_model(model, show_layer_names=True, show_shapes=True, show_layer_activations=True)"
   ],
   "metadata": {
    "collapsed": false
   },
   "id": "9f3ff9267b344fc7"
  },
  {
   "cell_type": "code",
   "execution_count": null,
   "outputs": [],
   "source": [
    "model.summary()"
   ],
   "metadata": {
    "collapsed": false
   },
   "id": "d339dee1a87966e6"
  },
  {
   "cell_type": "code",
   "execution_count": null,
   "outputs": [],
   "source": [
    "for i in range(len(model.layers)):\n",
    "    print(str(i) + \":\", model.get_layer(index=i))"
   ],
   "metadata": {
    "collapsed": false
   },
   "id": "4b64bb52a7850736"
  },
  {
   "cell_type": "code",
   "execution_count": null,
   "outputs": [],
   "source": [
    "from resnet50.utils import split_functional_model\n",
    "\n",
    "head, tail = split_functional_model(model, 7)"
   ],
   "metadata": {
    "collapsed": false
   },
   "id": "6307bec47daf3cf2"
  },
  {
   "cell_type": "code",
   "execution_count": null,
   "outputs": [],
   "source": [
    "plot_model(head, show_layer_names=True, show_shapes=True)"
   ],
   "metadata": {
    "collapsed": false
   },
   "id": "bd35a5f5ddc41bee"
  },
  {
   "cell_type": "code",
   "execution_count": null,
   "outputs": [],
   "source": [
    "plot_model(tail, show_layer_names=True, show_shapes=True)"
   ],
   "metadata": {
    "collapsed": false
   },
   "id": "ae6358eb5769676e"
  },
  {
   "cell_type": "code",
   "execution_count": null,
   "outputs": [],
   "source": [
    "inter = head.predict(x)\n",
    "out = tail.predict(inter)\n",
    "print('Predicted:', decode_predictions(preds, top=5)[0])\n",
    "print('Predicted:', decode_predictions(out, top=5)[0])"
   ],
   "metadata": {
    "collapsed": false
   },
   "id": "d281e504d24ba85"
  },
  {
   "cell_type": "code",
   "execution_count": null,
   "outputs": [],
   "source": [
    "def representative_dataset():\n",
    "    for _ in range(100):\n",
    "        data = np.random.rand(1, 224, 224, 3)\n",
    "        yield [data.astype(np.float32)]\n"
   ],
   "metadata": {
    "collapsed": false
   },
   "id": "2cb4a7fcf14c3dd1"
  },
  {
   "cell_type": "code",
   "execution_count": null,
   "outputs": [],
   "source": [
    "# Convert the model.\n",
    "converter = tf.lite.TFLiteConverter.from_keras_model(model)\n",
    "converter.optimizations = [tf.lite.Optimize.DEFAULT]\n",
    "converter.representative_dataset = representative_dataset\n",
    "converter.target_spec.supported_ops = [tf.lite.OpsSet.TFLITE_BUILTINS_INT8]\n",
    "converter.inference_input_type = tf.int8  # or tf.uint8\n",
    "converter.inference_output_type = tf.int8  # or tf.uint8\n",
    "tflite_model = converter.convert()\n",
    "\n",
    "# Save the model.\n",
    "with open('full_model.tflite', 'wb') as f:\n",
    "    f.write(tflite_model)"
   ],
   "metadata": {
    "collapsed": false
   },
   "id": "d3ba9173d6e17a33"
  },
  {
   "cell_type": "code",
   "execution_count": null,
   "outputs": [],
   "source": [
    "interpreter = tf.lite.Interpreter(model_content=tflite_model)\n",
    "interpreter.allocate_tensors()"
   ],
   "metadata": {
    "collapsed": false
   },
   "id": "da1d5cee68b61efd"
  },
  {
   "cell_type": "code",
   "execution_count": null,
   "outputs": [],
   "source": [
    "# Get input and output tensors.\n",
    "input_details = interpreter.get_input_details()\n",
    "output_details = interpreter.get_output_details()\n",
    "\n",
    "# Test the model on random input data.\n",
    "input_shape = input_details[0]['shape']\n",
    "#input_data = np.array(np.random.random_sample(input_shape), dtype=np.int8)\n",
    "input_data = tf.image.convert_image_dtype(x, dtype=tf.int8)\n",
    "interpreter.set_tensor(input_details[0]['index'], input_data)\n",
    "\n",
    "interpreter.invoke()\n",
    "\n",
    "# The function `get_tensor()` returns a copy of the tensor data.\n",
    "# Use `tensor()` in order to get a pointer to the tensor.\n",
    "output_data = interpreter.get_tensor(output_details[0]['index'])\n",
    "print('Predicted:', decode_predictions(output_data, top=5)[0])"
   ],
   "metadata": {
    "collapsed": false
   },
   "id": "39be69160236b0e6"
  },
  {
   "cell_type": "code",
   "execution_count": null,
   "outputs": [],
   "source": [
    "plt.figure()\n",
    "plt.imshow(input_data[0])\n",
    "plt.axis('off')\n",
    "plt.title(\"turtle\")\n",
    "plt.show()"
   ],
   "metadata": {
    "collapsed": false
   },
   "id": "f007e4bbced6511c"
  }
 ],
 "metadata": {
  "kernelspec": {
   "display_name": "Python 3",
   "language": "python",
   "name": "python3"
  },
  "language_info": {
   "codemirror_mode": {
    "name": "ipython",
    "version": 2
   },
   "file_extension": ".py",
   "mimetype": "text/x-python",
   "name": "python",
   "nbconvert_exporter": "python",
   "pygments_lexer": "ipython2",
   "version": "2.7.6"
  }
 },
 "nbformat": 4,
 "nbformat_minor": 5
}
